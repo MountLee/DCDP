{
 "cells": [
  {
   "cell_type": "code",
   "execution_count": 1,
   "metadata": {},
   "outputs": [],
   "source": [
    "import numpy as np\n",
    "import matplotlib.pyplot as plt\n",
    "import scipy.stats as stats\n",
    "import random\n",
    "\n",
    "import itertools\n",
    "\n",
    "from cpd_utils import *\n",
    "import changeforest\n",
    "\n",
    "import time\n",
    "import bisect\n",
    "\n",
    "import pandas as pd"
   ]
  },
  {
   "cell_type": "markdown",
   "metadata": {},
   "source": [
    "# ChangeForest"
   ]
  },
  {
   "cell_type": "code",
   "execution_count": 2,
   "metadata": {},
   "outputs": [],
   "source": [
    "def generate_data_covariance(n, T, theta):\n",
    "    p = theta.shape[1]\n",
    "    y_train_joint = np.concatenate([\n",
    "        np.random.multivariate_normal(mean = np.zeros(p), cov = theta[i], size = n[i]) \n",
    "        for i in range(T)], axis = 0)\n",
    "#     y_train_joint = y_train.reshape((-1, p, p))\n",
    "    nt = len(y_train_joint)\n",
    "    \n",
    "    return nt, y_train_joint"
   ]
  },
  {
   "cell_type": "markdown",
   "metadata": {},
   "source": [
    "Signal too weak"
   ]
  },
  {
   "cell_type": "code",
   "execution_count": 21,
   "metadata": {},
   "outputs": [],
   "source": [
    "T = 4\n",
    "Delta = 500\n",
    "n = np.array([Delta] * T)\n",
    "cp_truth = np.cumsum(n)[:T-1]\n",
    "\n",
    "p = 5\n",
    "theta = np.zeros((T, p, p))\n",
    "theta[0] = np.eye(p)\n",
    "\n",
    "rho = 0.1\n",
    "theta[1] = (1 - rho) * np.eye(p) + rho * np.ones((p, p))\n",
    "\n",
    "rho = -0.1\n",
    "theta[2] = (1 - rho) * np.eye(p) + rho * np.ones((p, p))\n",
    "\n",
    "theta[3] = np.eye(p)\n",
    "\n",
    "diff = np.zeros(T - 1)\n",
    "for t in range(1, T):\n",
    "    diff[t - 1] = np.sum(np.abs(theta[t] - theta[t - 1])**2)**0.5\n",
    "\n",
    "nt, Y_train = generate_data_covariance(n, T, theta)\n",
    "nt, Y_test = generate_data_covariance(n, T, theta)"
   ]
  },
  {
   "cell_type": "code",
   "execution_count": 22,
   "metadata": {
    "scrolled": true
   },
   "outputs": [
    {
     "data": {
      "text/plain": [
       "(2000, 5)"
      ]
     },
     "execution_count": 22,
     "metadata": {},
     "output_type": "execute_result"
    }
   ],
   "source": [
    "theta.shape\n",
    "Y_train.shape"
   ]
  },
  {
   "cell_type": "code",
   "execution_count": 23,
   "metadata": {},
   "outputs": [],
   "source": [
    "result = changeforest.changeforest(Y_train, \"random_forest\", \"bs\")"
   ]
  },
  {
   "cell_type": "code",
   "execution_count": 24,
   "metadata": {
    "scrolled": true
   },
   "outputs": [
    {
     "data": {
      "text/plain": [
       "[]"
      ]
     },
     "execution_count": 24,
     "metadata": {},
     "output_type": "execute_result"
    }
   ],
   "source": [
    "result.split_points()"
   ]
  },
  {
   "cell_type": "code",
   "execution_count": 25,
   "metadata": {},
   "outputs": [
    {
     "data": {
      "text/plain": [
       "[OptimizerResult(start=0, stop=2000, best_split=1110, max_gain=-0.2455368062755241)]"
      ]
     },
     "execution_count": 25,
     "metadata": {},
     "output_type": "execute_result"
    }
   ],
   "source": [
    "result.segments"
   ]
  },
  {
   "cell_type": "markdown",
   "metadata": {},
   "source": [
    "Reasonable SNR"
   ]
  },
  {
   "cell_type": "code",
   "execution_count": 26,
   "metadata": {},
   "outputs": [],
   "source": [
    "T = 4\n",
    "Delta = 500\n",
    "n = np.array([Delta] * T)\n",
    "cp_truth = np.cumsum(n)[:T-1]\n",
    "\n",
    "p = 5\n",
    "theta = np.zeros((T, p, p))\n",
    "theta[0] = np.eye(p)\n",
    "\n",
    "rho = 0.3\n",
    "theta[1] = np.eye(p)\n",
    "for i in range(1, p):\n",
    "    theta[1][i, i - 1] = rho\n",
    "    theta[1][i - 1, i] = rho\n",
    "\n",
    "rho = -0.3\n",
    "theta[2] = np.eye(p)\n",
    "for i in range(1, p):\n",
    "    theta[2][i, i - 1] = rho\n",
    "    theta[2][i - 1, i] = rho\n",
    "\n",
    "theta[3] = np.eye(p)\n",
    "\n",
    "diff = np.zeros(T - 1)\n",
    "for t in range(1, T):\n",
    "    diff[t - 1] = np.sum(np.abs(theta[t] - theta[t - 1])**2)**0.5\n",
    "\n",
    "nt, Y_train = generate_data_covariance(n, T, theta)\n",
    "nt, Y_test = generate_data_covariance(n, T, theta)"
   ]
  },
  {
   "cell_type": "code",
   "execution_count": 27,
   "metadata": {
    "scrolled": true
   },
   "outputs": [
    {
     "data": {
      "text/plain": [
       "(2000, 5)"
      ]
     },
     "execution_count": 27,
     "metadata": {},
     "output_type": "execute_result"
    }
   ],
   "source": [
    "theta.shape\n",
    "Y_train.shape"
   ]
  },
  {
   "cell_type": "code",
   "execution_count": 28,
   "metadata": {},
   "outputs": [],
   "source": [
    "result = changeforest.changeforest(Y_train, \"random_forest\", \"bs\")"
   ]
  },
  {
   "cell_type": "code",
   "execution_count": 29,
   "metadata": {
    "scrolled": true
   },
   "outputs": [
    {
     "data": {
      "text/plain": [
       "[521, 1015, 1482, 1840]"
      ]
     },
     "execution_count": 29,
     "metadata": {},
     "output_type": "execute_result"
    }
   ],
   "source": [
    "result.split_points()"
   ]
  },
  {
   "cell_type": "code",
   "execution_count": 11,
   "metadata": {
    "scrolled": false
   },
   "outputs": [
    {
     "data": {
      "text/plain": [
       "[OptimizerResult(start=0, stop=2000, best_split=20, max_gain=-22.48981242489963)]"
      ]
     },
     "execution_count": 11,
     "metadata": {},
     "output_type": "execute_result"
    }
   ],
   "source": [
    "result.segments"
   ]
  }
 ],
 "metadata": {
  "kernelspec": {
   "display_name": "Python 3",
   "language": "python",
   "name": "python3"
  },
  "language_info": {
   "codemirror_mode": {
    "name": "ipython",
    "version": 3
   },
   "file_extension": ".py",
   "mimetype": "text/x-python",
   "name": "python",
   "nbconvert_exporter": "python",
   "pygments_lexer": "ipython3",
   "version": "3.7.4"
  }
 },
 "nbformat": 4,
 "nbformat_minor": 2
}
