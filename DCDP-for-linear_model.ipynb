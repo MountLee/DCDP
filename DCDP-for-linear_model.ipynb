{
 "cells": [
  {
   "cell_type": "code",
   "execution_count": 1,
   "metadata": {},
   "outputs": [],
   "source": [
    "import numpy as np\n",
    "import matplotlib.pyplot as plt\n",
    "import scipy.stats as stats\n",
    "import random\n",
    "\n",
    "import itertools\n",
    "\n",
    "from cpd_utils import *\n",
    "\n",
    "import time\n",
    "import bisect\n",
    "\n",
    "import pandas as pd\n",
    "\n",
    "import statsmodels.api as sm\n",
    "from sklearn import linear_model\n",
    "\n",
    "from warnings import simplefilter\n",
    "from sklearn.exceptions import ConvergenceWarning\n",
    "simplefilter(\"ignore\", category=ConvergenceWarning)"
   ]
  },
  {
   "cell_type": "code",
   "execution_count": 2,
   "metadata": {},
   "outputs": [],
   "source": [
    "def generate_data_linear(n, T, beta):\n",
    "    \n",
    "    def linear(X, beta):\n",
    "        beta = beta.reshape((-1,1))\n",
    "        return X @ beta\n",
    "    \n",
    "    p = len(beta[0])\n",
    "    X_train = [np.random.normal(0,1,(n[i],p)) for i in range(T)]\n",
    "    y_train = np.concatenate([linear(X_train[i], beta[i]) for i in range(T)], axis = 0)\n",
    "    \n",
    "    X_train = np.concatenate(X_train)\n",
    "    X_train_joint = X_train.reshape((-1, p))\n",
    "    y_train_joint = y_train.reshape((-1, 1))\n",
    "    nt = len(y_train_joint)\n",
    "    \n",
    "    return nt, y_train_joint, X_train_joint"
   ]
  },
  {
   "cell_type": "markdown",
   "metadata": {},
   "source": [
    "----------------------------"
   ]
  },
  {
   "cell_type": "markdown",
   "metadata": {},
   "source": [
    "# DCDP"
   ]
  },
  {
   "cell_type": "code",
   "execution_count": 4,
   "metadata": {
    "scrolled": false
   },
   "outputs": [
    {
     "name": "stdout",
     "output_type": "stream",
     "text": [
      "[4.         6.92820323 8.        ]\n",
      "---------- divide and conquer -----------\n",
      "avg loc error: 0.0, avg time: 9.607640147209167\n",
      "best parameter: (0.1, 1000)\n"
     ]
    }
   ],
   "source": [
    "T = 4\n",
    "Delta = 500\n",
    "n = np.array([Delta] * T)\n",
    "cp_truth = np.cumsum(n)[:T-1]\n",
    "\n",
    "p = 100\n",
    "beta = np.zeros((T, p))\n",
    "s = 6\n",
    "beta[0] = np.array([2,2,2,2,0,0] + [0] * (p - s))\n",
    "beta[1] = np.array([0,0,2,2,2,2] + [0] * (p - s))\n",
    "beta[2] = np.array([4,4,4,4,0,0] + [0] * (p - s))\n",
    "beta[3] = np.array([0,0,4,4,4,4] + [0] * (p - s))\n",
    "\n",
    "diff = np.zeros(T - 1)\n",
    "for t in range(1, T):\n",
    "    diff[t - 1] = np.sum(np.abs(beta[t] - beta[t - 1])**2)**0.5\n",
    "print(diff)\n",
    "\n",
    "nt, Y_train, X_train = generate_data_linear(n, T, beta)\n",
    "nt, Y_test, X_test = generate_data_linear(n, T, beta)\n",
    "\n",
    "grid_n = 100\n",
    "gamma_list = [1000]\n",
    "# gamma_list = [1, 2]\n",
    "lam_list = [0.1]\n",
    "\n",
    "B = 2\n",
    "run_time_d = np.zeros(B)\n",
    "run_time_dc = np.zeros(B)\n",
    "\n",
    "loc_error_d = np.zeros(B)\n",
    "loc_error_dc = np.zeros(B)\n",
    "\n",
    "print('---------- divide and conquer -----------')\n",
    "for b in range(B):\n",
    "    start_time = time.time()\n",
    "    dcdp_fit = dcdp_cv_random_linear(grid_n, lam_list, gamma_list)\n",
    "    cp_best, param_best, cp_best_cand = dcdp_fit.fit((Y_train, X_train), (Y_test, X_test))\n",
    "    loc_error_dc[b] = cp_distance(cp_best, cp_truth)\n",
    "    run_time_dc[b] = time.time() - start_time\n",
    "\n",
    "print(\"avg loc error: {0}, avg time: {1}\".format(loc_error_dc.mean(), run_time_dc.mean()))\n",
    "print(\"best parameter: {0}\".format(param_best))"
   ]
  },
  {
   "cell_type": "code",
   "execution_count": 5,
   "metadata": {
    "scrolled": true
   },
   "outputs": [
    {
     "name": "stdout",
     "output_type": "stream",
     "text": [
      "[500, 1000, 1500]\n",
      "[ 488 1017 1509]\n"
     ]
    }
   ],
   "source": [
    "print(cp_best)\n",
    "print(cp_best_cand )"
   ]
  },
  {
   "cell_type": "code",
   "execution_count": null,
   "metadata": {},
   "outputs": [],
   "source": []
  },
  {
   "cell_type": "code",
   "execution_count": 4,
   "metadata": {
    "scrolled": false
   },
   "outputs": [
    {
     "name": "stdout",
     "output_type": "stream",
     "text": [
      "[4.         6.92820323 8.        ]\n",
      "---------- divide and conquer -----------\n",
      "avg loc error: 0.0, avg time: 33.71454405784607\n",
      "best parameter: (0.1, 1000)\n"
     ]
    }
   ],
   "source": [
    "T = 4\n",
    "Delta = 500\n",
    "n = np.array([Delta] * T)\n",
    "cp_truth = np.cumsum(n)[:T-1]\n",
    "\n",
    "p = 100\n",
    "beta = np.zeros((T, p))\n",
    "s = 6\n",
    "beta[0] = np.array([2,2,2,2,0,0] + [0] * (p - s))\n",
    "beta[1] = np.array([0,0,2,2,2,2] + [0] * (p - s))\n",
    "beta[2] = np.array([4,4,4,4,0,0] + [0] * (p - s))\n",
    "beta[3] = np.array([0,0,4,4,4,4] + [0] * (p - s))\n",
    "\n",
    "diff = np.zeros(T - 1)\n",
    "for t in range(1, T):\n",
    "    diff[t - 1] = np.sum(np.abs(beta[t] - beta[t - 1])**2)**0.5\n",
    "print(diff)\n",
    "\n",
    "nt, Y_train, X_train = generate_data_linear(n, T, beta)\n",
    "nt, Y_test, X_test = generate_data_linear(n, T, beta)\n",
    "\n",
    "grid_n = 100\n",
    "gamma_list = [1000, 2000]\n",
    "# gamma_list = [1, 2]\n",
    "lam_list = [0.1]\n",
    "\n",
    "B = 2\n",
    "run_time_d = np.zeros(B)\n",
    "run_time_dc = np.zeros(B)\n",
    "\n",
    "loc_error_d = np.zeros(B)\n",
    "loc_error_dc = np.zeros(B)\n",
    "\n",
    "print('---------- divide and conquer -----------')\n",
    "for b in range(B):\n",
    "    start_time = time.time()\n",
    "    dcdp_fit = dcdp_cv_random_linear(grid_n, lam_list, gamma_list)\n",
    "    cp_best, param_best, cp_best_cand = dcdp_fit.fit((Y_train, X_train), (Y_test, X_test))\n",
    "    loc_error_dc[b] = cp_distance(cp_best, cp_truth)\n",
    "    run_time_dc[b] = time.time() - start_time\n",
    "\n",
    "print(\"avg loc error: {0}, avg time: {1}\".format(loc_error_dc.mean(), run_time_dc.mean()))\n",
    "print(\"best parameter: {0}\".format(param_best))"
   ]
  },
  {
   "cell_type": "code",
   "execution_count": 5,
   "metadata": {
    "scrolled": true
   },
   "outputs": [
    {
     "name": "stdout",
     "output_type": "stream",
     "text": [
      "[500, 1000, 1500]\n",
      "[ 496  997 1504]\n"
     ]
    }
   ],
   "source": [
    "print(cp_best)\n",
    "print(cp_best_cand )"
   ]
  },
  {
   "cell_type": "code",
   "execution_count": null,
   "metadata": {
    "scrolled": true
   },
   "outputs": [],
   "source": [
    "[1/3 * 500, 1/3 * 500 + 2/3 * 993]"
   ]
  },
  {
   "cell_type": "code",
   "execution_count": null,
   "metadata": {},
   "outputs": [],
   "source": [
    "# dcdp_fit = dcdp_cv_random_linear(grid_n, lam_list, gamma_list)"
   ]
  },
  {
   "cell_type": "code",
   "execution_count": null,
   "metadata": {},
   "outputs": [],
   "source": [
    "loc_min, loss_list, loc_list = dcdp_fit.screen_cp_test((Y_train, X_train), 166, 828)"
   ]
  },
  {
   "cell_type": "code",
   "execution_count": null,
   "metadata": {},
   "outputs": [],
   "source": [
    "plt.plot(loc_list, loss_list)"
   ]
  },
  {
   "cell_type": "code",
   "execution_count": null,
   "metadata": {},
   "outputs": [],
   "source": [
    "[2/3 * 500 + 1/3 * 993, 1/3 * 993 + 2/3 * 1499]"
   ]
  },
  {
   "cell_type": "code",
   "execution_count": null,
   "metadata": {},
   "outputs": [],
   "source": [
    "loc_min, loss_list, loc_list = dcdp_fit.screen_cp_test((Y_train, X_train), 664, 1330)"
   ]
  },
  {
   "cell_type": "code",
   "execution_count": null,
   "metadata": {},
   "outputs": [],
   "source": [
    "plt.plot(loc_list, loss_list)"
   ]
  },
  {
   "cell_type": "code",
   "execution_count": null,
   "metadata": {},
   "outputs": [],
   "source": [
    "plt.hist(loc_error_dc, alpha = 0.5)\n",
    "plt.hist(loc_error_d, alpha = 0.5)"
   ]
  },
  {
   "cell_type": "code",
   "execution_count": null,
   "metadata": {},
   "outputs": [],
   "source": []
  },
  {
   "cell_type": "code",
   "execution_count": null,
   "metadata": {},
   "outputs": [],
   "source": []
  },
  {
   "cell_type": "code",
   "execution_count": null,
   "metadata": {},
   "outputs": [],
   "source": []
  },
  {
   "cell_type": "markdown",
   "metadata": {},
   "source": [
    "## Check performance with repetition"
   ]
  },
  {
   "cell_type": "code",
   "execution_count": 6,
   "metadata": {
    "scrolled": false
   },
   "outputs": [
    {
     "name": "stdout",
     "output_type": "stream",
     "text": [
      "[4.         6.92820323 8.        ]\n",
      "---------- only divide -----------\n",
      "avg loc error: 57.7, avg time: 47.11009874343872\n",
      "---------- divide and conquer -----------\n",
      "avg loc error: 2.1, avg time: 124.29094331264496\n"
     ]
    }
   ],
   "source": [
    "T = 4\n",
    "Delta = 2000\n",
    "n = np.array([Delta] * T)\n",
    "cp_truth = np.cumsum(n)[:T-1]\n",
    "\n",
    "p = 100\n",
    "beta = np.zeros((T, p))\n",
    "s = 6\n",
    "beta[0] = np.array([2,2,2,2,0,0] + [0] * (p - s))\n",
    "beta[1] = np.array([0,0,2,2,2,2] + [0] * (p - s))\n",
    "beta[2] = np.array([4,4,4,4,0,0] + [0] * (p - s))\n",
    "beta[3] = np.array([0,0,4,4,4,4] + [0] * (p - s))\n",
    "\n",
    "# inflation_beta = 2\n",
    "# beta = np.stack([inflation_beta * np.random.normal(0,1,p) for _ in range(T)])\n",
    "\n",
    "diff = np.zeros(T - 1)\n",
    "for t in range(1, T):\n",
    "    diff[t - 1] = np.sum(np.abs(beta[t] - beta[t - 1])**2)**0.5\n",
    "print(diff)\n",
    "\n",
    "nt, Y_train, X_train = generate_data_linear(n, T, beta)\n",
    "nt, Y_test, X_test = generate_data_linear(n, T, beta)\n",
    "\n",
    "grid_n = 100\n",
    "gamma_list = [2000, 4000]\n",
    "# gamma_list = [1, 2]\n",
    "lam_list = [0.1]\n",
    "\n",
    "B = 10\n",
    "run_time_d = np.zeros(B)\n",
    "run_time_dc = np.zeros(B)\n",
    "\n",
    "loc_error_d = np.zeros(B)\n",
    "loc_error_dc = np.zeros(B)\n",
    "\n",
    "print('---------- only divide -----------')\n",
    "\n",
    "for b in range(B):\n",
    "    start_time = time.time()\n",
    "    dp_fit = dp_cv_random_linear(grid_n, lam_list, gamma_list)\n",
    "    cp_best, param_best = dp_fit.fit((Y_train, X_train), (Y_test, X_test))\n",
    "    run_time_d[b] = time.time() - start_time\n",
    "    loc_error_d[b] = cp_distance(cp_best, cp_truth)\n",
    "    \n",
    "\n",
    "print(\"avg loc error: {0}, avg time: {1}\".format(loc_error_d.mean(), run_time_d.mean()))\n",
    "\n",
    "print('---------- divide and conquer -----------')\n",
    "for b in range(B):\n",
    "    start_time = time.time()\n",
    "    dcdp_fit = dcdp_cv_random_linear(grid_n, lam_list, gamma_list)\n",
    "    cp_best, param_best, cp_best_cand = dcdp_fit.fit((Y_train, X_train), (Y_test, X_test))\n",
    "    loc_error_dc[b] = cp_distance(cp_best, cp_truth)\n",
    "    run_time_dc[b] = time.time() - start_time\n",
    "\n",
    "print(\"avg loc error: {0}, avg time: {1}\".format(loc_error_dc.mean(), run_time_dc.mean()))"
   ]
  },
  {
   "cell_type": "code",
   "execution_count": null,
   "metadata": {},
   "outputs": [],
   "source": [
    "plt.hist(loc_error_dc, alpha = 0.5)\n",
    "plt.hist(loc_error_d, alpha = 0.5)"
   ]
  },
  {
   "cell_type": "markdown",
   "metadata": {},
   "source": [
    "## Check run_time and loc_error w.r.t. Q_grid"
   ]
  },
  {
   "cell_type": "code",
   "execution_count": null,
   "metadata": {},
   "outputs": [],
   "source": [
    "T = 4\n",
    "Delta = 500\n",
    "n = np.array([Delta] * T)\n",
    "cp_truth = np.cumsum(n)[:T-1]\n",
    "\n",
    "p = 100\n",
    "beta = np.zeros((T, p))\n",
    "s = 6\n",
    "beta[0] = np.array([2,2,2,2,0,0] + [0] * (p - s))\n",
    "beta[1] = np.array([0,0,2,2,2,2] + [0] * (p - s))\n",
    "beta[2] = np.array([4,4,4,4,0,0] + [0] * (p - s))\n",
    "beta[3] = np.array([0,0,4,4,4,4] + [0] * (p - s))\n",
    "\n",
    "diff = np.zeros(T - 1)\n",
    "for t in range(1, T):\n",
    "    diff[t - 1] = np.sum((beta[t] - beta[t - 1])**2)**0.5\n",
    "print(diff)\n",
    "\n",
    "nt, Y_train, X_train = generate_data_linear(n, T, beta)\n",
    "nt, Y_test, X_test = generate_data_linear(n, T, beta)\n",
    "\n",
    "Q_grid_list = [25,50,75,100,125,150,175,200]\n",
    "Q = len(Q_grid_list)\n",
    "\n",
    "gamma_list = [1000, 2000]\n",
    "lam_list = [0.1]\n",
    "\n",
    "B = 20\n",
    "\n",
    "run_time_d = np.zeros((Q,B))\n",
    "run_time_dc = np.zeros((Q,B))\n",
    "\n",
    "loc_error_d = np.zeros((Q,B))\n",
    "loc_error_dc = np.zeros((Q,B))\n",
    "\n",
    "for q, grid_n in enumerate(Q_grid_list):\n",
    "    for b in range(B):\n",
    "        start_time = time.time()\n",
    "        dp_fit = dp_cv_random_linear(grid_n, lam_list, gamma_list)\n",
    "        cp_best, param_best = dp_fit.fit((Y_train, X_train), (Y_test, X_test))\n",
    "        run_time_d[q, b] = time.time() - start_time\n",
    "        loc_error_d[q, b] = cp_distance(cp_best, cp_truth)\n",
    "\n",
    "        start_time = time.time()\n",
    "        dcdp_fit = dcdp_cv_random_linear(grid_n, lam_list, gamma_list)\n",
    "        cp_best, param_best, cp_best_cand = dcdp_fit.fit((Y_train, X_train), (Y_test, X_test))\n",
    "        run_time_dc[q, b] = time.time() - start_time\n",
    "        loc_error_dc[q, b] = cp_distance(cp_best, cp_truth)\n",
    "    print(q)"
   ]
  },
  {
   "cell_type": "code",
   "execution_count": null,
   "metadata": {},
   "outputs": [],
   "source": [
    "import pickle\n",
    "with open('Q_time_error_big_gamma_Delta500_linear_p100.pickle', 'wb') as f:\n",
    "    pickle.dump([beta, (Y_train, X_train), (Y_test, X_test), Delta, n, Q_grid_list, lam_list,\n",
    "                 gamma_list, run_time_d, run_time_dc, loc_error_d, loc_error_dc], f)"
   ]
  },
  {
   "cell_type": "code",
   "execution_count": null,
   "metadata": {},
   "outputs": [],
   "source": [
    "# objects = []\n",
    "# with (open(\"Q_time_error_1.pickle\", \"rb\")) as openfile:\n",
    "#     while True:\n",
    "#         try:\n",
    "#             objects.append(pickle.load(openfile))\n",
    "#         except EOFError:\n",
    "#             break"
   ]
  },
  {
   "cell_type": "code",
   "execution_count": null,
   "metadata": {},
   "outputs": [],
   "source": [
    "def curve_with_bar(x, y_list, percent, legend, xlabel, ylabel, save = False, name = None):\n",
    "    plt.figure(figsize = (10,7))\n",
    "    for y in y_list:\n",
    "        plt.fill_between(x, np.quantile(y, percent, axis = 1), np.quantile(y, 1 - percent, axis = 1), alpha = 0.2)\n",
    "        plt.plot(x, y.mean(axis = 1))\n",
    "    \n",
    "    fsize = 20\n",
    "    plt.legend(legend)\n",
    "    plt.xlabel(xlabel, fontsize = fsize)\n",
    "    plt.ylabel(ylabel, fontsize = fsize)\n",
    "    if save:\n",
    "        plt.savefig(name)"
   ]
  },
  {
   "cell_type": "code",
   "execution_count": null,
   "metadata": {},
   "outputs": [],
   "source": [
    "curve_with_bar(Q_grid_list, [loc_error_d, loc_error_dc], 0.1, ['divide','divide and conquer'], 'grid num', 'loc error')"
   ]
  },
  {
   "cell_type": "code",
   "execution_count": null,
   "metadata": {},
   "outputs": [],
   "source": [
    "plt.hist(loc_error_d[1,:], alpha = 0.5)\n",
    "plt.hist(loc_error_dc[1,:], alpha = 0.5)\n",
    "plt.legend(['divide','divide and conquer'])"
   ]
  },
  {
   "cell_type": "code",
   "execution_count": null,
   "metadata": {
    "scrolled": true
   },
   "outputs": [],
   "source": [
    "plt.hist(loc_error_d[-1,:], alpha = 0.5)\n",
    "plt.hist(loc_error_dc[-1,:], alpha = 0.5)\n",
    "plt.legend(['divide','divide and conquer'])"
   ]
  },
  {
   "cell_type": "code",
   "execution_count": null,
   "metadata": {
    "scrolled": false
   },
   "outputs": [],
   "source": [
    "curve_with_bar(Q_grid_list, [run_time_d, run_time_dc], 0.1, ['divide','divide and conquer'], 'grid num', 'run time')"
   ]
  },
  {
   "cell_type": "code",
   "execution_count": null,
   "metadata": {},
   "outputs": [],
   "source": [
    "import winsound\n",
    "duration = 10000  # milliseconds\n",
    "freq_base = 440  # Hz\n",
    "index_base = 49\n",
    "winsound.Beep(freq_base, duration)"
   ]
  },
  {
   "cell_type": "code",
   "execution_count": null,
   "metadata": {},
   "outputs": [],
   "source": []
  },
  {
   "cell_type": "code",
   "execution_count": null,
   "metadata": {},
   "outputs": [],
   "source": [
    "T = 4\n",
    "Delta = 2000\n",
    "n = np.array([Delta] * T)\n",
    "cp_truth = np.cumsum(n)[:T-1]\n",
    "\n",
    "p = 5\n",
    "beta = np.zeros((T, p))\n",
    "beta[0] = np.array([2,2,2,0,0])\n",
    "beta[1] = np.array([0,0,2,2,2])\n",
    "beta[2] = np.array([4,4,4,0,0])\n",
    "beta[3] = np.array([0,0,4,4,4])\n",
    "\n",
    "# inflation_beta = 2\n",
    "# beta = np.stack([inflation_beta * np.random.normal(0,1,p) for _ in range(T)])\n",
    "\n",
    "diff = np.zeros(T - 1)\n",
    "for t in range(1, T):\n",
    "    diff[t - 1] = np.sum(np.abs(beta[t] - beta[t - 1])**2)**0.5\n",
    "print(diff)\n",
    "\n",
    "nt, Y_train, X_train = generate_data_linear(n, T, beta)\n",
    "nt, Y_test, X_test = generate_data_linear(n, T, beta)\n",
    "    \n",
    "Q_grid_list = [25,50,75,100,125,150,175,200]\n",
    "Q = len(Q_grid_list)\n",
    "\n",
    "gamma_list = [2000, 4000]\n",
    "lam_list = [0.1]\n",
    "\n",
    "B = 20\n",
    "\n",
    "run_time_d = np.zeros((Q,B))\n",
    "loc_error_d = np.zeros((Q,B))\n",
    "\n",
    "run_time_dc = np.zeros((Q,B))\n",
    "loc_error_dc = np.zeros((Q,B))\n",
    "\n",
    "for q, grid_n in enumerate(Q_grid_list):\n",
    "    for b in range(B):\n",
    "        start_time = time.time()\n",
    "        dp_fit = dp_cv_random_linear(grid_n, lam_list, gamma_list)\n",
    "        cp_best, param_best = dp_fit.fit((Y_train, X_train), (Y_test, X_test))\n",
    "        run_time_d[q, b] = time.time() - start_time\n",
    "        loc_error_d[q, b] = cp_distance(cp_best, cp_truth)\n",
    "        \n",
    "        # check local refinement\n",
    "        start_time = time.time()\n",
    "        dcdp_fit = dcdp_cv_random_linear(grid_n, lam_list, gamma_list)\n",
    "        cp_best, param_best, cp_best_cand = dcdp_fit.fit((Y_train, X_train), (Y_test, X_test))\n",
    "        run_time_dc[q, b] = time.time() - start_time\n",
    "        loc_error_dc[q, b] = cp_distance(cp_best, cp_truth)\n",
    "    print(q)"
   ]
  },
  {
   "cell_type": "code",
   "execution_count": null,
   "metadata": {},
   "outputs": [],
   "source": [
    "import pickle\n",
    "with open('Q_time_error_big_gamma_Delta2000_linear_p4.pickle', 'wb') as f:\n",
    "    pickle.dump([beta, (Y_train, X_train), (Y_test, X_test), Delta, n, Q_grid_list, lam_list,\n",
    "                 gamma_list, run_time_d, run_time_dc, loc_error_d, loc_error_dc], f)"
   ]
  },
  {
   "cell_type": "code",
   "execution_count": null,
   "metadata": {},
   "outputs": [],
   "source": [
    "# objects = []\n",
    "# with (open(\"Q_time_error_1.pickle\", \"rb\")) as openfile:\n",
    "#     while True:\n",
    "#         try:\n",
    "#             objects.append(pickle.load(openfile))\n",
    "#         except EOFError:\n",
    "#             break"
   ]
  },
  {
   "cell_type": "code",
   "execution_count": null,
   "metadata": {},
   "outputs": [],
   "source": [
    "def curve_with_bar(x, y_list, percent, legend, xlabel, ylabel, save = False, name = None):\n",
    "    plt.figure(figsize = (10,7))\n",
    "    for y in y_list:\n",
    "        plt.fill_between(x, np.quantile(y, percent, axis = 1), np.quantile(y, 1 - percent, axis = 1), alpha = 0.2)\n",
    "        plt.plot(x, y.mean(axis = 1))\n",
    "    \n",
    "    fsize = 20\n",
    "    plt.legend(legend)\n",
    "    plt.xlabel(xlabel, fontsize = fsize)\n",
    "    plt.ylabel(ylabel, fontsize = fsize)\n",
    "    if save:\n",
    "        plt.savefig(name)"
   ]
  },
  {
   "cell_type": "code",
   "execution_count": null,
   "metadata": {},
   "outputs": [],
   "source": [
    "curve_with_bar(Q_grid_list, [loc_error_d, loc_error_dc], 0.1, ['divide','divide and conquer'], 'grid num', 'loc error')"
   ]
  },
  {
   "cell_type": "code",
   "execution_count": null,
   "metadata": {},
   "outputs": [],
   "source": [
    "plt.hist(loc_error_d[1,:], alpha = 0.5)\n",
    "plt.hist(loc_error_dc[1,:], alpha = 0.5)\n",
    "plt.legend(['divide','divide and conquer'])"
   ]
  },
  {
   "cell_type": "code",
   "execution_count": null,
   "metadata": {
    "scrolled": true
   },
   "outputs": [],
   "source": [
    "plt.hist(loc_error_d[-1,:], alpha = 0.5)\n",
    "plt.hist(loc_error_dc[-1,:], alpha = 0.5)\n",
    "plt.legend(['divide','divide and conquer'])"
   ]
  },
  {
   "cell_type": "code",
   "execution_count": null,
   "metadata": {},
   "outputs": [],
   "source": [
    "curve_with_bar(Q_grid_list, [run_time_d, run_time_dc], 0.1, ['divide','divide and conquer'], 'grid num', 'run time')"
   ]
  },
  {
   "cell_type": "code",
   "execution_count": null,
   "metadata": {},
   "outputs": [],
   "source": [
    "import winsound\n",
    "duration = 10000  # milliseconds\n",
    "freq_base = 440  # Hz\n",
    "index_base = 49\n",
    "winsound.Beep(freq_base, duration)"
   ]
  },
  {
   "cell_type": "code",
   "execution_count": null,
   "metadata": {},
   "outputs": [],
   "source": [
    "curve_with_bar(Q_grid_list[:-2], [run_time_d[:-2]], 0.1, [], 'grid size', 'run time')\n",
    "plt.savefig('run_time_Delta5000_B100.pdf',bbox_inches='tight')"
   ]
  },
  {
   "cell_type": "code",
   "execution_count": null,
   "metadata": {},
   "outputs": [],
   "source": [
    "plt.plot(Y_train, '.')"
   ]
  },
  {
   "cell_type": "code",
   "execution_count": null,
   "metadata": {},
   "outputs": [],
   "source": []
  },
  {
   "cell_type": "code",
   "execution_count": null,
   "metadata": {},
   "outputs": [],
   "source": []
  },
  {
   "cell_type": "code",
   "execution_count": null,
   "metadata": {},
   "outputs": [],
   "source": []
  }
 ],
 "metadata": {
  "kernelspec": {
   "display_name": "Python 3",
   "language": "python",
   "name": "python3"
  },
  "language_info": {
   "codemirror_mode": {
    "name": "ipython",
    "version": 3
   },
   "file_extension": ".py",
   "mimetype": "text/x-python",
   "name": "python",
   "nbconvert_exporter": "python",
   "pygments_lexer": "ipython3",
   "version": "3.7.4"
  }
 },
 "nbformat": 4,
 "nbformat_minor": 2
}
