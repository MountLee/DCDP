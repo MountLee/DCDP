{
 "cells": [
  {
   "cell_type": "code",
   "execution_count": 1,
   "metadata": {
    "colab": {
     "base_uri": "https://localhost:8080/"
    },
    "executionInfo": {
     "elapsed": 1312,
     "status": "ok",
     "timestamp": 1674101791611,
     "user": {
      "displayName": "Wanshan Li",
      "userId": "04763723389758163402"
     },
     "user_tz": 300
    },
    "id": "Q1IYEhfGjr-r",
    "outputId": "cfd16525-c587-48c8-8f9c-4c9d1c4ce8c0"
   },
   "outputs": [
    {
     "name": "stdout",
     "output_type": "stream",
     "text": [
      "Drive already mounted at /content/drive; to attempt to forcibly remount, call drive.mount(\"/content/drive\", force_remount=True).\n"
     ]
    }
   ],
   "source": [
    "from google.colab import drive\n",
    "drive.mount('/content/drive')\n",
    "\n",
    "import os, sys\n",
    "sys.path.append('/content/drive/MyDrive/DCDP')"
   ]
  },
  {
   "cell_type": "code",
   "execution_count": 2,
   "metadata": {
    "executionInfo": {
     "elapsed": 682,
     "status": "ok",
     "timestamp": 1674101792291,
     "user": {
      "displayName": "Wanshan Li",
      "userId": "04763723389758163402"
     },
     "user_tz": 300
    },
    "id": "yg3nnccajkK9"
   },
   "outputs": [],
   "source": [
    "import numpy as np\n",
    "import matplotlib.pyplot as plt\n",
    "import scipy.stats as stats\n",
    "import random\n",
    "\n",
    "import itertools\n",
    "\n",
    "from cpd_utils import *\n",
    "\n",
    "import time\n",
    "import bisect\n",
    "\n",
    "import pandas as pd"
   ]
  },
  {
   "cell_type": "code",
   "execution_count": 3,
   "metadata": {
    "executionInfo": {
     "elapsed": 3,
     "status": "ok",
     "timestamp": 1674101792292,
     "user": {
      "displayName": "Wanshan Li",
      "userId": "04763723389758163402"
     },
     "user_tz": 300
    },
    "id": "Vcd01wEYjkLB"
   },
   "outputs": [],
   "source": [
    "def generate_data_mean(n, T, theta):\n",
    "    p = len(theta[0])\n",
    "    y_train = np.concatenate([np.random.multivariate_normal(theta[i], np.eye(p), n[i]) for i in range(T)])\n",
    "    y_train_joint = y_train.reshape((-1, p))\n",
    "    nt = len(y_train_joint)\n",
    "    \n",
    "    return nt, y_train_joint"
   ]
  },
  {
   "cell_type": "markdown",
   "metadata": {
    "id": "NWylfx1jjkLB"
   },
   "source": [
    "----------------------------"
   ]
  },
  {
   "cell_type": "code",
   "execution_count": 3,
   "metadata": {
    "executionInfo": {
     "elapsed": 3,
     "status": "ok",
     "timestamp": 1674101792292,
     "user": {
      "displayName": "Wanshan Li",
      "userId": "04763723389758163402"
     },
     "user_tz": 300
    },
    "id": "joQQzMHyMZ9y"
   },
   "outputs": [],
   "source": []
  },
  {
   "cell_type": "code",
   "execution_count": 4,
   "metadata": {
    "colab": {
     "base_uri": "https://localhost:8080/"
    },
    "executionInfo": {
     "elapsed": 5015750,
     "status": "ok",
     "timestamp": 1674106808040,
     "user": {
      "displayName": "Wanshan Li",
      "userId": "04763723389758163402"
     },
     "user_tz": 300
    },
    "id": "6j_2S8mTjkLK",
    "outputId": "c25283d0-9051-4c1c-f9f8-4197137bdf96"
   },
   "outputs": [
    {
     "name": "stdout",
     "output_type": "stream",
     "text": [
      "0\n",
      "1\n",
      "2\n",
      "3\n",
      "4\n",
      "5\n",
      "6\n",
      "7\n",
      "5015.465492248535\n"
     ]
    }
   ],
   "source": [
    "T = 4\n",
    "Delta = 5000\n",
    "nt = Delta * T\n",
    "n = np.array([Delta] * T)\n",
    "cp_truth = np.cumsum(n)[:T-1]\n",
    "\n",
    "theta = np.array([[0], [5], [0], [5]])\n",
    "\n",
    "diff = np.zeros(T - 1)\n",
    "for t in range(1, T):\n",
    "    diff[t - 1] = np.sum(np.abs(theta[t] - theta[t - 1])**2)**0.5\n",
    "    \n",
    "Q_grid_list = [25,50,75,100,125,150,175,200]\n",
    "Q = len(Q_grid_list)\n",
    "\n",
    "gamma_list = [2000, 3000, 4000]\n",
    "lam_list = [0]\n",
    "\n",
    "B = 100\n",
    "\n",
    "run_time_dc = np.zeros((Q, B))\n",
    "loc_error_dc = np.zeros((Q, B))\n",
    "cp_best_list = {}\n",
    "param_best_list = {}\n",
    "\n",
    "run_time_d = np.zeros((Q, B))\n",
    "loc_error_d = np.zeros((Q, B))\n",
    "cp_best_d_list = {}\n",
    "param_best_d_list = {}\n",
    "\n",
    "s = time.time()\n",
    "for q, grid_n in enumerate(Q_grid_list):\n",
    "    cp_best_list[q] = []\n",
    "    param_best_list[q] = []\n",
    "    \n",
    "    cp_best_d_list[q] = []\n",
    "    param_best_d_list[q] = []\n",
    "    for b in range(B):\n",
    "        np.random.seed(b)\n",
    "        n = np.array([Delta] * T) + np.random.uniform(-0.3*Delta, 0.3*Delta, T).astype(int)\n",
    "        n[-1] = nt - np.sum(n[:-1])\n",
    "        cp_truth = np.cumsum(n)[:T-1]\n",
    "        \n",
    "        nt, Y_train = generate_data_mean(n, T, theta)\n",
    "        nt, Y_test = generate_data_mean(n, T, theta)\n",
    "\n",
    "        np.random.seed(b)\n",
    "        start_time = time.time()\n",
    "        dp_fit = dp_cv_grid_mean(grid_n, lam_list, gamma_list)\n",
    "        cp_best_d, param_best_d = dp_fit.fit(Y_train, Y_test)\n",
    "        loc_error_d[q, b] = cp_distance(cp_best_d, cp_truth)\n",
    "        run_time_d[q, b] = time.time() - start_time\n",
    "        cp_best_d_list[q].append(cp_best_d)\n",
    "        param_best_d_list[q].append(param_best_d)\n",
    "\n",
    "        np.random.seed(b)\n",
    "        start_time = time.time()\n",
    "        dcdp_fit = dcdp_cv_grid_mean(grid_n, lam_list, gamma_list)\n",
    "        cp_best, param_best, cp_best_cand = dcdp_fit.fit(Y_train, Y_test)\n",
    "        loc_error_dc[q, b] = cp_distance(cp_best, cp_truth)\n",
    "        run_time_dc[q, b] = time.time() - start_time\n",
    "        cp_best_list[q].append(cp_best)\n",
    "        param_best_list[q].append(param_best)\n",
    "    print(q)\n",
    "\n",
    "print(time.time() - s)"
   ]
  },
  {
   "cell_type": "code",
   "execution_count": 5,
   "metadata": {
    "executionInfo": {
     "elapsed": 6,
     "status": "ok",
     "timestamp": 1674106808041,
     "user": {
      "displayName": "Wanshan Li",
      "userId": "04763723389758163402"
     },
     "user_tz": 300
    },
    "id": "593ukvF3jkLL"
   },
   "outputs": [],
   "source": [
    "import pickle\n",
    "path = '/content/drive/MyDrive/DCDP/'\n",
    "with open(path + 'Q_time_error_Delta5000.pickle', 'wb') as f:\n",
    "    pickle.dump([theta, Delta, Q_grid_list, gamma_list, \n",
    "                 run_time_dc, loc_error_dc, cp_best_list, param_best_list,\n",
    "                 run_time_d, loc_error_d, cp_best_d_list, param_best_d_list], f)"
   ]
  },
  {
   "cell_type": "code",
   "execution_count": 6,
   "metadata": {
    "executionInfo": {
     "elapsed": 5,
     "status": "ok",
     "timestamp": 1674106808041,
     "user": {
      "displayName": "Wanshan Li",
      "userId": "04763723389758163402"
     },
     "user_tz": 300
    },
    "id": "7INLL26KjkLL"
   },
   "outputs": [],
   "source": [
    "# objects = []\n",
    "# with (path + 'Q_time_error_Delta5000.pickle', \"rb\")) as openfile:\n",
    "#     while True:\n",
    "#         try:\n",
    "#             objects.append(pickle.load(openfile))\n",
    "#         except EOFError:\n",
    "#             break"
   ]
  },
  {
   "cell_type": "code",
   "execution_count": 13,
   "metadata": {
    "executionInfo": {
     "elapsed": 308,
     "status": "ok",
     "timestamp": 1674107393053,
     "user": {
      "displayName": "Wanshan Li",
      "userId": "04763723389758163402"
     },
     "user_tz": 300
    },
    "id": "85_jbsndjkLL"
   },
   "outputs": [],
   "source": [
    "def curve_with_bar(x, y_list, percent, legend, xlabel, ylabel, save = False, name = None):\n",
    "    plt.figure(figsize = (10,7))\n",
    "    for y in y_list:\n",
    "        plt.fill_between(x, np.quantile(y, percent, axis = 1), np.quantile(y, 1 - percent, axis = 1), alpha = 0.2)\n",
    "        plt.plot(x, y.mean(axis = 1))\n",
    "    \n",
    "    fsize = 25\n",
    "    plt.legend(legend, fontsize = fsize)\n",
    "    plt.xlabel(xlabel, fontsize = fsize)\n",
    "    plt.ylabel(ylabel, fontsize = fsize)\n",
    "    if save:\n",
    "        plt.savefig(name)\n",
    "\n",
    "\n",
    "def pair_curve_with_bar(x1, y1_list, percent1, legend1, xlabel1, ylabel1, \n",
    "                        x2, y2_list, percent2, legend2, xlabel2, ylabel2, \n",
    "                        save = False, name = None):\n",
    "    fig, ax = plt.subplots(1, 2, figsize = (12, 4))\n",
    "\n",
    "    fsize = 25\n",
    "    tick_size = 15\n",
    "    for i, y1 in enumerate(y1_list):\n",
    "        ax[0].fill_between(x1, np.quantile(y1, percent1, axis = 1), np.quantile(y1, 1 - percent1, axis = 1), alpha = 0.2)\n",
    "        ax[0].plot(x1, y1.mean(axis = 1))\n",
    "    \n",
    "        \n",
    "        # ax[0].legend(legend1, fontsize = fsize)\n",
    "        ax[0].set_xlabel(xlabel1, fontsize = fsize)\n",
    "        ax[0].set_ylabel(ylabel1, fontsize = fsize)\n",
    "        ax[0].tick_params(axis='both', which='major', labelsize=tick_size)\n",
    "\n",
    "    for i, y2 in enumerate(y2_list):\n",
    "        ax[1].fill_between(x2, np.quantile(y2, percent2, axis = 1), np.quantile(y2, 1 - percent2, axis = 1), alpha = 0.2)\n",
    "        ax[1].plot(x2, y2.mean(axis = 1), label = legend2[i])\n",
    "    \n",
    "        \n",
    "        # ax[1].legend(legend2, fontsize = fsize)\n",
    "        ax[1].set_xlabel(xlabel2, fontsize = fsize)\n",
    "        ax[1].set_ylabel(ylabel2, fontsize = fsize)\n",
    "        ax[1].tick_params(axis='both', which='major', labelsize=tick_size)\n",
    "    \n",
    "    lines_labels = [ax_.get_legend_handles_labels() for ax_ in fig.axes]\n",
    "    lines, labels = [sum(lol, []) for lol in zip(*lines_labels)]\n",
    "    fig.legend(lines, labels, loc = 'upper left',  \n",
    "               ncol = 1, fontsize = fsize,\n",
    "               bbox_transform = plt.gcf().transFigure)\n",
    "\n",
    "    # plt.legend(lines, labels, loc = 'lower center', bbox_to_anchor = (0, -0.1, 1, 1),\n",
    "    #        bbox_transform = plt.gcf().transFigure)\n",
    "    plt.tight_layout()\n",
    "    if save:\n",
    "        plt.savefig(name, bbox_inches = 'tight')"
   ]
  },
  {
   "cell_type": "code",
   "execution_count": 14,
   "metadata": {
    "colab": {
     "base_uri": "https://localhost:8080/",
     "height": 297
    },
    "executionInfo": {
     "elapsed": 933,
     "status": "ok",
     "timestamp": 1674107396255,
     "user": {
      "displayName": "Wanshan Li",
      "userId": "04763723389758163402"
     },
     "user_tz": 300
    },
    "id": "njKsarNb-gjh",
    "outputId": "f33d396e-190a-4129-eb49-49cce7805cae"
   },
   "outputs": [
    {
     "data": {
      "image/png": "[encoded data removed]",
      "text/plain": [
       "<Figure size 864x288 with 2 Axes>"
      ]
     },
     "metadata": {
      "needs_background": "light"
     },
     "output_type": "display_data"
    }
   ],
   "source": [
    "loc_rate_dc = np.array([error  for error, Delta in zip(loc_error_dc, Q_grid_list)])\n",
    "loc_rate_d = np.array([error for error, Delta in zip(loc_error_d, Q_grid_list)])\n",
    "pair_curve_with_bar(Q_grid_list, [loc_rate_dc, loc_rate_d], 0.1, ['DCDP', 'divide step'], '# grid points', 'error', \n",
    "               Q_grid_list, [run_time_dc, run_time_d], 0.1, ['DCDP', 'divide step'], '# grid points', 'run time',\n",
    "               save = True, name = path + \"Delta5000_time_error_vs_grid_num.pdf\")"
   ]
  }
 ],
 "metadata": {
  "colab": {
   "provenance": []
  },
  "kernelspec": {
   "display_name": "Python 3",
   "language": "python",
   "name": "python3"
  },
  "language_info": {
   "codemirror_mode": {
    "name": "ipython",
    "version": 3
   },
   "file_extension": ".py",
   "mimetype": "text/x-python",
   "name": "python",
   "nbconvert_exporter": "python",
   "pygments_lexer": "ipython3",
   "version": "3.7.4"
  }
 },
 "nbformat": 4,
 "nbformat_minor": 1
}
