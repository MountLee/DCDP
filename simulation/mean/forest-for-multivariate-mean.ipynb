{
 "cells": [
  {
   "cell_type": "code",
   "execution_count": 1,
   "metadata": {
    "colab": {
     "base_uri": "https://localhost:8080/"
    },
    "executionInfo": {
     "elapsed": 8483,
     "status": "ok",
     "timestamp": 1674211182842,
     "user": {
      "displayName": "Wanshan Li",
      "userId": "04763723389758163402"
     },
     "user_tz": 300
    },
    "id": "UM3juv4kiYey",
    "outputId": "acb8ee47-ede7-4466-9d07-387fce5e1a7d"
   },
   "outputs": [
    {
     "name": "stdout",
     "output_type": "stream",
     "text": [
      "Looking in indexes: https://pypi.org/simple, https://us-python.pkg.dev/colab-wheels/public/simple/\n",
      "Collecting changeforest\n",
      "  Downloading changeforest-0.7.2-cp38-cp38-manylinux_2_17_x86_64.manylinux2014_x86_64.whl (1.2 MB)\n",
      "\u001b[2K     \u001b[90m━━━━━━━━━━━━━━━━━━━━━━━━━━━━━━━━━━━━━━━━\u001b[0m \u001b[32m1.2/1.2 MB\u001b[0m \u001b[31m25.9 MB/s\u001b[0m eta \u001b[36m0:00:00\u001b[0m\n",
      "\u001b[?25hInstalling collected packages: changeforest\n",
      "Successfully installed changeforest-0.7.2\n"
     ]
    }
   ],
   "source": [
    "pip install changeforest"
   ]
  },
  {
   "cell_type": "code",
   "execution_count": 2,
   "metadata": {
    "colab": {
     "base_uri": "https://localhost:8080/"
    },
    "executionInfo": {
     "elapsed": 34120,
     "status": "ok",
     "timestamp": 1674211216958,
     "user": {
      "displayName": "Wanshan Li",
      "userId": "04763723389758163402"
     },
     "user_tz": 300
    },
    "id": "N9CT4su_iTI1",
    "outputId": "7ff71a45-f301-414b-e2ee-10fd0165fc7a"
   },
   "outputs": [
    {
     "name": "stdout",
     "output_type": "stream",
     "text": [
      "Mounted at /content/drive\n"
     ]
    }
   ],
   "source": [
    "from google.colab import drive\n",
    "drive.mount('/content/drive')\n",
    "\n",
    "import os, sys\n",
    "sys.path.append('/content/drive/MyDrive/DCDP/mean')"
   ]
  },
  {
   "cell_type": "code",
   "execution_count": 3,
   "metadata": {
    "executionInfo": {
     "elapsed": 2624,
     "status": "ok",
     "timestamp": 1674211219576,
     "user": {
      "displayName": "Wanshan Li",
      "userId": "04763723389758163402"
     },
     "user_tz": 300
    },
    "id": "PciXVJ83iTI4"
   },
   "outputs": [],
   "source": [
    "import numpy as np\n",
    "import matplotlib.pyplot as plt\n",
    "import scipy.stats as stats\n",
    "import random\n",
    "\n",
    "import itertools\n",
    "\n",
    "from cpd_utils import *\n",
    "import changeforest\n",
    "\n",
    "import time\n",
    "import bisect\n",
    "\n",
    "import pandas as pd"
   ]
  },
  {
   "cell_type": "markdown",
   "metadata": {
    "id": "qoVFJj7SiTI6"
   },
   "source": [
    "# ChangeForest"
   ]
  },
  {
   "cell_type": "code",
   "execution_count": 13,
   "metadata": {
    "colab": {
     "base_uri": "https://localhost:8080/"
    },
    "executionInfo": {
     "elapsed": 137,
     "status": "ok",
     "timestamp": 1674212507897,
     "user": {
      "displayName": "Wanshan Li",
      "userId": "04763723389758163402"
     },
     "user_tz": 300
    },
    "id": "p1_1kTDVixgQ",
    "outputId": "e7068bbb-80f0-4c44-8206-acebdbe9cc13"
   },
   "outputs": [
    {
     "name": "stdout",
     "output_type": "stream",
     "text": [
      "[15.8113883 15.8113883 15.8113883]\n"
     ]
    }
   ],
   "source": [
    "T = 4\n",
    "Delta = 50\n",
    "p = 20\n",
    "theta = np.zeros((T, p))\n",
    "for t in range(T):\n",
    "    theta[t, 5 * t: 5 * (t + 1)] = 5\n",
    "\n",
    "diff = np.zeros(T - 1)\n",
    "for t in range(1, T):\n",
    "    diff[t - 1] = np.sum(np.abs(theta[t] - theta[t - 1])**2)**0.5\n",
    "print(diff)\n",
    "\n",
    "nt = Delta * T\n",
    "\n",
    "path = '/content/drive/MyDrive/DCDP/mean/'\n",
    "with open(path + 'data_n' + str(nt) + '_p' + str(p) + '_Delta' + str(Delta) + '_K' + str(T - 1) + '_kappa' + str(int(np.mean(diff) * 100)) + '.npz', 'rb') as f:\n",
    "    data = np.load(f)\n",
    "    Y_train_list = data.f.Y_train_list\n",
    "    Y_test_list = data.f.Y_test_list\n",
    "    cp_truth_list = data.f.cp_truth_list\n",
    "    theta = data.f.theta"
   ]
  },
  {
   "cell_type": "code",
   "execution_count": 7,
   "metadata": {
    "colab": {
     "base_uri": "https://localhost:8080/"
    },
    "executionInfo": {
     "elapsed": 27275,
     "status": "ok",
     "timestamp": 1674211325423,
     "user": {
      "displayName": "Wanshan Li",
      "userId": "04763723389758163402"
     },
     "user_tz": 300
    },
    "id": "a28djtZxi4VT",
    "outputId": "0de721e3-4607-4f91-82a5-5b0f4ea410c5"
   },
   "outputs": [
    {
     "name": "stdout",
     "output_type": "stream",
     "text": [
      "0\n",
      "1\n",
      "2\n",
      "3\n",
      "4\n",
      "5\n",
      "6\n",
      "7\n",
      "8\n",
      "9\n",
      "10\n",
      "11\n",
      "12\n",
      "13\n",
      "14\n",
      "15\n",
      "16\n",
      "17\n",
      "18\n",
      "19\n",
      "20\n",
      "21\n",
      "22\n",
      "23\n",
      "24\n",
      "25\n",
      "26\n",
      "27\n",
      "28\n",
      "29\n",
      "30\n",
      "31\n",
      "32\n",
      "33\n",
      "34\n",
      "35\n",
      "36\n",
      "37\n",
      "38\n",
      "39\n",
      "40\n",
      "41\n",
      "42\n",
      "43\n",
      "44\n",
      "45\n",
      "46\n",
      "47\n",
      "48\n",
      "49\n",
      "50\n",
      "51\n",
      "52\n",
      "53\n",
      "54\n",
      "55\n",
      "56\n",
      "57\n",
      "58\n",
      "59\n",
      "60\n",
      "61\n",
      "62\n",
      "63\n",
      "64\n",
      "65\n",
      "66\n",
      "67\n",
      "68\n",
      "69\n",
      "70\n",
      "71\n",
      "72\n",
      "73\n",
      "74\n",
      "75\n",
      "76\n",
      "77\n",
      "78\n",
      "79\n",
      "80\n",
      "81\n",
      "82\n",
      "83\n",
      "84\n",
      "85\n",
      "86\n",
      "87\n",
      "88\n",
      "89\n",
      "90\n",
      "91\n",
      "92\n",
      "93\n",
      "94\n",
      "95\n",
      "96\n",
      "97\n",
      "98\n",
      "99\n",
      "---------- change forest - random forest -----------\n",
      "avg loc error: 3.59, avg time: 0.25719197988510134\n",
      "std loc error: 10.099599001940621, std time: 0.014041741081299975\n",
      "K < K*: 0, K = K*: 84, K > K*: 16\n"
     ]
    }
   ],
   "source": [
    "np.random.seed(0)\n",
    "\n",
    "nt = Delta * T\n",
    "B = 100\n",
    "\n",
    "run_time_rf = np.zeros(B)\n",
    "loc_error_rf = np.zeros(B)\n",
    "K_rf = np.zeros(B)\n",
    "cp_best_list = []\n",
    "\n",
    "for b in range(B):\n",
    "    Y_train = Y_train_list[b]\n",
    "    Y_test = Y_test_list[b]\n",
    "    Y_all = np.zeros((2 * nt, p))\n",
    "    Y_all[np.arange(0, 2 * nt, 2), :] = Y_train\n",
    "    Y_all[np.arange(1, 2 * nt, 2), :] = Y_test\n",
    "\n",
    "    cp_truth = cp_truth_list[b]\n",
    "    \n",
    "    start_time = time.time()\n",
    "    result = changeforest.changeforest(Y_all, \"random_forest\", \"bs\")\n",
    "    cp_best = result.split_points()\n",
    "    cp_best = [x // 2 for x in cp_best]\n",
    "\n",
    "    run_time_rf[b] = time.time() - start_time\n",
    "    loc_error_rf[b] = cp_distance(cp_best, cp_truth)\n",
    "    K_rf[b] = len(cp_best)\n",
    "\n",
    "    cp_best_list.append(cp_best)\n",
    "    print(b)\n",
    "\n",
    "print('---------- change forest - random forest -----------')\n",
    "print(\"avg loc error: {0}, avg time: {1}\".format(loc_error_rf.mean(), run_time_rf.mean()))\n",
    "print(\"std loc error: {0}, std time: {1}\".format(loc_error_rf.std(), run_time_rf.std()))\n",
    "print('K < K*: {0}, K = K*: {1}, K > K*: {2}'.format(sum(K_rf < T - 1), sum(K_rf == T - 1), sum(K_rf > T - 1)))"
   ]
  },
  {
   "cell_type": "code",
   "execution_count": 8,
   "metadata": {
    "executionInfo": {
     "elapsed": 172,
     "status": "ok",
     "timestamp": 1674212423023,
     "user": {
      "displayName": "Wanshan Li",
      "userId": "04763723389758163402"
     },
     "user_tz": 300
    },
    "id": "y0_q8ZwZiTJD"
   },
   "outputs": [],
   "source": [
    "import pickle\n",
    "with open(path + 'rf_bs_n' + str(nt) + '_Delta' + str(Delta) + '_K' + str(T - 1) + '_kappa' + str(int(np.mean(diff) * 100)) + '.pickle', 'wb') as f:\n",
    "    pickle.dump([cp_best_list, loc_error_rf, run_time_rf, K_rf], f)"
   ]
  },
  {
   "cell_type": "code",
   "execution_count": null,
   "metadata": {
    "id": "236zSu9SiTJE"
   },
   "outputs": [],
   "source": []
  },
  {
   "cell_type": "code",
   "execution_count": 15,
   "metadata": {
    "colab": {
     "base_uri": "https://localhost:8080/"
    },
    "executionInfo": {
     "elapsed": 140,
     "status": "ok",
     "timestamp": 1674212513187,
     "user": {
      "displayName": "Wanshan Li",
      "userId": "04763723389758163402"
     },
     "user_tz": 300
    },
    "id": "19Oz7GltGzrY",
    "outputId": "0adf9784-5df8-4087-c054-29b640e02391"
   },
   "outputs": [
    {
     "name": "stdout",
     "output_type": "stream",
     "text": [
      "[3.16227766 3.16227766 3.16227766]\n"
     ]
    }
   ],
   "source": [
    "T = 4\n",
    "Delta = 50\n",
    "p = 20\n",
    "theta = np.zeros((T, p))\n",
    "for t in range(T):\n",
    "    theta[t, 5 * t: 5 * (t + 1)] = 1\n",
    "\n",
    "diff = np.zeros(T - 1)\n",
    "for t in range(1, T):\n",
    "    diff[t - 1] = np.sum(np.abs(theta[t] - theta[t - 1])**2)**0.5\n",
    "print(diff)\n",
    "\n",
    "nt = Delta * T\n",
    "\n",
    "path = '/content/drive/MyDrive/DCDP/mean/'\n",
    "with open(path + 'data_n' + str(nt) + '_p' + str(p) + '_Delta' + str(Delta) + '_K' + str(T - 1) + '_kappa' + str(int(np.mean(diff) * 100)) + '.npz', 'rb') as f:\n",
    "    data = np.load(f)\n",
    "    Y_train_list = data.f.Y_train_list\n",
    "    Y_test_list = data.f.Y_test_list\n",
    "    cp_truth_list = data.f.cp_truth_list\n",
    "    theta = data.f.theta"
   ]
  },
  {
   "cell_type": "code",
   "execution_count": 16,
   "metadata": {
    "colab": {
     "base_uri": "https://localhost:8080/"
    },
    "executionInfo": {
     "elapsed": 35696,
     "status": "ok",
     "timestamp": 1674212555353,
     "user": {
      "displayName": "Wanshan Li",
      "userId": "04763723389758163402"
     },
     "user_tz": 300
    },
    "id": "tZTHYWyqGzrZ",
    "outputId": "7cd74ccd-df03-4e47-afe4-456741f8be98"
   },
   "outputs": [
    {
     "name": "stdout",
     "output_type": "stream",
     "text": [
      "0\n",
      "1\n",
      "2\n",
      "3\n",
      "4\n",
      "5\n",
      "6\n",
      "7\n",
      "8\n",
      "9\n",
      "10\n",
      "11\n",
      "12\n",
      "13\n",
      "14\n",
      "15\n",
      "16\n",
      "17\n",
      "18\n",
      "19\n",
      "20\n",
      "21\n",
      "22\n",
      "23\n",
      "24\n",
      "25\n",
      "26\n",
      "27\n",
      "28\n",
      "29\n",
      "30\n",
      "31\n",
      "32\n",
      "33\n",
      "34\n",
      "35\n",
      "36\n",
      "37\n",
      "38\n",
      "39\n",
      "40\n",
      "41\n",
      "42\n",
      "43\n",
      "44\n",
      "45\n",
      "46\n",
      "47\n",
      "48\n",
      "49\n",
      "50\n",
      "51\n",
      "52\n",
      "53\n",
      "54\n",
      "55\n",
      "56\n",
      "57\n",
      "58\n",
      "59\n",
      "60\n",
      "61\n",
      "62\n",
      "63\n",
      "64\n",
      "65\n",
      "66\n",
      "67\n",
      "68\n",
      "69\n",
      "70\n",
      "71\n",
      "72\n",
      "73\n",
      "74\n",
      "75\n",
      "76\n",
      "77\n",
      "78\n",
      "79\n",
      "80\n",
      "81\n",
      "82\n",
      "83\n",
      "84\n",
      "85\n",
      "86\n",
      "87\n",
      "88\n",
      "89\n",
      "90\n",
      "91\n",
      "92\n",
      "93\n",
      "94\n",
      "95\n",
      "96\n",
      "97\n",
      "98\n",
      "99\n",
      "---------- change forest - random forest -----------\n",
      "avg loc error: 4.38, avg time: 0.35381388902664185\n",
      "std loc error: 10.12894861276332, std time: 0.05296745831930022\n",
      "K < K*: 0, K = K*: 81, K > K*: 19\n"
     ]
    }
   ],
   "source": [
    "np.random.seed(0)\n",
    "\n",
    "nt = Delta * T\n",
    "B = 100\n",
    "\n",
    "run_time_rf = np.zeros(B)\n",
    "loc_error_rf = np.zeros(B)\n",
    "K_rf = np.zeros(B)\n",
    "cp_best_list = []\n",
    "\n",
    "for b in range(B):\n",
    "    Y_train = Y_train_list[b]\n",
    "    Y_test = Y_test_list[b]\n",
    "    Y_all = np.zeros((2 * nt, p))\n",
    "    Y_all[np.arange(0, 2 * nt, 2), :] = Y_train\n",
    "    Y_all[np.arange(1, 2 * nt, 2), :] = Y_test\n",
    "\n",
    "    cp_truth = cp_truth_list[b]\n",
    "    \n",
    "    start_time = time.time()\n",
    "    result = changeforest.changeforest(Y_all, \"random_forest\", \"bs\")\n",
    "    cp_best = result.split_points()\n",
    "    cp_best = [x // 2 for x in cp_best]\n",
    "    \n",
    "    run_time_rf[b] = time.time() - start_time\n",
    "    loc_error_rf[b] = cp_distance(cp_best, cp_truth)\n",
    "    K_rf[b] = len(cp_best)\n",
    "\n",
    "    cp_best_list.append(cp_best)\n",
    "    print(b)\n",
    "\n",
    "print('---------- change forest - random forest -----------')\n",
    "print(\"avg loc error: {0}, avg time: {1}\".format(loc_error_rf.mean(), run_time_rf.mean()))\n",
    "print(\"std loc error: {0}, std time: {1}\".format(loc_error_rf.std(), run_time_rf.std()))\n",
    "print('K < K*: {0}, K = K*: {1}, K > K*: {2}'.format(sum(K_rf < T - 1), sum(K_rf == T - 1), sum(K_rf > T - 1)))"
   ]
  },
  {
   "cell_type": "code",
   "execution_count": 17,
   "metadata": {
    "executionInfo": {
     "elapsed": 5,
     "status": "ok",
     "timestamp": 1674212555353,
     "user": {
      "displayName": "Wanshan Li",
      "userId": "04763723389758163402"
     },
     "user_tz": 300
    },
    "id": "vPovXF-RGzrZ"
   },
   "outputs": [],
   "source": [
    "import pickle\n",
    "with open(path + 'rf_bs_n' + str(nt) + '_Delta' + str(Delta) + '_K' + str(T - 1) + '_kappa' + str(int(np.mean(diff) * 100)) + '.pickle', 'wb') as f:\n",
    "    pickle.dump([cp_best_list, loc_error_rf, run_time_rf, K_rf], f)"
   ]
  },
  {
   "cell_type": "code",
   "execution_count": null,
   "metadata": {
    "id": "ppsoEggLG0rs"
   },
   "outputs": [],
   "source": []
  },
  {
   "cell_type": "code",
   "execution_count": 22,
   "metadata": {
    "colab": {
     "base_uri": "https://localhost:8080/"
    },
    "executionInfo": {
     "elapsed": 512,
     "status": "ok",
     "timestamp": 1674212644371,
     "user": {
      "displayName": "Wanshan Li",
      "userId": "04763723389758163402"
     },
     "user_tz": 300
    },
    "id": "7atWTmzVG1Dd",
    "outputId": "ac222ed2-2878-477a-d0b3-de35882dc82e"
   },
   "outputs": [
    {
     "name": "stdout",
     "output_type": "stream",
     "text": [
      "[1.58113883 1.58113883 1.58113883]\n"
     ]
    }
   ],
   "source": [
    "T = 4\n",
    "Delta = 50\n",
    "p = 20\n",
    "theta = np.zeros((T, p))\n",
    "for t in range(T):\n",
    "    theta[t, 5 * t: 5 * (t + 1)] = 0.5\n",
    "\n",
    "diff = np.zeros(T - 1)\n",
    "for t in range(1, T):\n",
    "    diff[t - 1] = np.sum(np.abs(theta[t] - theta[t - 1])**2)**0.5\n",
    "print(diff)\n",
    "\n",
    "nt = Delta * T\n",
    "\n",
    "path = '/content/drive/MyDrive/DCDP/mean/'\n",
    "with open(path + 'data_n' + str(nt) + '_p' + str(p) + '_Delta' + str(Delta) + '_K' + str(T - 1) + '_kappa' + str(int(np.mean(diff) * 100)) + '.npz', 'rb') as f:\n",
    "    data = np.load(f)\n",
    "    Y_train_list = data.f.Y_train_list\n",
    "    Y_test_list = data.f.Y_test_list\n",
    "    cp_truth_list = data.f.cp_truth_list\n",
    "    theta = data.f.theta"
   ]
  },
  {
   "cell_type": "code",
   "execution_count": 23,
   "metadata": {
    "colab": {
     "base_uri": "https://localhost:8080/"
    },
    "executionInfo": {
     "elapsed": 37634,
     "status": "ok",
     "timestamp": 1674212716214,
     "user": {
      "displayName": "Wanshan Li",
      "userId": "04763723389758163402"
     },
     "user_tz": 300
    },
    "id": "E5M33dcOG1Dd",
    "outputId": "1b4c16e3-a135-483f-bf38-6f506bea3891"
   },
   "outputs": [
    {
     "name": "stdout",
     "output_type": "stream",
     "text": [
      "0\n",
      "1\n",
      "2\n",
      "3\n",
      "4\n",
      "5\n",
      "6\n",
      "7\n",
      "8\n",
      "9\n",
      "10\n",
      "11\n",
      "12\n",
      "13\n",
      "14\n",
      "15\n",
      "16\n",
      "17\n",
      "18\n",
      "19\n",
      "20\n",
      "21\n",
      "22\n",
      "23\n",
      "24\n",
      "25\n",
      "26\n",
      "27\n",
      "28\n",
      "29\n",
      "30\n",
      "31\n",
      "32\n",
      "33\n",
      "34\n",
      "35\n",
      "36\n",
      "37\n",
      "38\n",
      "39\n",
      "40\n",
      "41\n",
      "42\n",
      "43\n",
      "44\n",
      "45\n",
      "46\n",
      "47\n",
      "48\n",
      "49\n",
      "50\n",
      "51\n",
      "52\n",
      "53\n",
      "54\n",
      "55\n",
      "56\n",
      "57\n",
      "58\n",
      "59\n",
      "60\n",
      "61\n",
      "62\n",
      "63\n",
      "64\n",
      "65\n",
      "66\n",
      "67\n",
      "68\n",
      "69\n",
      "70\n",
      "71\n",
      "72\n",
      "73\n",
      "74\n",
      "75\n",
      "76\n",
      "77\n",
      "78\n",
      "79\n",
      "80\n",
      "81\n",
      "82\n",
      "83\n",
      "84\n",
      "85\n",
      "86\n",
      "87\n",
      "88\n",
      "89\n",
      "90\n",
      "91\n",
      "92\n",
      "93\n",
      "94\n",
      "95\n",
      "96\n",
      "97\n",
      "98\n",
      "99\n",
      "---------- change forest - random forest -----------\n",
      "avg loc error: 7.15, avg time: 0.37332807540893553\n",
      "std loc error: 9.569090865907794, std time: 0.07512038243065511\n",
      "K < K*: 1, K = K*: 78, K > K*: 21\n",
      "---------- change forest - random forest - dropna -----------\n",
      "avg loc error: 7.15, avg time: 0.37332807540893553\n",
      "std loc error: 9.569090865907794, std time: 0.07512038243065511\n",
      "K < K*: 1, K = K*: 78, K > K*: 21\n"
     ]
    }
   ],
   "source": [
    "np.random.seed(0)\n",
    "\n",
    "nt = Delta * T\n",
    "B = 100\n",
    "\n",
    "run_time_rf = np.zeros(B)\n",
    "loc_error_rf = np.zeros(B)\n",
    "K_rf = np.zeros(B)\n",
    "cp_best_list = []\n",
    "\n",
    "for b in range(B):\n",
    "    Y_train = Y_train_list[b]\n",
    "    Y_test = Y_test_list[b]\n",
    "    Y_all = np.zeros((2 * nt, p))\n",
    "    Y_all[np.arange(0, 2 * nt, 2), :] = Y_train\n",
    "    Y_all[np.arange(1, 2 * nt, 2), :] = Y_test\n",
    "\n",
    "    cp_truth = cp_truth_list[b]\n",
    "    \n",
    "    start_time = time.time()\n",
    "    result = changeforest.changeforest(Y_all, \"random_forest\", \"bs\")\n",
    "    cp_best = result.split_points()\n",
    "    cp_best = [x // 2 for x in cp_best]\n",
    "    \n",
    "    run_time_rf[b] = time.time() - start_time\n",
    "    loc_error_rf[b] = cp_distance(cp_best, cp_truth)\n",
    "    K_rf[b] = len(cp_best)\n",
    "\n",
    "    cp_best_list.append(cp_best)\n",
    "    print(b)\n",
    "\n",
    "print('---------- change forest - random forest -----------')\n",
    "print(\"avg loc error: {0}, avg time: {1}\".format(loc_error_rf.mean(), run_time_rf.mean()))\n",
    "print(\"std loc error: {0}, std time: {1}\".format(loc_error_rf.std(), run_time_rf.std()))\n",
    "print('K < K*: {0}, K = K*: {1}, K > K*: {2}'.format(sum(K_rf < T - 1), sum(K_rf == T - 1), sum(K_rf > T - 1)))\n",
    "\n",
    "ix = loc_error_rf < np.infty\n",
    "loc_error_ = loc_error_rf[ix]\n",
    "run_time_ = run_time_rf[ix]\n",
    "K_ = K_rf[ix]\n",
    "print('---------- change forest - random forest - dropna -----------')\n",
    "print(\"avg loc error: {0}, avg time: {1}\".format(loc_error_.mean(), run_time_.mean()))\n",
    "print(\"std loc error: {0}, std time: {1}\".format(loc_error_.std(), run_time_.std()))\n",
    "print('K < K*: {0}, K = K*: {1}, K > K*: {2}'.format(sum(K_ < T - 1), sum(K_ == T - 1), sum(K_ > T - 1)))"
   ]
  },
  {
   "cell_type": "code",
   "execution_count": 24,
   "metadata": {
    "executionInfo": {
     "elapsed": 4,
     "status": "ok",
     "timestamp": 1674212716214,
     "user": {
      "displayName": "Wanshan Li",
      "userId": "04763723389758163402"
     },
     "user_tz": 300
    },
    "id": "fmcks2BrG1De"
   },
   "outputs": [],
   "source": [
    "import pickle\n",
    "with open(path + 'rf_bs_n' + str(nt) + '_Delta' + str(Delta) + '_K' + str(T - 1) + '_kappa' + str(int(np.mean(diff) * 100)) + '.pickle', 'wb') as f:\n",
    "    pickle.dump([cp_best_list, loc_error_rf, run_time_rf, K_rf], f)"
   ]
  },
  {
   "cell_type": "code",
   "execution_count": null,
   "metadata": {
    "id": "uM_kzBMc3Tpz"
   },
   "outputs": [],
   "source": []
  },
  {
   "cell_type": "code",
   "execution_count": 27,
   "metadata": {
    "colab": {
     "base_uri": "https://localhost:8080/"
    },
    "executionInfo": {
     "elapsed": 1925,
     "status": "ok",
     "timestamp": 1674212900213,
     "user": {
      "displayName": "Wanshan Li",
      "userId": "04763723389758163402"
     },
     "user_tz": 300
    },
    "id": "DAvyBBZD3T20",
    "outputId": "8a9d6a5e-b0f5-4718-b582-8261da48ed26"
   },
   "outputs": [
    {
     "name": "stdout",
     "output_type": "stream",
     "text": [
      "[15.8113883 15.8113883 15.8113883]\n"
     ]
    }
   ],
   "source": [
    "T = 4\n",
    "Delta = 50\n",
    "p = 100\n",
    "theta = np.zeros((T, p))\n",
    "for t in range(T):\n",
    "    theta[t, 5 * t: 5 * (t + 1)] = 5\n",
    "\n",
    "diff = np.zeros(T - 1)\n",
    "for t in range(1, T):\n",
    "    diff[t - 1] = np.sum(np.abs(theta[t] - theta[t - 1])**2)**0.5\n",
    "print(diff)\n",
    "\n",
    "nt = Delta * T\n",
    "\n",
    "path = '/content/drive/MyDrive/DCDP/mean/'\n",
    "with open(path + 'data_n' + str(nt) + '_p' + str(p) + '_Delta' + str(Delta) + '_K' + str(T - 1) + '_kappa' + str(int(np.mean(diff) * 100)) + '.npz', 'rb') as f:\n",
    "    data = np.load(f)\n",
    "    Y_train_list = data.f.Y_train_list\n",
    "    Y_test_list = data.f.Y_test_list\n",
    "    cp_truth_list = data.f.cp_truth_list\n",
    "    theta = data.f.theta"
   ]
  },
  {
   "cell_type": "code",
   "execution_count": 28,
   "metadata": {
    "colab": {
     "base_uri": "https://localhost:8080/"
    },
    "executionInfo": {
     "elapsed": 111456,
     "status": "ok",
     "timestamp": 1674213015984,
     "user": {
      "displayName": "Wanshan Li",
      "userId": "04763723389758163402"
     },
     "user_tz": 300
    },
    "id": "LXX6dJZb3T20",
    "outputId": "eee54c8e-801d-4a79-9cf1-39155b66d02c"
   },
   "outputs": [
    {
     "name": "stdout",
     "output_type": "stream",
     "text": [
      "0\n",
      "1\n",
      "2\n",
      "3\n",
      "4\n",
      "5\n",
      "6\n",
      "7\n",
      "8\n",
      "9\n",
      "10\n",
      "11\n",
      "12\n",
      "13\n",
      "14\n",
      "15\n",
      "16\n",
      "17\n",
      "18\n",
      "19\n",
      "20\n",
      "21\n",
      "22\n",
      "23\n",
      "24\n",
      "25\n",
      "26\n",
      "27\n",
      "28\n",
      "29\n",
      "30\n",
      "31\n",
      "32\n",
      "33\n",
      "34\n",
      "35\n",
      "36\n",
      "37\n",
      "38\n",
      "39\n",
      "40\n",
      "41\n",
      "42\n",
      "43\n",
      "44\n",
      "45\n",
      "46\n",
      "47\n",
      "48\n",
      "49\n",
      "50\n",
      "51\n",
      "52\n",
      "53\n",
      "54\n",
      "55\n",
      "56\n",
      "57\n",
      "58\n",
      "59\n",
      "60\n",
      "61\n",
      "62\n",
      "63\n",
      "64\n",
      "65\n",
      "66\n",
      "67\n",
      "68\n",
      "69\n",
      "70\n",
      "71\n",
      "72\n",
      "73\n",
      "74\n",
      "75\n",
      "76\n",
      "77\n",
      "78\n",
      "79\n",
      "80\n",
      "81\n",
      "82\n",
      "83\n",
      "84\n",
      "85\n",
      "86\n",
      "87\n",
      "88\n",
      "89\n",
      "90\n",
      "91\n",
      "92\n",
      "93\n",
      "94\n",
      "95\n",
      "96\n",
      "97\n",
      "98\n",
      "99\n",
      "---------- change forest - random forest -----------\n",
      "avg loc error: 2.85, avg time: 1.1116501212120056\n",
      "std loc error: 7.498499849969993, std time: 0.15383033361238993\n",
      "K < K*: 0, K = K*: 85, K > K*: 15\n"
     ]
    }
   ],
   "source": [
    "np.random.seed(0)\n",
    "\n",
    "nt = Delta * T\n",
    "B = 100\n",
    "\n",
    "run_time_rf = np.zeros(B)\n",
    "loc_error_rf = np.zeros(B)\n",
    "K_rf = np.zeros(B)\n",
    "cp_best_list = []\n",
    "\n",
    "for b in range(B):\n",
    "    Y_train = Y_train_list[b]\n",
    "    Y_test = Y_test_list[b]\n",
    "    Y_all = np.zeros((2 * nt, p))\n",
    "    Y_all[np.arange(0, 2 * nt, 2), :] = Y_train\n",
    "    Y_all[np.arange(1, 2 * nt, 2), :] = Y_test\n",
    "\n",
    "    cp_truth = cp_truth_list[b]\n",
    "    \n",
    "    start_time = time.time()\n",
    "    result = changeforest.changeforest(Y_all, \"random_forest\", \"bs\")\n",
    "    cp_best = result.split_points()\n",
    "    cp_best = [x // 2 for x in cp_best]\n",
    "\n",
    "    run_time_rf[b] = time.time() - start_time\n",
    "    loc_error_rf[b] = cp_distance(cp_best, cp_truth)\n",
    "    K_rf[b] = len(cp_best)\n",
    "\n",
    "    cp_best_list.append(cp_best)\n",
    "    print(b)\n",
    "\n",
    "print('---------- change forest - random forest -----------')\n",
    "print(\"avg loc error: {0}, avg time: {1}\".format(loc_error_rf.mean(), run_time_rf.mean()))\n",
    "print(\"std loc error: {0}, std time: {1}\".format(loc_error_rf.std(), run_time_rf.std()))\n",
    "print('K < K*: {0}, K = K*: {1}, K > K*: {2}'.format(sum(K_rf < T - 1), sum(K_rf == T - 1), sum(K_rf > T - 1)))"
   ]
  },
  {
   "cell_type": "code",
   "execution_count": null,
   "metadata": {
    "id": "KevGQ91v3T21"
   },
   "outputs": [],
   "source": [
    "import pickle\n",
    "with open(path + 'rf_bs_n' + str(nt) + '_Delta' + str(Delta) + '_K' + str(T - 1) + '_kappa' + str(int(np.mean(diff) * 100)) + '.pickle', 'wb') as f:\n",
    "    pickle.dump([cp_best_list, loc_error_rf, run_time_rf, K_rf], f)"
   ]
  },
  {
   "cell_type": "code",
   "execution_count": null,
   "metadata": {
    "id": "wpLC0CDt3T22"
   },
   "outputs": [],
   "source": []
  },
  {
   "cell_type": "code",
   "execution_count": 30,
   "metadata": {
    "colab": {
     "base_uri": "https://localhost:8080/"
    },
    "executionInfo": {
     "elapsed": 1402,
     "status": "ok",
     "timestamp": 1674213067124,
     "user": {
      "displayName": "Wanshan Li",
      "userId": "04763723389758163402"
     },
     "user_tz": 300
    },
    "id": "AspEJ4bq3T22",
    "outputId": "a5505c58-2ca9-46d9-a213-264326767a01"
   },
   "outputs": [
    {
     "name": "stdout",
     "output_type": "stream",
     "text": [
      "[3.16227766 3.16227766 3.16227766]\n"
     ]
    }
   ],
   "source": [
    "T = 4\n",
    "Delta = 50\n",
    "p = 100\n",
    "theta = np.zeros((T, p))\n",
    "for t in range(T):\n",
    "    theta[t, 5 * t: 5 * (t + 1)] = 1\n",
    "\n",
    "diff = np.zeros(T - 1)\n",
    "for t in range(1, T):\n",
    "    diff[t - 1] = np.sum(np.abs(theta[t] - theta[t - 1])**2)**0.5\n",
    "print(diff)\n",
    "\n",
    "nt = Delta * T\n",
    "\n",
    "path = '/content/drive/MyDrive/DCDP/mean/'\n",
    "with open(path + 'data_n' + str(nt) + '_p' + str(p) + '_Delta' + str(Delta) + '_K' + str(T - 1) + '_kappa' + str(int(np.mean(diff) * 100)) + '.npz', 'rb') as f:\n",
    "    data = np.load(f)\n",
    "    Y_train_list = data.f.Y_train_list\n",
    "    Y_test_list = data.f.Y_test_list\n",
    "    cp_truth_list = data.f.cp_truth_list\n",
    "    theta = data.f.theta"
   ]
  },
  {
   "cell_type": "code",
   "execution_count": 31,
   "metadata": {
    "colab": {
     "base_uri": "https://localhost:8080/"
    },
    "executionInfo": {
     "elapsed": 131937,
     "status": "ok",
     "timestamp": 1674213202335,
     "user": {
      "displayName": "Wanshan Li",
      "userId": "04763723389758163402"
     },
     "user_tz": 300
    },
    "id": "cQzMeObv3T22",
    "outputId": "9d618603-3729-4151-e346-f9d162b6b08f"
   },
   "outputs": [
    {
     "name": "stdout",
     "output_type": "stream",
     "text": [
      "0\n",
      "1\n",
      "2\n",
      "3\n",
      "4\n",
      "5\n",
      "6\n",
      "7\n",
      "8\n",
      "9\n",
      "10\n",
      "11\n",
      "12\n",
      "13\n",
      "14\n",
      "15\n",
      "16\n",
      "17\n",
      "18\n",
      "19\n",
      "20\n",
      "21\n",
      "22\n",
      "23\n",
      "24\n",
      "25\n",
      "26\n",
      "27\n",
      "28\n",
      "29\n",
      "30\n",
      "31\n",
      "32\n",
      "33\n",
      "34\n",
      "35\n",
      "36\n",
      "37\n",
      "38\n",
      "39\n",
      "40\n",
      "41\n",
      "42\n",
      "43\n",
      "44\n",
      "45\n",
      "46\n",
      "47\n",
      "48\n",
      "49\n",
      "50\n",
      "51\n",
      "52\n",
      "53\n",
      "54\n",
      "55\n",
      "56\n",
      "57\n",
      "58\n",
      "59\n",
      "60\n",
      "61\n",
      "62\n",
      "63\n",
      "64\n",
      "65\n",
      "66\n",
      "67\n",
      "68\n",
      "69\n",
      "70\n",
      "71\n",
      "72\n",
      "73\n",
      "74\n",
      "75\n",
      "76\n",
      "77\n",
      "78\n",
      "79\n",
      "80\n",
      "81\n",
      "82\n",
      "83\n",
      "84\n",
      "85\n",
      "86\n",
      "87\n",
      "88\n",
      "89\n",
      "90\n",
      "91\n",
      "92\n",
      "93\n",
      "94\n",
      "95\n",
      "96\n",
      "97\n",
      "98\n",
      "99\n",
      "---------- change forest - random forest -----------\n",
      "avg loc error: 3.28, avg time: 1.3158190250396729\n",
      "std loc error: 7.005826146858056, std time: 0.06791649515390792\n",
      "K < K*: 0, K = K*: 85, K > K*: 15\n"
     ]
    }
   ],
   "source": [
    "np.random.seed(0)\n",
    "\n",
    "nt = Delta * T\n",
    "B = 100\n",
    "\n",
    "run_time_rf = np.zeros(B)\n",
    "loc_error_rf = np.zeros(B)\n",
    "K_rf = np.zeros(B)\n",
    "cp_best_list = []\n",
    "\n",
    "for b in range(B):\n",
    "    Y_train = Y_train_list[b]\n",
    "    Y_test = Y_test_list[b]\n",
    "    Y_all = np.zeros((2 * nt, p))\n",
    "    Y_all[np.arange(0, 2 * nt, 2), :] = Y_train\n",
    "    Y_all[np.arange(1, 2 * nt, 2), :] = Y_test\n",
    "\n",
    "    cp_truth = cp_truth_list[b]\n",
    "    \n",
    "    start_time = time.time()\n",
    "    result = changeforest.changeforest(Y_all, \"random_forest\", \"bs\")\n",
    "    cp_best = result.split_points()\n",
    "    cp_best = [x // 2 for x in cp_best]\n",
    "    \n",
    "    run_time_rf[b] = time.time() - start_time\n",
    "    loc_error_rf[b] = cp_distance(cp_best, cp_truth)\n",
    "    K_rf[b] = len(cp_best)\n",
    "\n",
    "    cp_best_list.append(cp_best)\n",
    "    print(b)\n",
    "\n",
    "print('---------- change forest - random forest -----------')\n",
    "print(\"avg loc error: {0}, avg time: {1}\".format(loc_error_rf.mean(), run_time_rf.mean()))\n",
    "print(\"std loc error: {0}, std time: {1}\".format(loc_error_rf.std(), run_time_rf.std()))\n",
    "print('K < K*: {0}, K = K*: {1}, K > K*: {2}'.format(sum(K_rf < T - 1), sum(K_rf == T - 1), sum(K_rf > T - 1)))"
   ]
  },
  {
   "cell_type": "code",
   "execution_count": null,
   "metadata": {
    "id": "kzMZ2Wmd3T23"
   },
   "outputs": [],
   "source": [
    "import pickle\n",
    "with open(path + 'rf_bs_n' + str(nt) + '_Delta' + str(Delta) + '_K' + str(T - 1) + '_kappa' + str(int(np.mean(diff) * 100)) + '.pickle', 'wb') as f:\n",
    "    pickle.dump([cp_best_list, loc_error_rf, run_time_rf, K_rf], f)"
   ]
  },
  {
   "cell_type": "code",
   "execution_count": null,
   "metadata": {
    "id": "TomA7VPu3T23"
   },
   "outputs": [],
   "source": []
  },
  {
   "cell_type": "code",
   "execution_count": 35,
   "metadata": {
    "colab": {
     "base_uri": "https://localhost:8080/"
    },
    "executionInfo": {
     "elapsed": 1650,
     "status": "ok",
     "timestamp": 1674213290657,
     "user": {
      "displayName": "Wanshan Li",
      "userId": "04763723389758163402"
     },
     "user_tz": 300
    },
    "id": "nizhnW273T23",
    "outputId": "8fa0094b-095e-4048-bf8c-3d1690be7da6"
   },
   "outputs": [
    {
     "name": "stdout",
     "output_type": "stream",
     "text": [
      "[1.58113883 1.58113883 1.58113883]\n"
     ]
    }
   ],
   "source": [
    "T = 4\n",
    "Delta = 200\n",
    "p = 100\n",
    "theta = np.zeros((T, p))\n",
    "for t in range(T):\n",
    "    theta[t, 5 * t: 5 * (t + 1)] = 0.5\n",
    "\n",
    "diff = np.zeros(T - 1)\n",
    "for t in range(1, T):\n",
    "    diff[t - 1] = np.sum(np.abs(theta[t] - theta[t - 1])**2)**0.5\n",
    "print(diff)\n",
    "\n",
    "nt = Delta * T\n",
    "\n",
    "path = '/content/drive/MyDrive/DCDP/mean/'\n",
    "with open(path + 'data_n' + str(nt) + '_p' + str(p) + '_Delta' + str(Delta) + '_K' + str(T - 1) + '_kappa' + str(int(np.mean(diff) * 100)) + '.npz', 'rb') as f:\n",
    "    data = np.load(f)\n",
    "    Y_train_list = data.f.Y_train_list\n",
    "    Y_test_list = data.f.Y_test_list\n",
    "    cp_truth_list = data.f.cp_truth_list\n",
    "    theta = data.f.theta"
   ]
  },
  {
   "cell_type": "code",
   "execution_count": 36,
   "metadata": {
    "colab": {
     "base_uri": "https://localhost:8080/"
    },
    "executionInfo": {
     "elapsed": 549764,
     "status": "ok",
     "timestamp": 1674213841842,
     "user": {
      "displayName": "Wanshan Li",
      "userId": "04763723389758163402"
     },
     "user_tz": 300
    },
    "id": "XhJpEYEw3T23",
    "outputId": "c75270fc-1b45-435e-8937-5e7142f5f869"
   },
   "outputs": [
    {
     "name": "stdout",
     "output_type": "stream",
     "text": [
      "0\n",
      "1\n",
      "2\n",
      "3\n",
      "4\n",
      "5\n",
      "6\n",
      "7\n",
      "8\n",
      "9\n",
      "10\n",
      "11\n",
      "12\n",
      "13\n",
      "14\n",
      "15\n",
      "16\n",
      "17\n",
      "18\n",
      "19\n",
      "20\n",
      "21\n",
      "22\n",
      "23\n",
      "24\n",
      "25\n",
      "26\n",
      "27\n",
      "28\n",
      "29\n",
      "30\n",
      "31\n",
      "32\n",
      "33\n",
      "34\n",
      "35\n",
      "36\n",
      "37\n",
      "38\n",
      "39\n",
      "40\n",
      "41\n",
      "42\n",
      "43\n",
      "44\n",
      "45\n",
      "46\n",
      "47\n",
      "48\n",
      "49\n",
      "50\n",
      "51\n",
      "52\n",
      "53\n",
      "54\n",
      "55\n",
      "56\n",
      "57\n",
      "58\n",
      "59\n",
      "60\n",
      "61\n",
      "62\n",
      "63\n",
      "64\n",
      "65\n",
      "66\n",
      "67\n",
      "68\n",
      "69\n",
      "70\n",
      "71\n",
      "72\n",
      "73\n",
      "74\n",
      "75\n",
      "76\n",
      "77\n",
      "78\n",
      "79\n",
      "80\n",
      "81\n",
      "82\n",
      "83\n",
      "84\n",
      "85\n",
      "86\n",
      "87\n",
      "88\n",
      "89\n",
      "90\n",
      "91\n",
      "92\n",
      "93\n",
      "94\n",
      "95\n",
      "96\n",
      "97\n",
      "98\n",
      "99\n",
      "---------- change forest - random forest -----------\n",
      "avg loc error: 14.73, avg time: 5.494371454715729\n",
      "std loc error: 30.498804894618413, std time: 0.31395854893866476\n",
      "K < K*: 0, K = K*: 82, K > K*: 18\n",
      "---------- change forest - random forest - dropna -----------\n",
      "avg loc error: 14.73, avg time: 5.494371454715729\n",
      "std loc error: 30.498804894618413, std time: 0.31395854893866476\n",
      "K < K*: 0, K = K*: 82, K > K*: 18\n"
     ]
    }
   ],
   "source": [
    "np.random.seed(0)\n",
    "\n",
    "nt = Delta * T\n",
    "B = 100\n",
    "\n",
    "run_time_rf = np.zeros(B)\n",
    "loc_error_rf = np.zeros(B)\n",
    "K_rf = np.zeros(B)\n",
    "cp_best_list = []\n",
    "\n",
    "for b in range(B):\n",
    "    Y_train = Y_train_list[b]\n",
    "    Y_test = Y_test_list[b]\n",
    "    Y_all = np.zeros((2 * nt, p))\n",
    "    Y_all[np.arange(0, 2 * nt, 2), :] = Y_train\n",
    "    Y_all[np.arange(1, 2 * nt, 2), :] = Y_test\n",
    "\n",
    "    cp_truth = cp_truth_list[b]\n",
    "    \n",
    "    start_time = time.time()\n",
    "    result = changeforest.changeforest(Y_all, \"random_forest\", \"bs\")\n",
    "    cp_best = result.split_points()\n",
    "    cp_best = [x // 2 for x in cp_best]\n",
    "    \n",
    "    run_time_rf[b] = time.time() - start_time\n",
    "    loc_error_rf[b] = cp_distance(cp_best, cp_truth)\n",
    "    K_rf[b] = len(cp_best)\n",
    "\n",
    "    cp_best_list.append(cp_best)\n",
    "    print(b)\n",
    "\n",
    "print('---------- change forest - random forest -----------')\n",
    "print(\"avg loc error: {0}, avg time: {1}\".format(loc_error_rf.mean(), run_time_rf.mean()))\n",
    "print(\"std loc error: {0}, std time: {1}\".format(loc_error_rf.std(), run_time_rf.std()))\n",
    "print('K < K*: {0}, K = K*: {1}, K > K*: {2}'.format(sum(K_rf < T - 1), sum(K_rf == T - 1), sum(K_rf > T - 1)))\n",
    "\n",
    "ix = loc_error_rf < np.infty\n",
    "loc_error_ = loc_error_rf[ix]\n",
    "run_time_ = run_time_rf[ix]\n",
    "K_ = K_rf[ix]\n",
    "print('---------- change forest - random forest - dropna -----------')\n",
    "print(\"avg loc error: {0}, avg time: {1}\".format(loc_error_.mean(), run_time_.mean()))\n",
    "print(\"std loc error: {0}, std time: {1}\".format(loc_error_.std(), run_time_.std()))\n",
    "print('K < K*: {0}, K = K*: {1}, K > K*: {2}'.format(sum(K_ < T - 1), sum(K_ == T - 1), sum(K_ > T - 1)))"
   ]
  },
  {
   "cell_type": "code",
   "execution_count": null,
   "metadata": {
    "id": "lW-POJFd3T24"
   },
   "outputs": [],
   "source": [
    "import pickle\n",
    "with open(path + 'rf_bs_n' + str(nt) + '_Delta' + str(Delta) + '_K' + str(T - 1) + '_kappa' + str(int(np.mean(diff) * 100)) + '.pickle', 'wb') as f:\n",
    "    pickle.dump([cp_best_list, loc_error_rf, run_time_rf, K_rf], f)"
   ]
  }
 ],
 "metadata": {
  "colab": {
   "provenance": []
  },
  "kernelspec": {
   "display_name": "Python 3",
   "language": "python",
   "name": "python3"
  },
  "language_info": {
   "codemirror_mode": {
    "name": "ipython",
    "version": 3
   },
   "file_extension": ".py",
   "mimetype": "text/x-python",
   "name": "python",
   "nbconvert_exporter": "python",
   "pygments_lexer": "ipython3",
   "version": "3.7.4"
  }
 },
 "nbformat": 4,
 "nbformat_minor": 1
}
