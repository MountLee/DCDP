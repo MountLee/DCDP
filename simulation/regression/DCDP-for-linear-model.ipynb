{
 "cells": [
  {
   "cell_type": "code",
   "execution_count": 1,
   "metadata": {
    "colab": {
     "base_uri": "https://localhost:8080/"
    },
    "executionInfo": {
     "elapsed": 19581,
     "status": "ok",
     "timestamp": 1674086996936,
     "user": {
      "displayName": "Wanshan Li",
      "userId": "04763723389758163402"
     },
     "user_tz": 300
    },
    "id": "6fMaqWHqf1ED",
    "outputId": "8b676807-651c-44b3-e3db-7c6e72a66497"
   },
   "outputs": [
    {
     "name": "stdout",
     "output_type": "stream",
     "text": [
      "Mounted at /content/drive\n"
     ]
    }
   ],
   "source": [
    "from google.colab import drive\n",
    "drive.mount('/content/drive')\n",
    "\n",
    "import os, sys\n",
    "sys.path.append('/content/drive/MyDrive/DCDP/linear')"
   ]
  },
  {
   "cell_type": "code",
   "execution_count": 2,
   "metadata": {
    "executionInfo": {
     "elapsed": 2954,
     "status": "ok",
     "timestamp": 1674086999887,
     "user": {
      "displayName": "Wanshan Li",
      "userId": "04763723389758163402"
     },
     "user_tz": 300
    },
    "id": "3Yq4Akb9b1X7"
   },
   "outputs": [],
   "source": [
    "import numpy as np\n",
    "import matplotlib.pyplot as plt\n",
    "import scipy.stats as stats\n",
    "import random\n",
    "\n",
    "import itertools\n",
    "\n",
    "from cpd_utils import *\n",
    "\n",
    "import time\n",
    "import bisect\n",
    "\n",
    "import pandas as pd\n",
    "\n",
    "from warnings import simplefilter\n",
    "from sklearn.exceptions import ConvergenceWarning\n",
    "simplefilter(\"ignore\", category=ConvergenceWarning)"
   ]
  },
  {
   "cell_type": "markdown",
   "metadata": {
    "id": "ncn2WXuQb1YB"
   },
   "source": [
    "# DCDP"
   ]
  },
  {
   "cell_type": "code",
   "execution_count": 3,
   "metadata": {
    "colab": {
     "base_uri": "https://localhost:8080/"
    },
    "executionInfo": {
     "elapsed": 867,
     "status": "ok",
     "timestamp": 1674087000743,
     "user": {
      "displayName": "Wanshan Li",
      "userId": "04763723389758163402"
     },
     "user_tz": 300
    },
    "id": "XIPoUEjZf_ZC",
    "outputId": "66dcab79-d6ef-4d13-a59a-a03c6e85f4cf"
   },
   "outputs": [
    {
     "name": "stdout",
     "output_type": "stream",
     "text": [
      "[15.8113883 15.8113883 15.8113883]\n"
     ]
    }
   ],
   "source": [
    "T = 4\n",
    "Delta = 50\n",
    "n = np.array([Delta] * T)\n",
    "cp_truth = np.cumsum(n)[:T-1]\n",
    "\n",
    "p = 20\n",
    "theta = np.zeros((T, p))\n",
    "for t in range(T):\n",
    "    theta[t, 5 * t: 5 * (t + 1)] = 5\n",
    "\n",
    "diff = np.zeros(T - 1)\n",
    "for t in range(1, T):\n",
    "    diff[t - 1] = np.sum(np.abs(theta[t] - theta[t - 1])**2)**0.5\n",
    "print(diff)\n",
    "\n",
    "nt = Delta * T\n",
    "\n",
    "path = '/content/drive/MyDrive/DCDP/linear/'\n",
    "with open(path + 'data_n' + str(nt) + '_p' + str(p) + '_Delta' + str(Delta) + '_K' + str(T - 1) + '_kappa' + str(int(np.mean(diff) * 100)) + '.npz', 'rb') as f:\n",
    "    data = np.load(f)\n",
    "    Y_train_list = data.f.Y_train_list\n",
    "    X_train_list = data.f.X_train_list\n",
    "    Y_test_list = data.f.Y_test_list\n",
    "    X_test_list = data.f.X_test_list\n",
    "    cp_truth_list = data.f.cp_truth_list\n",
    "    beta = data.f.beta"
   ]
  },
  {
   "cell_type": "code",
   "execution_count": 6,
   "metadata": {
    "colab": {
     "base_uri": "https://localhost:8080/"
    },
    "executionInfo": {
     "elapsed": 509784,
     "status": "ok",
     "timestamp": 1674087776955,
     "user": {
      "displayName": "Wanshan Li",
      "userId": "04763723389758163402"
     },
     "user_tz": 300
    },
    "id": "e7cww94AqLnG",
    "outputId": "ef868671-acca-439d-d545-c11edb1f097e"
   },
   "outputs": [
    {
     "name": "stdout",
     "output_type": "stream",
     "text": [
      "0\n",
      "1\n",
      "2\n",
      "3\n",
      "4\n",
      "5\n",
      "6\n",
      "7\n",
      "8\n",
      "9\n",
      "10\n",
      "11\n",
      "12\n",
      "13\n",
      "14\n",
      "15\n",
      "16\n",
      "17\n",
      "18\n",
      "19\n",
      "20\n",
      "21\n",
      "22\n",
      "23\n",
      "24\n",
      "25\n",
      "26\n",
      "27\n",
      "28\n",
      "29\n",
      "30\n",
      "31\n",
      "32\n",
      "33\n",
      "34\n",
      "35\n",
      "36\n",
      "37\n",
      "38\n",
      "39\n",
      "40\n",
      "41\n",
      "42\n",
      "43\n",
      "44\n",
      "45\n",
      "46\n",
      "47\n",
      "48\n",
      "49\n",
      "50\n",
      "51\n",
      "52\n",
      "53\n",
      "54\n",
      "55\n",
      "56\n",
      "57\n",
      "58\n",
      "59\n",
      "60\n",
      "61\n",
      "62\n",
      "63\n",
      "64\n",
      "65\n",
      "66\n",
      "67\n",
      "68\n",
      "69\n",
      "70\n",
      "71\n",
      "72\n",
      "73\n",
      "74\n",
      "75\n",
      "76\n",
      "77\n",
      "78\n",
      "79\n",
      "80\n",
      "81\n",
      "82\n",
      "83\n",
      "84\n",
      "85\n",
      "86\n",
      "87\n",
      "88\n",
      "89\n",
      "90\n",
      "91\n",
      "92\n",
      "93\n",
      "94\n",
      "95\n",
      "96\n",
      "97\n",
      "98\n",
      "99\n",
      "---------- dcdp -----------\n",
      "avg loc error: 0.03, avg time: 5.094972579479218\n",
      "std loc error: 0.1705872210923198, std time: 0.2815490618215609\n",
      "K < K*: 0, K = K*: 100, K > K*: 0\n"
     ]
    }
   ],
   "source": [
    "np.random.seed(0)\n",
    "\n",
    "grid_n = 100\n",
    "gamma_list = [400, 800]\n",
    "lam_list = [0.1]\n",
    "\n",
    "nt = Delta * T\n",
    "B = 100\n",
    "\n",
    "run_time_dc = np.zeros(B)\n",
    "loc_error_dc = np.zeros(B)\n",
    "K_dc = np.zeros(B)\n",
    "\n",
    "cp_best_list = []\n",
    "param_best_list = []\n",
    "cp_best_cand_list = []\n",
    "\n",
    "for b in range(B):\n",
    "    Y_train = Y_train_list[b]\n",
    "    X_train = X_train_list[b]\n",
    "    Y_test = Y_test_list[b]\n",
    "    X_test = X_test_list[b]\n",
    "    cp_truth = cp_truth_list[b]\n",
    "\n",
    "    start_time = time.time()\n",
    "    dcdp = dcdp_cv_grid_linear(grid_n, lam_list, gamma_list, smooth = 2, \n",
    "                    buffer = 2, step_refine = 1, buffer_refine = 2, lam_refine = 0.1)\n",
    "    cp_best, param_best, cp_best_cand = dcdp.fit((Y_train, X_train), (Y_test, X_test))\n",
    "    run_time_dc[b] = time.time() - start_time\n",
    "    loc_error_dc[b] = cp_distance(cp_best, cp_truth)\n",
    "    K_dc[b] = len(cp_best)\n",
    "\n",
    "    cp_best_list.append(cp_best)\n",
    "    param_best_list.append(param_best)\n",
    "    cp_best_cand_list.append(cp_best_cand)\n",
    "    print(b)\n",
    "\n",
    "\n",
    "print('---------- dcdp -----------')\n",
    "print(\"avg loc error: {0}, avg time: {1}\".format(loc_error_dc.mean(), run_time_dc.mean()))\n",
    "print(\"std loc error: {0}, std time: {1}\".format(loc_error_dc.std(), run_time_dc.std()))\n",
    "print('K < K*: {0}, K = K*: {1}, K > K*: {2}'.format(sum(K_dc < T - 1), sum(K_dc == T - 1), sum(K_dc > T - 1)))"
   ]
  },
  {
   "cell_type": "code",
   "execution_count": 7,
   "metadata": {
    "colab": {
     "base_uri": "https://localhost:8080/"
    },
    "executionInfo": {
     "elapsed": 29,
     "status": "ok",
     "timestamp": 1674087776956,
     "user": {
      "displayName": "Wanshan Li",
      "userId": "04763723389758163402"
     },
     "user_tz": 300
    },
    "id": "3NGFrk_pqLnG",
    "outputId": "72446a32-365e-4829-abc4-d9d52a0461ec"
   },
   "outputs": [
    {
     "data": {
      "text/plain": [
       "array([0., 0., 0., 0., 0., 0., 0., 0., 0., 0., 0., 0., 0., 0., 0., 0., 0.,\n",
       "       0., 0., 0., 0., 0., 0., 0., 0., 0., 0., 0., 0., 0., 0., 0., 0., 0.,\n",
       "       0., 0., 0., 0., 0., 0., 0., 1., 0., 0., 0., 0., 0., 0., 0., 0., 0.,\n",
       "       0., 0., 0., 0., 0., 0., 0., 0., 0., 0., 0., 0., 0., 0., 0., 0., 0.,\n",
       "       0., 0., 0., 0., 0., 0., 0., 0., 1., 0., 0., 0., 0., 0., 0., 0., 0.,\n",
       "       0., 0., 0., 0., 0., 0., 0., 0., 0., 0., 0., 0., 1., 0., 0.])"
      ]
     },
     "execution_count": 7,
     "metadata": {},
     "output_type": "execute_result"
    }
   ],
   "source": [
    "loc_error_dc"
   ]
  },
  {
   "cell_type": "code",
   "execution_count": 8,
   "metadata": {
    "executionInfo": {
     "elapsed": 164,
     "status": "ok",
     "timestamp": 1674087777097,
     "user": {
      "displayName": "Wanshan Li",
      "userId": "04763723389758163402"
     },
     "user_tz": 300
    },
    "id": "hSmhmVefhsfG"
   },
   "outputs": [],
   "source": [
    "import pickle\n",
    "with open(path + 'dcdp_n' + str(nt) + '_p' + str(p) + '_Delta' + str(Delta) + '_K' + str(T - 1) + '_kappa' + str(int(np.mean(diff) * 100)) + '_grid' + str(grid_n) + '.pickle', 'wb') as f:\n",
    "    pickle.dump([cp_best_list, param_best_list, cp_best_cand_list, loc_error_dc, run_time_dc, K_dc], f)"
   ]
  },
  {
   "cell_type": "code",
   "execution_count": null,
   "metadata": {},
   "outputs": [],
   "source": []
  },
  {
   "cell_type": "code",
   "execution_count": 9,
   "metadata": {
    "colab": {
     "base_uri": "https://localhost:8080/"
    },
    "executionInfo": {
     "elapsed": 347,
     "status": "ok",
     "timestamp": 1674087777442,
     "user": {
      "displayName": "Wanshan Li",
      "userId": "04763723389758163402"
     },
     "user_tz": 300
    },
    "id": "-wIHI0NTlD-F",
    "outputId": "800eb585-af15-45e4-e7d1-3c2954024daf"
   },
   "outputs": [
    {
     "name": "stdout",
     "output_type": "stream",
     "text": [
      "[3.16227766 3.16227766 3.16227766]\n"
     ]
    }
   ],
   "source": [
    "T = 4\n",
    "Delta = 50\n",
    "n = np.array([Delta] * T)\n",
    "cp_truth = np.cumsum(n)[:T-1]\n",
    "\n",
    "p = 20\n",
    "theta = np.zeros((T, p))\n",
    "for t in range(T):\n",
    "    theta[t, 5 * t: 5 * (t + 1)] = 1\n",
    "\n",
    "diff = np.zeros(T - 1)\n",
    "for t in range(1, T):\n",
    "    diff[t - 1] = np.sum(np.abs(theta[t] - theta[t - 1])**2)**0.5\n",
    "print(diff)\n",
    "\n",
    "nt = Delta * T\n",
    "\n",
    "path = '/content/drive/MyDrive/DCDP/linear/'\n",
    "with open(path + 'data_n' + str(nt) + '_p' + str(p) + '_Delta' + str(Delta) + '_K' + str(T - 1) + '_kappa' + str(int(np.mean(diff) * 100)) + '.npz', 'rb') as f:\n",
    "    data = np.load(f)\n",
    "    Y_train_list = data.f.Y_train_list\n",
    "    X_train_list = data.f.X_train_list\n",
    "    Y_test_list = data.f.Y_test_list\n",
    "    X_test_list = data.f.X_test_list\n",
    "    cp_truth_list = data.f.cp_truth_list\n",
    "    beta = data.f.beta"
   ]
  },
  {
   "cell_type": "code",
   "execution_count": 10,
   "metadata": {
    "colab": {
     "base_uri": "https://localhost:8080/"
    },
    "executionInfo": {
     "elapsed": 232146,
     "status": "ok",
     "timestamp": 1674088009586,
     "user": {
      "displayName": "Wanshan Li",
      "userId": "04763723389758163402"
     },
     "user_tz": 300
    },
    "id": "OBVaZO_IlD-H",
    "outputId": "fea434dd-c3ee-43fe-8e52-9e92c6e1e547"
   },
   "outputs": [
    {
     "name": "stdout",
     "output_type": "stream",
     "text": [
      "0\n",
      "1\n",
      "2\n",
      "3\n",
      "4\n",
      "5\n",
      "6\n",
      "7\n",
      "8\n",
      "9\n",
      "10\n",
      "11\n",
      "12\n",
      "13\n",
      "14\n",
      "15\n",
      "16\n",
      "17\n",
      "18\n",
      "19\n",
      "20\n",
      "21\n",
      "22\n",
      "23\n",
      "24\n",
      "25\n",
      "26\n",
      "27\n",
      "28\n",
      "29\n",
      "30\n",
      "31\n",
      "32\n",
      "33\n",
      "34\n",
      "35\n",
      "36\n",
      "37\n",
      "38\n",
      "39\n",
      "40\n",
      "41\n",
      "42\n",
      "43\n",
      "44\n",
      "45\n",
      "46\n",
      "47\n",
      "48\n",
      "49\n",
      "50\n",
      "51\n",
      "52\n",
      "53\n",
      "54\n",
      "55\n",
      "56\n",
      "57\n",
      "58\n",
      "59\n",
      "60\n",
      "61\n",
      "62\n",
      "63\n",
      "64\n",
      "65\n",
      "66\n",
      "67\n",
      "68\n",
      "69\n",
      "70\n",
      "71\n",
      "72\n",
      "73\n",
      "74\n",
      "75\n",
      "76\n",
      "77\n",
      "78\n",
      "79\n",
      "80\n",
      "81\n",
      "82\n",
      "83\n",
      "84\n",
      "85\n",
      "86\n",
      "87\n",
      "88\n",
      "89\n",
      "90\n",
      "91\n",
      "92\n",
      "93\n",
      "94\n",
      "95\n",
      "96\n",
      "97\n",
      "98\n",
      "99\n",
      "---------- dcdp -----------\n",
      "avg loc error: 0.94, avg time: 2.3196595120429992\n",
      "std loc error: 5.172658890744681, std time: 0.17977843574693037\n",
      "K < K*: 2, K = K*: 98, K > K*: 0\n"
     ]
    }
   ],
   "source": [
    "np.random.seed(0)\n",
    "\n",
    "grid_n = 100\n",
    "gamma_list = [100]\n",
    "lam_list = [0.1]\n",
    "\n",
    "nt = Delta * T\n",
    "B = 100\n",
    "\n",
    "run_time_dc = np.zeros(B)\n",
    "loc_error_dc = np.zeros(B)\n",
    "K_dc = np.zeros(B)\n",
    "\n",
    "cp_best_list = []\n",
    "param_best_list = []\n",
    "cp_best_cand_list = []\n",
    "\n",
    "for b in range(B):\n",
    "    Y_train = Y_train_list[b]\n",
    "    X_train = X_train_list[b]\n",
    "    Y_test = Y_test_list[b]\n",
    "    X_test = X_test_list[b]\n",
    "    cp_truth = cp_truth_list[b]\n",
    "\n",
    "    start_time = time.time()\n",
    "    dcdp = dcdp_cv_grid_linear(grid_n, lam_list, gamma_list, smooth = 2, \n",
    "                    buffer = 2, step_refine = 1, buffer_refine = 2, lam_refine = 0.1)\n",
    "    cp_best, param_best, cp_best_cand = dcdp.fit((Y_train, X_train), (Y_test, X_test))\n",
    "    run_time_dc[b] = time.time() - start_time\n",
    "    loc_error_dc[b] = cp_distance(cp_best, cp_truth)\n",
    "    K_dc[b] = len(cp_best)\n",
    "\n",
    "    cp_best_list.append(cp_best)\n",
    "    param_best_list.append(param_best)\n",
    "    cp_best_cand_list.append(cp_best_cand)\n",
    "    print(b)\n",
    "\n",
    "\n",
    "print('---------- dcdp -----------')\n",
    "print(\"avg loc error: {0}, avg time: {1}\".format(loc_error_dc.mean(), run_time_dc.mean()))\n",
    "print(\"std loc error: {0}, std time: {1}\".format(loc_error_dc.std(), run_time_dc.std()))\n",
    "print('K < K*: {0}, K = K*: {1}, K > K*: {2}'.format(sum(K_dc < T - 1), sum(K_dc == T - 1), sum(K_dc > T - 1)))"
   ]
  },
  {
   "cell_type": "code",
   "execution_count": 11,
   "metadata": {
    "colab": {
     "base_uri": "https://localhost:8080/"
    },
    "executionInfo": {
     "elapsed": 21,
     "status": "ok",
     "timestamp": 1674088009586,
     "user": {
      "displayName": "Wanshan Li",
      "userId": "04763723389758163402"
     },
     "user_tz": 300
    },
    "id": "XnAgGsedlD-I",
    "outputId": "258adb0d-c61b-4dee-e2f5-b3998146f82e"
   },
   "outputs": [
    {
     "data": {
      "text/plain": [
       "array([ 0.,  1.,  0.,  0.,  0.,  0.,  0.,  0.,  0.,  0.,  0.,  0.,  0.,\n",
       "        0.,  0.,  1.,  0.,  0.,  0.,  0.,  0.,  0.,  0.,  0.,  0.,  0.,\n",
       "        0.,  0.,  0.,  1.,  0., 38.,  0.,  0.,  0.,  0.,  0.,  0.,  2.,\n",
       "        0.,  0.,  1.,  0.,  0.,  1.,  0.,  0.,  0.,  1.,  1.,  0.,  0.,\n",
       "        0.,  1.,  0.,  0.,  0.,  0.,  0.,  0.,  0.,  0.,  0.,  0.,  0.,\n",
       "        0.,  0.,  0.,  0.,  0.,  2.,  0.,  0.,  0.,  1.,  0.,  1., 36.,\n",
       "        0.,  0.,  1.,  0.,  0.,  0.,  0.,  0.,  0.,  0.,  0.,  0.,  0.,\n",
       "        0.,  0.,  0.,  1.,  0.,  1.,  1.,  1.,  1.])"
      ]
     },
     "execution_count": 11,
     "metadata": {},
     "output_type": "execute_result"
    }
   ],
   "source": [
    "loc_error_dc"
   ]
  },
  {
   "cell_type": "code",
   "execution_count": 12,
   "metadata": {
    "executionInfo": {
     "elapsed": 174,
     "status": "ok",
     "timestamp": 1674088009742,
     "user": {
      "displayName": "Wanshan Li",
      "userId": "04763723389758163402"
     },
     "user_tz": 300
    },
    "id": "ztUuG_bMlD-J"
   },
   "outputs": [],
   "source": [
    "import pickle\n",
    "with open(path + 'dcdp_n' + str(nt) + '_p' + str(p) + '_Delta' + str(Delta) + '_K' + str(T - 1) + '_kappa' + str(int(np.mean(diff) * 100)) + '_grid' + str(grid_n) + '.pickle', 'wb') as f:\n",
    "    pickle.dump([cp_best_list, param_best_list, cp_best_cand_list, loc_error_dc, run_time_dc, K_dc], f)"
   ]
  },
  {
   "cell_type": "code",
   "execution_count": 12,
   "metadata": {
    "executionInfo": {
     "elapsed": 6,
     "status": "ok",
     "timestamp": 1674088009743,
     "user": {
      "displayName": "Wanshan Li",
      "userId": "04763723389758163402"
     },
     "user_tz": 300
    },
    "id": "7Crr3uxSlGkT"
   },
   "outputs": [],
   "source": []
  },
  {
   "cell_type": "code",
   "execution_count": 13,
   "metadata": {
    "colab": {
     "base_uri": "https://localhost:8080/"
    },
    "executionInfo": {
     "elapsed": 540,
     "status": "ok",
     "timestamp": 1674088010278,
     "user": {
      "displayName": "Wanshan Li",
      "userId": "04763723389758163402"
     },
     "user_tz": 300
    },
    "id": "uxEciocKlHLs",
    "outputId": "8d6e154e-8687-49df-c866-b2516242666c"
   },
   "outputs": [
    {
     "name": "stdout",
     "output_type": "stream",
     "text": [
      "[1.58113883 1.58113883 1.58113883]\n"
     ]
    }
   ],
   "source": [
    "T = 4\n",
    "Delta = 50\n",
    "n = np.array([Delta] * T)\n",
    "cp_truth = np.cumsum(n)[:T-1]\n",
    "\n",
    "p = 20\n",
    "theta = np.zeros((T, p))\n",
    "for t in range(T):\n",
    "    theta[t, 5 * t: 5 * (t + 1)] = 0.5\n",
    "\n",
    "diff = np.zeros(T - 1)\n",
    "for t in range(1, T):\n",
    "    diff[t - 1] = np.sum(np.abs(theta[t] - theta[t - 1])**2)**0.5\n",
    "print(diff)\n",
    "\n",
    "nt = Delta * T\n",
    "\n",
    "path = '/content/drive/MyDrive/DCDP/linear/'\n",
    "with open(path + 'data_n' + str(nt) + '_p' + str(p) + '_Delta' + str(Delta) + '_K' + str(T - 1) + '_kappa' + str(int(np.mean(diff) * 100)) + '.npz', 'rb') as f:\n",
    "    data = np.load(f)\n",
    "    Y_train_list = data.f.Y_train_list\n",
    "    X_train_list = data.f.X_train_list\n",
    "    Y_test_list = data.f.Y_test_list\n",
    "    X_test_list = data.f.X_test_list\n",
    "    cp_truth_list = data.f.cp_truth_list\n",
    "    beta = data.f.beta"
   ]
  },
  {
   "cell_type": "code",
   "execution_count": 14,
   "metadata": {
    "colab": {
     "base_uri": "https://localhost:8080/"
    },
    "executionInfo": {
     "elapsed": 221729,
     "status": "ok",
     "timestamp": 1674088232005,
     "user": {
      "displayName": "Wanshan Li",
      "userId": "04763723389758163402"
     },
     "user_tz": 300
    },
    "id": "8DquBGcglHLt",
    "outputId": "9be211d5-a6c5-4ed7-eee7-dea5c4629aff"
   },
   "outputs": [
    {
     "name": "stdout",
     "output_type": "stream",
     "text": [
      "0\n",
      "1\n",
      "2\n",
      "3\n",
      "4\n",
      "5\n",
      "6\n",
      "7\n",
      "8\n",
      "9\n",
      "10\n",
      "11\n",
      "12\n",
      "13\n",
      "14\n",
      "15\n",
      "16\n",
      "17\n",
      "18\n",
      "19\n",
      "20\n",
      "21\n",
      "22\n",
      "23\n",
      "24\n",
      "25\n",
      "26\n",
      "27\n",
      "28\n",
      "29\n",
      "30\n",
      "31\n",
      "32\n",
      "33\n",
      "34\n",
      "35\n",
      "36\n",
      "37\n",
      "38\n",
      "39\n",
      "40\n",
      "41\n",
      "42\n",
      "43\n",
      "44\n",
      "45\n",
      "46\n",
      "47\n",
      "48\n",
      "49\n",
      "50\n",
      "51\n",
      "52\n",
      "53\n",
      "54\n",
      "55\n",
      "56\n",
      "57\n",
      "58\n",
      "59\n",
      "60\n",
      "61\n",
      "62\n",
      "63\n",
      "64\n",
      "65\n",
      "66\n",
      "67\n",
      "68\n",
      "69\n",
      "70\n",
      "71\n",
      "72\n",
      "73\n",
      "74\n",
      "75\n",
      "76\n",
      "77\n",
      "78\n",
      "79\n",
      "80\n",
      "81\n",
      "82\n",
      "83\n",
      "84\n",
      "85\n",
      "86\n",
      "87\n",
      "88\n",
      "89\n",
      "90\n",
      "91\n",
      "92\n",
      "93\n",
      "94\n",
      "95\n",
      "96\n",
      "97\n",
      "98\n",
      "99\n",
      "---------- dcdp -----------\n",
      "avg loc error: 32.69, avg time: 2.2162219786643984\n",
      "std loc error: 26.088194648154552, std time: 0.17497905827316967\n",
      "K < K*: 66, K = K*: 34, K > K*: 0\n"
     ]
    }
   ],
   "source": [
    "np.random.seed(0)\n",
    "\n",
    "grid_n = 100\n",
    "gamma_list = [50]\n",
    "lam_list = [0.1]\n",
    "\n",
    "nt = Delta * T\n",
    "B = 100\n",
    "\n",
    "run_time_dc = np.zeros(B)\n",
    "loc_error_dc = np.zeros(B)\n",
    "K_dc = np.zeros(B)\n",
    "\n",
    "cp_best_list = []\n",
    "param_best_list = []\n",
    "cp_best_cand_list = []\n",
    "\n",
    "for b in range(B):\n",
    "    Y_train = Y_train_list[b]\n",
    "    X_train = X_train_list[b]\n",
    "    Y_test = Y_test_list[b]\n",
    "    X_test = X_test_list[b]\n",
    "    cp_truth = cp_truth_list[b]\n",
    "\n",
    "    start_time = time.time()\n",
    "    dcdp = dcdp_cv_grid_linear(grid_n, lam_list, gamma_list, smooth = 2, \n",
    "                    buffer = 2, step_refine = 1, buffer_refine = 2, lam_refine = 0.1)\n",
    "    cp_best, param_best, cp_best_cand = dcdp.fit((Y_train, X_train), (Y_test, X_test))\n",
    "    run_time_dc[b] = time.time() - start_time\n",
    "    loc_error_dc[b] = cp_distance(cp_best, cp_truth)\n",
    "    K_dc[b] = len(cp_best)\n",
    "\n",
    "    cp_best_list.append(cp_best)\n",
    "    param_best_list.append(param_best)\n",
    "    cp_best_cand_list.append(cp_best_cand)\n",
    "    print(b)\n",
    "\n",
    "\n",
    "print('---------- dcdp -----------')\n",
    "print(\"avg loc error: {0}, avg time: {1}\".format(loc_error_dc.mean(), run_time_dc.mean()))\n",
    "print(\"std loc error: {0}, std time: {1}\".format(loc_error_dc.std(), run_time_dc.std()))\n",
    "print('K < K*: {0}, K = K*: {1}, K > K*: {2}'.format(sum(K_dc < T - 1), sum(K_dc == T - 1), sum(K_dc > T - 1)))"
   ]
  },
  {
   "cell_type": "code",
   "execution_count": 15,
   "metadata": {
    "colab": {
     "base_uri": "https://localhost:8080/"
    },
    "executionInfo": {
     "elapsed": 7,
     "status": "ok",
     "timestamp": 1674088232006,
     "user": {
      "displayName": "Wanshan Li",
      "userId": "04763723389758163402"
     },
     "user_tz": 300
    },
    "id": "halbNO8ilHLt",
    "outputId": "36997cc0-fb0b-4c4f-ff9e-de571c3915a3"
   },
   "outputs": [
    {
     "data": {
      "text/plain": [
       "array([ 56.,  46.,   0.,  42.,  42.,  50.,  42.,   0.,   0.,  54.,  51.,\n",
       "        61.,   0.,   1.,  54.,  36.,  36.,   0.,   0.,  35.,  40.,   0.,\n",
       "        50.,   0.,  39.,   0.,  44.,  64.,  39.,   1.,   1.,  38.,  44.,\n",
       "        35.,   0.,  83.,   0.,  58.,  35.,   1.,  64.,  40.,  38.,   0.,\n",
       "        61.,   0.,  50.,   0.,  52.,  49.,   0.,  45.,  47.,   1.,  52.,\n",
       "        37.,   1.,  28.,   0.,  44.,  39.,  37.,   0.,   0.,  43.,  47.,\n",
       "        38.,   0.,  50.,  54., 114.,   0.,  51.,  48.,  52.,   0.,  39.,\n",
       "        36.,   0.,  43.,  77.,  57.,   0.,  63.,   1.,  49.,   0.,  36.,\n",
       "        61.,   0.,  40.,  60.,  57.,  56.,  46., 101.,  48.,  36.,   1.,\n",
       "         2.])"
      ]
     },
     "execution_count": 15,
     "metadata": {},
     "output_type": "execute_result"
    }
   ],
   "source": [
    "loc_error_dc"
   ]
  },
  {
   "cell_type": "code",
   "execution_count": 16,
   "metadata": {
    "executionInfo": {
     "elapsed": 149,
     "status": "ok",
     "timestamp": 1674088232152,
     "user": {
      "displayName": "Wanshan Li",
      "userId": "04763723389758163402"
     },
     "user_tz": 300
    },
    "id": "SFTmtMt_I19-"
   },
   "outputs": [],
   "source": [
    "import pickle\n",
    "with open(path + 'dcdp_n' + str(nt) + '_p' + str(p) + '_Delta' + str(Delta) + '_K' + str(T - 1) + '_kappa' + str(int(np.mean(diff) * 100)) + '_grid' + str(grid_n) + '.pickle', 'wb') as f:\n",
    "    pickle.dump([cp_best_list, param_best_list, cp_best_cand_list, loc_error_dc, run_time_dc, K_dc], f)"
   ]
  },
  {
   "cell_type": "code",
   "execution_count": 16,
   "metadata": {
    "executionInfo": {
     "elapsed": 1,
     "status": "ok",
     "timestamp": 1674088232152,
     "user": {
      "displayName": "Wanshan Li",
      "userId": "04763723389758163402"
     },
     "user_tz": 300
    },
    "id": "HzE5jKnk725m"
   },
   "outputs": [],
   "source": []
  },
  {
   "cell_type": "code",
   "execution_count": 17,
   "metadata": {
    "colab": {
     "base_uri": "https://localhost:8080/"
    },
    "executionInfo": {
     "elapsed": 643,
     "status": "ok",
     "timestamp": 1674088232997,
     "user": {
      "displayName": "Wanshan Li",
      "userId": "04763723389758163402"
     },
     "user_tz": 300
    },
    "id": "f1OCXNLi78w_",
    "outputId": "b1e94309-c2dc-4cc9-ef90-6d1398069579"
   },
   "outputs": [
    {
     "name": "stdout",
     "output_type": "stream",
     "text": [
      "[15.8113883 15.8113883 15.8113883]\n"
     ]
    }
   ],
   "source": [
    "T = 4\n",
    "Delta = 50\n",
    "n = np.array([Delta] * T)\n",
    "cp_truth = np.cumsum(n)[:T-1]\n",
    "\n",
    "p = 100\n",
    "theta = np.zeros((T, p))\n",
    "for t in range(T):\n",
    "    theta[t, 5 * t: 5 * (t + 1)] = 5\n",
    "\n",
    "diff = np.zeros(T - 1)\n",
    "for t in range(1, T):\n",
    "    diff[t - 1] = np.sum(np.abs(theta[t] - theta[t - 1])**2)**0.5\n",
    "print(diff)\n",
    "\n",
    "nt = Delta * T\n",
    "\n",
    "path = '/content/drive/MyDrive/DCDP/linear/'\n",
    "with open(path + 'data_n' + str(nt) + '_p' + str(p) + '_Delta' + str(Delta) + '_K' + str(T - 1) + '_kappa' + str(int(np.mean(diff) * 100)) + '.npz', 'rb') as f:\n",
    "    data = np.load(f)\n",
    "    Y_train_list = data.f.Y_train_list\n",
    "    X_train_list = data.f.X_train_list\n",
    "    Y_test_list = data.f.Y_test_list\n",
    "    X_test_list = data.f.X_test_list\n",
    "    cp_truth_list = data.f.cp_truth_list\n",
    "    beta = data.f.beta"
   ]
  },
  {
   "cell_type": "code",
   "execution_count": 18,
   "metadata": {
    "colab": {
     "base_uri": "https://localhost:8080/"
    },
    "executionInfo": {
     "elapsed": 1839653,
     "status": "ok",
     "timestamp": 1674090072649,
     "user": {
      "displayName": "Wanshan Li",
      "userId": "04763723389758163402"
     },
     "user_tz": 300
    },
    "id": "yKK3MNJT78xA",
    "outputId": "7a8c65ff-83ac-4fcd-c61f-ed9a29b8f469"
   },
   "outputs": [
    {
     "name": "stdout",
     "output_type": "stream",
     "text": [
      "0\n",
      "1\n",
      "2\n",
      "3\n",
      "4\n",
      "5\n",
      "6\n",
      "7\n",
      "8\n",
      "9\n",
      "10\n",
      "11\n",
      "12\n",
      "13\n",
      "14\n",
      "15\n",
      "16\n",
      "17\n",
      "18\n",
      "19\n",
      "20\n",
      "21\n",
      "22\n",
      "23\n",
      "24\n",
      "25\n",
      "26\n",
      "27\n",
      "28\n",
      "29\n",
      "30\n",
      "31\n",
      "32\n",
      "33\n",
      "34\n",
      "35\n",
      "36\n",
      "37\n",
      "38\n",
      "39\n",
      "40\n",
      "41\n",
      "42\n",
      "43\n",
      "44\n",
      "45\n",
      "46\n",
      "47\n",
      "48\n",
      "49\n",
      "50\n",
      "51\n",
      "52\n",
      "53\n",
      "54\n",
      "55\n",
      "56\n",
      "57\n",
      "58\n",
      "59\n",
      "60\n",
      "61\n",
      "62\n",
      "63\n",
      "64\n",
      "65\n",
      "66\n",
      "67\n",
      "68\n",
      "69\n",
      "70\n",
      "71\n",
      "72\n",
      "73\n",
      "74\n",
      "75\n",
      "76\n",
      "77\n",
      "78\n",
      "79\n",
      "80\n",
      "81\n",
      "82\n",
      "83\n",
      "84\n",
      "85\n",
      "86\n",
      "87\n",
      "88\n",
      "89\n",
      "90\n",
      "91\n",
      "92\n",
      "93\n",
      "94\n",
      "95\n",
      "96\n",
      "97\n",
      "98\n",
      "99\n",
      "---------- dcdp -----------\n",
      "avg loc error: 0.13, avg time: 18.396090075969695\n",
      "std loc error: 0.39127995093027695, std time: 1.0504293344667184\n",
      "K < K*: 0, K = K*: 100, K > K*: 0\n"
     ]
    }
   ],
   "source": [
    "np.random.seed(0)\n",
    "\n",
    "grid_n = 100\n",
    "gamma_list = [100]\n",
    "lam_list = [0.1]\n",
    "\n",
    "nt = Delta * T\n",
    "B = 100\n",
    "\n",
    "run_time_dc = np.zeros(B)\n",
    "loc_error_dc = np.zeros(B)\n",
    "K_dc = np.zeros(B)\n",
    "\n",
    "cp_best_list = []\n",
    "param_best_list = []\n",
    "cp_best_cand_list = []\n",
    "\n",
    "for b in range(B):\n",
    "    Y_train = Y_train_list[b]\n",
    "    X_train = X_train_list[b]\n",
    "    Y_test = Y_test_list[b]\n",
    "    X_test = X_test_list[b]\n",
    "    cp_truth = cp_truth_list[b]\n",
    "\n",
    "    start_time = time.time()\n",
    "    dcdp = dcdp_cv_grid_linear(grid_n, lam_list, gamma_list, smooth = 2, \n",
    "                    buffer = 2, step_refine = 1, buffer_refine = 2, lam_refine = 0.1)\n",
    "    cp_best, param_best, cp_best_cand = dcdp.fit((Y_train, X_train), (Y_test, X_test))\n",
    "    run_time_dc[b] = time.time() - start_time\n",
    "    loc_error_dc[b] = cp_distance(cp_best, cp_truth)\n",
    "    K_dc[b] = len(cp_best)\n",
    "\n",
    "    cp_best_list.append(cp_best)\n",
    "    param_best_list.append(param_best)\n",
    "    cp_best_cand_list.append(cp_best_cand)\n",
    "    print(b)\n",
    "\n",
    "\n",
    "print('---------- dcdp -----------')\n",
    "print(\"avg loc error: {0}, avg time: {1}\".format(loc_error_dc.mean(), run_time_dc.mean()))\n",
    "print(\"std loc error: {0}, std time: {1}\".format(loc_error_dc.std(), run_time_dc.std()))\n",
    "print('K < K*: {0}, K = K*: {1}, K > K*: {2}'.format(sum(K_dc < T - 1), sum(K_dc == T - 1), sum(K_dc > T - 1)))"
   ]
  },
  {
   "cell_type": "code",
   "execution_count": 19,
   "metadata": {
    "colab": {
     "base_uri": "https://localhost:8080/"
    },
    "executionInfo": {
     "elapsed": 5,
     "status": "ok",
     "timestamp": 1674090072649,
     "user": {
      "displayName": "Wanshan Li",
      "userId": "04763723389758163402"
     },
     "user_tz": 300
    },
    "id": "2hxoZVml78xB",
    "outputId": "23f5af59-a728-44fd-cc2a-f63faf1961b8"
   },
   "outputs": [
    {
     "data": {
      "text/plain": [
       "array([0., 0., 0., 0., 0., 0., 0., 0., 0., 0., 0., 0., 0., 2., 0., 0., 0.,\n",
       "       0., 0., 0., 0., 0., 0., 0., 0., 1., 0., 0., 0., 0., 0., 0., 0., 0.,\n",
       "       0., 0., 0., 1., 0., 1., 0., 0., 1., 0., 0., 0., 0., 0., 0., 0., 2.,\n",
       "       0., 1., 0., 0., 0., 0., 0., 0., 0., 0., 0., 0., 0., 0., 0., 0., 0.,\n",
       "       0., 0., 0., 0., 0., 1., 0., 0., 1., 0., 0., 0., 0., 0., 0., 0., 0.,\n",
       "       0., 0., 0., 0., 0., 0., 0., 1., 0., 0., 0., 0., 0., 0., 1.])"
      ]
     },
     "execution_count": 19,
     "metadata": {},
     "output_type": "execute_result"
    }
   ],
   "source": [
    "loc_error_dc"
   ]
  },
  {
   "cell_type": "code",
   "execution_count": 20,
   "metadata": {
    "executionInfo": {
     "elapsed": 148,
     "status": "ok",
     "timestamp": 1674090072794,
     "user": {
      "displayName": "Wanshan Li",
      "userId": "04763723389758163402"
     },
     "user_tz": 300
    },
    "id": "TPjvaa7v78xB"
   },
   "outputs": [],
   "source": [
    "import pickle\n",
    "with open(path + 'dcdp_n' + str(nt) + '_p' + str(p) + '_Delta' + str(Delta) + '_K' + str(T - 1) + '_kappa' + str(int(np.mean(diff) * 100)) + '_grid' + str(grid_n) + '.pickle', 'wb') as f:\n",
    "    pickle.dump([cp_best_list, param_best_list, cp_best_cand_list, loc_error_dc, run_time_dc, K_dc], f)"
   ]
  },
  {
   "cell_type": "code",
   "execution_count": 20,
   "metadata": {
    "executionInfo": {
     "elapsed": 182,
     "status": "ok",
     "timestamp": 1674090072975,
     "user": {
      "displayName": "Wanshan Li",
      "userId": "04763723389758163402"
     },
     "user_tz": 300
    },
    "id": "2IrFDMkHa8NM"
   },
   "outputs": [],
   "source": []
  },
  {
   "cell_type": "code",
   "execution_count": 21,
   "metadata": {
    "colab": {
     "base_uri": "https://localhost:8080/"
    },
    "executionInfo": {
     "elapsed": 401,
     "status": "ok",
     "timestamp": 1674090073368,
     "user": {
      "displayName": "Wanshan Li",
      "userId": "04763723389758163402"
     },
     "user_tz": 300
    },
    "id": "T3VvX7MYa_gf",
    "outputId": "d7d1bfb4-5b62-4a36-d27f-c232fd8afd10"
   },
   "outputs": [
    {
     "name": "stdout",
     "output_type": "stream",
     "text": [
      "[3.16227766 3.16227766 3.16227766]\n"
     ]
    }
   ],
   "source": [
    "T = 4\n",
    "Delta = 50\n",
    "n = np.array([Delta] * T)\n",
    "cp_truth = np.cumsum(n)[:T-1]\n",
    "\n",
    "p = 100\n",
    "theta = np.zeros((T, p))\n",
    "for t in range(T):\n",
    "    theta[t, 5 * t: 5 * (t + 1)] = 1\n",
    "\n",
    "diff = np.zeros(T - 1)\n",
    "for t in range(1, T):\n",
    "    diff[t - 1] = np.sum(np.abs(theta[t] - theta[t - 1])**2)**0.5\n",
    "print(diff)\n",
    "\n",
    "nt = Delta * T\n",
    "\n",
    "path = '/content/drive/MyDrive/DCDP/linear/'\n",
    "with open(path + 'data_n' + str(nt) + '_p' + str(p) + '_Delta' + str(Delta) + '_K' + str(T - 1) + '_kappa' + str(int(np.mean(diff) * 100)) + '.npz', 'rb') as f:\n",
    "    data = np.load(f)\n",
    "    Y_train_list = data.f.Y_train_list\n",
    "    X_train_list = data.f.X_train_list\n",
    "    Y_test_list = data.f.Y_test_list\n",
    "    X_test_list = data.f.X_test_list\n",
    "    cp_truth_list = data.f.cp_truth_list\n",
    "    beta = data.f.beta"
   ]
  },
  {
   "cell_type": "code",
   "execution_count": 21,
   "metadata": {
    "executionInfo": {
     "elapsed": 182,
     "status": "ok",
     "timestamp": 1674090073549,
     "user": {
      "displayName": "Wanshan Li",
      "userId": "04763723389758163402"
     },
     "user_tz": 300
    },
    "id": "MFvXxxfvbEf9"
   },
   "outputs": [],
   "source": []
  },
  {
   "cell_type": "code",
   "execution_count": 22,
   "metadata": {
    "colab": {
     "base_uri": "https://localhost:8080/"
    },
    "executionInfo": {
     "elapsed": 876797,
     "status": "ok",
     "timestamp": 1674090950345,
     "user": {
      "displayName": "Wanshan Li",
      "userId": "04763723389758163402"
     },
     "user_tz": 300
    },
    "id": "KuCXJyaGJJOu",
    "outputId": "28a42697-dab0-4213-b8a5-a17d05ed459a"
   },
   "outputs": [
    {
     "name": "stdout",
     "output_type": "stream",
     "text": [
      "0\n",
      "1\n",
      "2\n",
      "3\n",
      "4\n",
      "5\n",
      "6\n",
      "7\n",
      "8\n",
      "9\n",
      "10\n",
      "11\n",
      "12\n",
      "13\n",
      "14\n",
      "15\n",
      "16\n",
      "17\n",
      "18\n",
      "19\n",
      "20\n",
      "21\n",
      "22\n",
      "23\n",
      "24\n",
      "25\n",
      "26\n",
      "27\n",
      "28\n",
      "29\n",
      "30\n",
      "31\n",
      "32\n",
      "33\n",
      "34\n",
      "35\n",
      "36\n",
      "37\n",
      "38\n",
      "39\n",
      "40\n",
      "41\n",
      "42\n",
      "43\n",
      "44\n",
      "45\n",
      "46\n",
      "47\n",
      "48\n",
      "49\n",
      "50\n",
      "51\n",
      "52\n",
      "53\n",
      "54\n",
      "55\n",
      "56\n",
      "57\n",
      "58\n",
      "59\n",
      "60\n",
      "61\n",
      "62\n",
      "63\n",
      "64\n",
      "65\n",
      "66\n",
      "67\n",
      "68\n",
      "69\n",
      "70\n",
      "71\n",
      "72\n",
      "73\n",
      "74\n",
      "75\n",
      "76\n",
      "77\n",
      "78\n",
      "79\n",
      "80\n",
      "81\n",
      "82\n",
      "83\n",
      "84\n",
      "85\n",
      "86\n",
      "87\n",
      "88\n",
      "89\n",
      "90\n",
      "91\n",
      "92\n",
      "93\n",
      "94\n",
      "95\n",
      "96\n",
      "97\n",
      "98\n",
      "99\n",
      "---------- dcdp -----------\n",
      "avg loc error: 1.45, avg time: 8.767606210708617\n",
      "std loc error: 8.59462041046607, std time: 0.6923277360440897\n",
      "K < K*: 2, K = K*: 98, K > K*: 0\n"
     ]
    }
   ],
   "source": [
    "np.random.seed(0)\n",
    "\n",
    "grid_n = 100\n",
    "gamma_list = [50]\n",
    "lam_list = [0.1]\n",
    "\n",
    "nt = Delta * T\n",
    "B = 100\n",
    "\n",
    "run_time_dc = np.zeros(B)\n",
    "loc_error_dc = np.zeros(B)\n",
    "K_dc = np.zeros(B)\n",
    "\n",
    "cp_best_list = []\n",
    "param_best_list = []\n",
    "cp_best_cand_list = []\n",
    "\n",
    "for b in range(B):\n",
    "    Y_train = Y_train_list[b]\n",
    "    X_train = X_train_list[b]\n",
    "    Y_test = Y_test_list[b]\n",
    "    X_test = X_test_list[b]\n",
    "    cp_truth = cp_truth_list[b]\n",
    "\n",
    "    start_time = time.time()\n",
    "    dcdp = dcdp_cv_grid_linear(grid_n, lam_list, gamma_list, smooth = 2, \n",
    "                    buffer = 2, step_refine = 1, buffer_refine = 2, lam_refine = 0.1)\n",
    "    cp_best, param_best, cp_best_cand = dcdp.fit((Y_train, X_train), (Y_test, X_test))\n",
    "    run_time_dc[b] = time.time() - start_time\n",
    "    loc_error_dc[b] = cp_distance(cp_best, cp_truth)\n",
    "    K_dc[b] = len(cp_best)\n",
    "\n",
    "    cp_best_list.append(cp_best)\n",
    "    param_best_list.append(param_best)\n",
    "    cp_best_cand_list.append(cp_best_cand)\n",
    "    print(b)\n",
    "\n",
    "\n",
    "print('---------- dcdp -----------')\n",
    "print(\"avg loc error: {0}, avg time: {1}\".format(loc_error_dc.mean(), run_time_dc.mean()))\n",
    "print(\"std loc error: {0}, std time: {1}\".format(loc_error_dc.std(), run_time_dc.std()))\n",
    "print('K < K*: {0}, K = K*: {1}, K > K*: {2}'.format(sum(K_dc < T - 1), sum(K_dc == T - 1), sum(K_dc > T - 1)))"
   ]
  },
  {
   "cell_type": "code",
   "execution_count": 23,
   "metadata": {
    "colab": {
     "base_uri": "https://localhost:8080/"
    },
    "executionInfo": {
     "elapsed": 6,
     "status": "ok",
     "timestamp": 1674090950346,
     "user": {
      "displayName": "Wanshan Li",
      "userId": "04763723389758163402"
     },
     "user_tz": 300
    },
    "id": "u38q4LoPJJOu",
    "outputId": "6b749939-646f-4935-f87f-4c48fc897226"
   },
   "outputs": [
    {
     "data": {
      "text/plain": [
       "array([ 0.,  0.,  0.,  0.,  0.,  0.,  0.,  1.,  0.,  0.,  3.,  0.,  0.,\n",
       "       60.,  1.,  0.,  0.,  1.,  0.,  0.,  0.,  0.,  0.,  1.,  1.,  1.,\n",
       "        0.,  0.,  0.,  0.,  0.,  0.,  0.,  0.,  0.,  0.,  0.,  1.,  0.,\n",
       "        0.,  0.,  0.,  1.,  1.,  0.,  0.,  0.,  1.,  0.,  0.,  1.,  0.,\n",
       "        0.,  0.,  1.,  0.,  0.,  0.,  0.,  0.,  0.,  0.,  1.,  0.,  0.,\n",
       "        0.,  0.,  0.,  0.,  0.,  1.,  0.,  1.,  1.,  0.,  0., 63.,  0.,\n",
       "        1.,  1.,  0.,  1.,  0.,  0.,  0.,  0.,  0.,  0.,  0.,  0.,  0.,\n",
       "        0.,  0.,  0.,  0.,  0.,  0.,  0.,  0.,  0.])"
      ]
     },
     "execution_count": 23,
     "metadata": {},
     "output_type": "execute_result"
    }
   ],
   "source": [
    "loc_error_dc"
   ]
  },
  {
   "cell_type": "code",
   "execution_count": 23,
   "metadata": {
    "executionInfo": {
     "elapsed": 3,
     "status": "ok",
     "timestamp": 1674090950346,
     "user": {
      "displayName": "Wanshan Li",
      "userId": "04763723389758163402"
     },
     "user_tz": 300
    },
    "id": "wQtg5PLkqcO0"
   },
   "outputs": [],
   "source": []
  },
  {
   "cell_type": "code",
   "execution_count": 25,
   "metadata": {
    "executionInfo": {
     "elapsed": 4,
     "status": "ok",
     "timestamp": 1674091143809,
     "user": {
      "displayName": "Wanshan Li",
      "userId": "04763723389758163402"
     },
     "user_tz": 300
    },
    "id": "nCA4TP8sa8kk"
   },
   "outputs": [],
   "source": [
    "import pickle\n",
    "with open(path + 'dcdp_n' + str(nt) + '_p' + str(p) + '_Delta' + str(Delta) + '_K' + str(T - 1) + '_kappa' + str(int(np.mean(diff) * 100)) + '_grid' + str(grid_n) + '.pickle', 'wb') as f:\n",
    "    pickle.dump([cp_best_list, param_best_list, cp_best_cand_list, loc_error_dc, run_time_dc, K_dc], f)"
   ]
  }
 ],
 "metadata": {
  "colab": {
   "provenance": []
  },
  "kernelspec": {
   "display_name": "Python 3",
   "language": "python",
   "name": "python3"
  },
  "language_info": {
   "codemirror_mode": {
    "name": "ipython",
    "version": 3
   },
   "file_extension": ".py",
   "mimetype": "text/x-python",
   "name": "python",
   "nbconvert_exporter": "python",
   "pygments_lexer": "ipython3",
   "version": "3.7.4"
  }
 },
 "nbformat": 4,
 "nbformat_minor": 1
}
