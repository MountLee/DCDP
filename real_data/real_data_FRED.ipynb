{
 "cells": [
  {
   "cell_type": "code",
   "execution_count": 4,
   "metadata": {},
   "outputs": [],
   "source": [
    "import numpy as np\n",
    "import matplotlib.pyplot as plt\n",
    "import scipy.stats as stats\n",
    "import random\n",
    "\n",
    "import itertools\n",
    "\n",
    "from cpd_utils import *\n",
    "\n",
    "import time\n",
    "import bisect\n",
    "\n",
    "import pandas as pd\n",
    "\n",
    "from sklearn import linear_model\n",
    "from warnings import simplefilter\n",
    "from sklearn.exceptions import ConvergenceWarning\n",
    "simplefilter(\"ignore\", category=ConvergenceWarning)"
   ]
  },
  {
   "cell_type": "code",
   "execution_count": null,
   "metadata": {},
   "outputs": [],
   "source": [
    "class dp_cv_random_covariate():\n",
    "    \"\"\"\n",
    "    DP for data with response Y and covariate X\n",
    "\n",
    "    \"\"\"\n",
    "    def __init__(self, grid_n, lam_list, gamma_list, smooth = 100, buffer = 200):\n",
    "        self.grid_n = grid_n\n",
    "        self.lam_list = lam_list\n",
    "        self.gamma_list = gamma_list\n",
    "        self.smooth = smooth\n",
    "        self.buffer = buffer\n",
    "        \n",
    "    def estimate_func(self, y, X, lam):\n",
    "        pass\n",
    "\n",
    "    def loss_func(self, Y, X, beta):\n",
    "        pass\n",
    " \n",
    "    def goodness_of_fit(self, data_train, data_test, cp_loc, lam, gamma):\n",
    "        '''\n",
    "        currently the penalty is not included in the value of goodness-of-fit\n",
    "        '''\n",
    "        Y_train, X_train = data_train\n",
    "        Y_test, X_test = data_test\n",
    "        \n",
    "        n = len(Y_train)\n",
    "        p = X_train.shape[1]\n",
    "        cp_loc = np.concatenate([[0], cp_loc, [n]])\n",
    "        cp_loc = cp_loc.astype(int)\n",
    "        res = 0\n",
    "        for i in range(len(cp_loc) - 1):\n",
    "            if cp_loc[i + 1] > cp_loc[i] + self.buffer + 1:\n",
    "                Y_sub = Y_train[cp_loc[i]:cp_loc[i + 1]]\n",
    "                X_sub = X_train[cp_loc[i]:cp_loc[i + 1]]\n",
    "                estimate = self.estimate_func(Y_sub, X_sub, lam)\n",
    "                \n",
    "                Y_sub = Y_test[cp_loc[i]:cp_loc[i + 1]]\n",
    "                X_sub = X_test[cp_loc[i]:cp_loc[i + 1]]\n",
    "                res += self.loss_func(Y_sub, X_sub, estimate)\n",
    "            else:\n",
    "                res += 0\n",
    "        return res\n",
    "        \n",
    "    def fit(self, data_train, data_test):\n",
    "#         Y_train, X_train = data_train\n",
    "#         Y_test, X_test = data_test\n",
    "\n",
    "        lam_gamma_list = list(itertools.product(self.lam_list, self.gamma_list))\n",
    "        n_grid = len(lam_gamma_list)\n",
    "        fit_res_best = np.infty\n",
    "        cp_best = None\n",
    "        param_best = None\n",
    "        for i, x in enumerate(lam_gamma_list):\n",
    "            lam, gamma = x\n",
    "            cp_loc, obj = self.dp_random(data_train, lam, gamma)\n",
    "            fit_res = self.goodness_of_fit(data_train, data_test, cp_loc, lam, gamma)\n",
    "            if fit_res < fit_res_best:\n",
    "                cp_best = cp_loc\n",
    "                param_best = x\n",
    "                fit_res_best = fit_res\n",
    "        return cp_best, param_best\n",
    "\n",
    "    def dp_random(self, data_train, lam, gamma):\n",
    "        Y_train, X_train = data_train\n",
    "        n = len(Y_train)\n",
    "        grid_n = min(self.grid_n, n - 1)\n",
    "        \n",
    "        grid = np.sort(np.random.choice(np.arange(1, n), grid_n, replace = False))\n",
    "        cp_loc, fit_res = self.dp_grid(data_train, grid, lam, gamma)\n",
    "            \n",
    "        return cp_loc, fit_res\n",
    "\n",
    "\n",
    "    def dp_grid(self, data, grid, lam, gamma):\n",
    "        \"\"\"\n",
    "        data: (Y, X)\n",
    "        Y: n x -1 array\n",
    "        cp_loc: for each ix in cp_loc, it means theta[ix - 1] != theta[ix]\n",
    "        \"\"\"\n",
    "        Y, X = data\n",
    "        \n",
    "        n = len(Y)\n",
    "        point_map = np.ones(n + 1) * -1\n",
    "        B = np.ones(n + 1) * np.infty\n",
    "        B[0] = gamma\n",
    "\n",
    "        r_cand = np.concatenate([[0], grid, [n]])\n",
    "        grid_ix = {x:i for i, x in enumerate(r_cand)}\n",
    "        l_cand = np.concatenate([[0], grid])\n",
    "        m = len(grid)\n",
    "        dp = [[np.infty] * (m + 2) for r in range(m + 1)]\n",
    "\n",
    "        for r in r_cand:\n",
    "            for l in l_cand:\n",
    "                if l >= r - self.buffer:\n",
    "                    break\n",
    "                Y_sub = Y[l:r]\n",
    "                X_sub = X[l:r]\n",
    "                estimate = self.estimate_func(Y_sub, X_sub, lam)\n",
    "                dp[grid_ix[l]][grid_ix[r]] = self.loss_func(Y_sub, X_sub, estimate)\n",
    "\n",
    "        for r in r_cand:\n",
    "            for l in l_cand:\n",
    "                if l >= r - self.buffer:\n",
    "                    break\n",
    "                b = B[l] + gamma + dp[grid_ix[l]][grid_ix[r]]\n",
    "                if b < B[r]:\n",
    "                    B[r] = b\n",
    "                    point_map[r] = l\n",
    "\n",
    "        k = n\n",
    "        cp_loc, cp_val = set([]), []\n",
    "        while k > 0:\n",
    "            h = int(point_map[k])\n",
    "            if h > 0:\n",
    "                cp_loc.add(h)\n",
    "            k = h\n",
    "        cp_loc = np.array(sorted(cp_loc))\n",
    "        return cp_loc, B[-1]\n",
    "\n",
    "    def dp_grid_test(self, data, grid, lam, gamma):\n",
    "        \"\"\"\n",
    "        data: (Y, X)\n",
    "        Y: n x -1 array\n",
    "        cp_loc: for each ix in cp_loc, it means theta[ix - 1] != theta[ix]\n",
    "        \"\"\"\n",
    "        Y, X = data\n",
    "        \n",
    "        n = len(Y)\n",
    "        point_map = np.ones(n + 1) * -1\n",
    "        B = np.ones(n + 1) * np.infty\n",
    "        B[0] = gamma\n",
    "\n",
    "        r_cand = np.concatenate([[0], grid, [n]])\n",
    "        grid_ix = {x:i for i, x in enumerate(r_cand)}\n",
    "        l_cand = np.concatenate([[0], grid])\n",
    "        m = len(grid)\n",
    "        dp = [[np.infty] * (m + 2) for r in range(m + 1)]\n",
    "\n",
    "        for r in r_cand:\n",
    "            for l in l_cand:\n",
    "                if l >= r:\n",
    "                    break\n",
    "                Y_sub = Y[l:r]\n",
    "                X_sub = X[l:r]\n",
    "                estimate = self.estimate_func(Y_sub, X_sub, lam)\n",
    "                dp[grid_ix[l]][grid_ix[r]] = self.loss_func(Y_sub, X_sub, estimate)\n",
    "\n",
    "        for r in r_cand:\n",
    "            for l in l_cand:\n",
    "                if l >= r:\n",
    "                    break\n",
    "                b = B[l] + gamma + dp[grid_ix[l]][grid_ix[r]]\n",
    "                if b < B[r]:\n",
    "                    B[r] = b\n",
    "                    point_map[r] = l\n",
    "\n",
    "        k = n\n",
    "        cp_loc, cp_val = set([]), []\n",
    "        while k > 0:\n",
    "            h = int(point_map[k])\n",
    "            if h > 0:\n",
    "                cp_loc.add(h)\n",
    "            k = h\n",
    "        cp_loc = np.array(sorted(cp_loc))\n",
    "        return cp_loc, B, dp   \n",
    "    \n",
    "    \n",
    "    \n",
    "    \n",
    "class dcdp_cv_random_covariate(dp_cv_random_covariate):\n",
    "    def __init__(self, grid_n, lam_list, gamma_list, smooth = 100, \n",
    "                 buffer = 200, step_refine = 1, buffer_refine = 30, lam_refine = 0.1):\n",
    "        self.grid_n = grid_n\n",
    "        self.lam_list = lam_list\n",
    "        self.gamma_list = gamma_list\n",
    "        \n",
    "        self.smooth = smooth\n",
    "        self.buffer = buffer\n",
    "        \n",
    "        self.step_refine = step_refine\n",
    "        self.buffer_refine = buffer_refine\n",
    "        self.lam_refine = lam_refine\n",
    "\n",
    "    def joint_estimate_func(self, Y1, X1, Y2, X2, lam):\n",
    "        pass\n",
    "        \n",
    "    def estimate_func(self, y, X, lam):\n",
    "        pass\n",
    "    \n",
    "    def loss_func(self, Y, X, beta):\n",
    "        pass\n",
    " \n",
    "    def goodness_of_fit(self, data_train, data_test, cp_loc, lam, gamma):\n",
    "        Y_train, X_train = data_train\n",
    "        Y_test, X_test = data_test\n",
    "        \n",
    "        n = len(Y_train)\n",
    "        p = X_train.shape[1]\n",
    "        cp_loc = np.concatenate([[0], cp_loc, [n]])\n",
    "        cp_loc = cp_loc.astype(int)\n",
    "        res = 0\n",
    "        for i in range(len(cp_loc) - 1):\n",
    "            if cp_loc[i + 1] > cp_loc[i] + np.log(p) + 1:\n",
    "                Y_sub = Y_train[cp_loc[i]:cp_loc[i + 1]]\n",
    "                X_sub = X_train[cp_loc[i]:cp_loc[i + 1]]\n",
    "                estimate = self.estimate_func(Y_sub, X_sub, lam)\n",
    "                \n",
    "                Y_sub = Y_test[cp_loc[i]:cp_loc[i + 1]]\n",
    "                X_sub = X_test[cp_loc[i]:cp_loc[i + 1]]\n",
    "                res += self.loss_func(Y_sub, X_sub, estimate)\n",
    "            else:\n",
    "                Y_sub = Y_test[cp_loc[i]:cp_loc[i + 1]]\n",
    "                res += np.sum(Y_sub**2)\n",
    "        return res\n",
    "        \n",
    "    def fit(self, data_train, data_test):\n",
    "        lam_gamma_list = list(itertools.product(self.lam_list, self.gamma_list))\n",
    "        n_grid = len(lam_gamma_list)\n",
    "        fit_res_best = np.infty\n",
    "        cp_best = None\n",
    "        param_best = None\n",
    "        for i, x in enumerate(lam_gamma_list):\n",
    "            lam, gamma = x\n",
    "            cp_loc, obj = self.dp_random(data_train, lam, gamma)\n",
    "            cp_loc_refined = self.local_refine(data_train, cp_loc)\n",
    "            fit_res = self.goodness_of_fit(data_train, data_test, cp_loc_refined, lam, gamma)\n",
    "            if fit_res < fit_res_best:\n",
    "                cp_best = cp_loc_refined\n",
    "                cp_best_cand = cp_loc\n",
    "                param_best = x\n",
    "                fit_res_best = fit_res\n",
    "        return cp_best, param_best, cp_best_cand\n",
    "\n",
    "    def local_refine(self, data, cp_cand):\n",
    "        n = len(data[0])\n",
    "        K = len(cp_cand)\n",
    "        cp_cand = np.concatenate([[0], cp_cand[:], [n]])\n",
    "        cp_loc = []\n",
    "        for i in range(1, K + 1):\n",
    "            if cp_cand[i - 1] + 2 * self.buffer_refine > cp_cand[i]:\n",
    "                continue\n",
    "            st, ed = int(2/3 * cp_cand[i - 1] + 1/3 * cp_cand[i]), int(2/3 * cp_cand[i + 1] + 1/3 * cp_cand[i])\n",
    "            cp = self.screen_cp(data, st, ed)\n",
    "            if cp is not None:\n",
    "                cp_loc.append(cp)\n",
    "        return cp_loc\n",
    "\n",
    "    def screen_cp(self, data, st, ed):\n",
    "        '''\n",
    "        currently not using group lasso in refinement\n",
    "        '''\n",
    "        Y, X = data\n",
    "        buffer_refine = self.buffer_refine\n",
    "        step_refine = self.step_refine\n",
    "        \n",
    "        if st + 2 * buffer_refine + step_refine >= ed:\n",
    "            return None\n",
    "        n_step = (ed - st - 2 * buffer_refine - 1) // step_refine + 1\n",
    "\n",
    "        loss_min = np.infty\n",
    "        loc_min = None\n",
    "        for i in range(1, n_step):\n",
    "            loc = st + buffer_refine + int(i * step_refine)\n",
    "            theta_1, theta_2 = self.joint_estimate_func(Y[st:loc],\n",
    "                                                        X[st:loc],\n",
    "                                                        Y[loc:ed],\n",
    "                                                        X[loc:ed],self.lam_refine)\n",
    "            loss_split = self.loss_func(Y[st:loc], \n",
    "                                        X[st:loc], theta_1)\n",
    "            loss_split += self.loss_func(Y[loc:ed],\n",
    "                                         X[loc:ed], theta_2)\n",
    "            if loss_split < loss_min:\n",
    "                loss_min = loss_split\n",
    "                loc_min = st + buffer_refine + int(i * step_refine)\n",
    "        return loc_min\n",
    "    \n",
    "    def local_refine_test(self, data, cp_cand):\n",
    "        n = len(data[0])\n",
    "        K = len(cp_cand)\n",
    "        cp_cand = np.concatenate([[0], cp_cand[:], [n]])\n",
    "        cp_loc = []\n",
    "        for i in range(1, K + 1):\n",
    "            if cp_cand[i - 1] + 2 * self.buffer_refine > cp_cand[i]:\n",
    "                continue\n",
    "            st, ed = int(2/3 * cp_cand[i - 1] + 1/3 * cp_cand[i]), int(2/3 * cp_cand[i + 1] + 1/3 * cp_cand[i])\n",
    "            cp = self.screen_cp(data, st, ed)\n",
    "            if cp is not None:\n",
    "                cp_loc.append(cp)\n",
    "        return cp_loc\n",
    "\n",
    "    def screen_cp_test(self, data, st, ed):\n",
    "        Y, X = data\n",
    "        buffer_refine = self.buffer_refine\n",
    "        step_refine = self.step_refine\n",
    "        \n",
    "        if st + 2 * buffer_refine + step_refine >= ed:\n",
    "            return None\n",
    "        n_step = (ed - st - 2 * buffer_refine - 1) // step_refine + 1\n",
    "\n",
    "        loss_min = np.infty\n",
    "        loc_min = None\n",
    "        loss_list = []\n",
    "        loc_list = []\n",
    "        \n",
    "        for i in range(1, n_step):\n",
    "            loc = st + buffer_refine + int(i * step_refine)\n",
    "            theta_1, theta_2 = self.joint_estimate_func(Y[st:loc],\n",
    "                                                        X[st:loc],\n",
    "                                                        Y[loc:ed],\n",
    "                                                        X[loc:ed],self.lam_refine)\n",
    "            loss_split = self.loss_func(Y[st:loc], \n",
    "                                        X[st:loc], theta_1)\n",
    "            loss_split += self.loss_func(Y[loc:ed],\n",
    "                                         X[loc:ed], theta_2)\n",
    "            \n",
    "            loss_list.append(loss_split)\n",
    "            loc_list.append(loc)\n",
    "            \n",
    "            if loss_split < loss_min:\n",
    "                loss_min = loss_split\n",
    "                loc_min = st + buffer_refine + int(i * step_refine)\n",
    "        return loc_min, loss_list, loc_list\n",
    "\n",
    "\n",
    "class dp_cv_random_linear(dp_cv_random_covariate):\n",
    "    def __init__(self, grid_n, lam_list, gamma_list, smooth = 100, buffer = 200):\n",
    "        self.grid_n = grid_n\n",
    "        self.lam_list = lam_list\n",
    "        self.gamma_list = gamma_list\n",
    "        self.smooth = smooth\n",
    "        self.buffer = buffer\n",
    "        \n",
    "    def estimate_func(self, y, X, lam):\n",
    "#         fit = lr_newton_solver_linear(X, y)\n",
    "\n",
    "#         sm_model = sm.OLS(y, (X)).fit(disp=0)\n",
    "#         beta_hat = sm_model.params\n",
    "\n",
    "        lasso = linear_model.Lasso(alpha=lam, fit_intercept = False)\n",
    "        lasso.fit(X, y)\n",
    "        beta_hat = lasso.coef_\n",
    "        return beta_hat.reshape((-1,1))\n",
    "\n",
    "    def loss_func(self, Y, X, beta):\n",
    "        '''\n",
    "        currently the penalty is not included in the value of loss\n",
    "        '''\n",
    "        return np.sum((Y - X @ beta)**2)\n",
    "    \n",
    "    \n",
    "class dcdp_cv_random_linear(dcdp_cv_random_covariate):\n",
    "    def __init__(self, grid_n, lam_list, gamma_list, smooth = 100, \n",
    "                 buffer = 200, step_refine = 1, buffer_refine = 30, lam_refine = 0.1):\n",
    "        self.grid_n = grid_n\n",
    "        self.lam_list = lam_list\n",
    "        self.gamma_list = gamma_list\n",
    "        \n",
    "        self.smooth = smooth\n",
    "        self.buffer = buffer\n",
    "        \n",
    "        self.step_refine = step_refine\n",
    "        self.buffer_refine = buffer_refine\n",
    "        self.lam_refine = lam_refine\n",
    "\n",
    "    def joint_estimate_func(self, Y1, X1, Y2, X2, lam):\n",
    "        lasso = linear_model.Lasso(alpha=lam, fit_intercept = False)\n",
    "        lasso.fit(X1, Y1)\n",
    "        beta_hat1 = lasso.coef_\n",
    "        \n",
    "        lasso = linear_model.Lasso(alpha=lam, fit_intercept = False)\n",
    "        lasso.fit(X2, Y2)\n",
    "        beta_hat2 = lasso.coef_\n",
    "        return beta_hat1.reshape((-1,1)), beta_hat2.reshape((-1,1))\n",
    "        \n",
    "    def estimate_func(self, y, X, lam):\n",
    "#         fit = lr_newton_solver_linear(X, y)\n",
    "        lasso = linear_model.Lasso(alpha=lam, fit_intercept = False)\n",
    "        lasso.fit(X, y)\n",
    "        beta_hat = lasso.coef_\n",
    "        return beta_hat.reshape((-1,1))\n",
    "\n",
    "    def loss_func(self, Y, X, beta):\n",
    "        '''\n",
    "        currently the penalty is not included in the value of loss\n",
    "        '''\n",
    "        return np.sum((Y - X @ beta)**2)"
   ]
  },
  {
   "cell_type": "markdown",
   "metadata": {},
   "source": [
    "# DCDP"
   ]
  },
  {
   "cell_type": "code",
   "execution_count": 5,
   "metadata": {},
   "outputs": [],
   "source": [
    "fred = pd.read_csv('FRED.csv')"
   ]
  },
  {
   "cell_type": "code",
   "execution_count": 6,
   "metadata": {},
   "outputs": [],
   "source": [
    "fred = fred.dropna(axis = \"columns\")"
   ]
  },
  {
   "cell_type": "code",
   "execution_count": 7,
   "metadata": {},
   "outputs": [
    {
     "data": {
      "text/html": [
       "<div>\n",
       "<style scoped>\n",
       "    .dataframe tbody tr th:only-of-type {\n",
       "        vertical-align: middle;\n",
       "    }\n",
       "\n",
       "    .dataframe tbody tr th {\n",
       "        vertical-align: top;\n",
       "    }\n",
       "\n",
       "    .dataframe thead th {\n",
       "        text-align: right;\n",
       "    }\n",
       "</style>\n",
       "<table border=\"1\" class=\"dataframe\">\n",
       "  <thead>\n",
       "    <tr style=\"text-align: right;\">\n",
       "      <th></th>\n",
       "      <th>date</th>\n",
       "      <th>DPCERA3M086SBEA</th>\n",
       "      <th>CMRMTSPLx</th>\n",
       "      <th>RETAILx</th>\n",
       "      <th>INDPRO</th>\n",
       "      <th>IPFPNSS</th>\n",
       "      <th>IPFINAL</th>\n",
       "      <th>IPCONGD</th>\n",
       "      <th>IPDCONGD</th>\n",
       "      <th>IPNCONGD</th>\n",
       "      <th>...</th>\n",
       "      <th>CUSR0000SA0L5</th>\n",
       "      <th>PCEPI</th>\n",
       "      <th>DDURRG3M086SBEA</th>\n",
       "      <th>DNDGRG3M086SBEA</th>\n",
       "      <th>CES0600000008</th>\n",
       "      <th>CES2000000008</th>\n",
       "      <th>CES3000000008</th>\n",
       "      <th>UMCSENTx</th>\n",
       "      <th>INVEST</th>\n",
       "      <th>VIXCLSx</th>\n",
       "    </tr>\n",
       "  </thead>\n",
       "  <tbody>\n",
       "    <tr>\n",
       "      <th>0</th>\n",
       "      <td>2000-01-01</td>\n",
       "      <td>-0.002434</td>\n",
       "      <td>0.007932</td>\n",
       "      <td>-0.006763</td>\n",
       "      <td>-0.000592</td>\n",
       "      <td>-0.002811</td>\n",
       "      <td>-0.004488</td>\n",
       "      <td>-0.013108</td>\n",
       "      <td>0.017841</td>\n",
       "      <td>-0.025743</td>\n",
       "      <td>...</td>\n",
       "      <td>0.000602</td>\n",
       "      <td>0.000409</td>\n",
       "      <td>0.003036</td>\n",
       "      <td>-0.004309</td>\n",
       "      <td>0.000655</td>\n",
       "      <td>-0.001185</td>\n",
       "      <td>1.403784e-03</td>\n",
       "      <td>6.6</td>\n",
       "      <td>-0.009868</td>\n",
       "      <td>24.8430</td>\n",
       "    </tr>\n",
       "    <tr>\n",
       "      <th>1</th>\n",
       "      <td>2000-02-01</td>\n",
       "      <td>0.009364</td>\n",
       "      <td>-0.018159</td>\n",
       "      <td>0.014724</td>\n",
       "      <td>0.003666</td>\n",
       "      <td>0.005090</td>\n",
       "      <td>0.006240</td>\n",
       "      <td>0.007465</td>\n",
       "      <td>-0.003394</td>\n",
       "      <td>0.012017</td>\n",
       "      <td>...</td>\n",
       "      <td>0.000596</td>\n",
       "      <td>0.000406</td>\n",
       "      <td>-0.002375</td>\n",
       "      <td>0.005047</td>\n",
       "      <td>-0.000680</td>\n",
       "      <td>0.002320</td>\n",
       "      <td>-4.258847e-03</td>\n",
       "      <td>-0.7</td>\n",
       "      <td>-0.008760</td>\n",
       "      <td>25.4560</td>\n",
       "    </tr>\n",
       "    <tr>\n",
       "      <th>2</th>\n",
       "      <td>2000-03-01</td>\n",
       "      <td>0.004919</td>\n",
       "      <td>0.011754</td>\n",
       "      <td>0.011593</td>\n",
       "      <td>0.003790</td>\n",
       "      <td>0.002175</td>\n",
       "      <td>0.001130</td>\n",
       "      <td>-0.003713</td>\n",
       "      <td>-0.003371</td>\n",
       "      <td>-0.003805</td>\n",
       "      <td>...</td>\n",
       "      <td>0.002998</td>\n",
       "      <td>0.001161</td>\n",
       "      <td>0.004718</td>\n",
       "      <td>0.005466</td>\n",
       "      <td>-0.000673</td>\n",
       "      <td>-0.000606</td>\n",
       "      <td>1.411929e-03</td>\n",
       "      <td>-4.2</td>\n",
       "      <td>0.016952</td>\n",
       "      <td>24.7678</td>\n",
       "    </tr>\n",
       "    <tr>\n",
       "      <th>3</th>\n",
       "      <td>2000-04-01</td>\n",
       "      <td>-0.000295</td>\n",
       "      <td>0.008276</td>\n",
       "      <td>-0.015180</td>\n",
       "      <td>0.006214</td>\n",
       "      <td>0.008025</td>\n",
       "      <td>0.008056</td>\n",
       "      <td>0.008362</td>\n",
       "      <td>0.012836</td>\n",
       "      <td>0.006569</td>\n",
       "      <td>...</td>\n",
       "      <td>-0.007840</td>\n",
       "      <td>-0.005128</td>\n",
       "      <td>-0.003452</td>\n",
       "      <td>-0.016760</td>\n",
       "      <td>0.001973</td>\n",
       "      <td>0.001705</td>\n",
       "      <td>2.105965e-03</td>\n",
       "      <td>2.1</td>\n",
       "      <td>-0.004814</td>\n",
       "      <td>29.8331</td>\n",
       "    </tr>\n",
       "    <tr>\n",
       "      <th>4</th>\n",
       "      <td>2000-05-01</td>\n",
       "      <td>0.003732</td>\n",
       "      <td>-0.005321</td>\n",
       "      <td>0.001283</td>\n",
       "      <td>0.002954</td>\n",
       "      <td>0.001604</td>\n",
       "      <td>0.003450</td>\n",
       "      <td>0.001816</td>\n",
       "      <td>-0.003625</td>\n",
       "      <td>0.004059</td>\n",
       "      <td>...</td>\n",
       "      <td>0.003008</td>\n",
       "      <td>0.001673</td>\n",
       "      <td>0.001615</td>\n",
       "      <td>0.002298</td>\n",
       "      <td>-0.004625</td>\n",
       "      <td>-0.006921</td>\n",
       "      <td>-4.928346e-03</td>\n",
       "      <td>1.5</td>\n",
       "      <td>-0.002408</td>\n",
       "      <td>29.4290</td>\n",
       "    </tr>\n",
       "    <tr>\n",
       "      <th>...</th>\n",
       "      <td>...</td>\n",
       "      <td>...</td>\n",
       "      <td>...</td>\n",
       "      <td>...</td>\n",
       "      <td>...</td>\n",
       "      <td>...</td>\n",
       "      <td>...</td>\n",
       "      <td>...</td>\n",
       "      <td>...</td>\n",
       "      <td>...</td>\n",
       "      <td>...</td>\n",
       "      <td>...</td>\n",
       "      <td>...</td>\n",
       "      <td>...</td>\n",
       "      <td>...</td>\n",
       "      <td>...</td>\n",
       "      <td>...</td>\n",
       "      <td>...</td>\n",
       "      <td>...</td>\n",
       "      <td>...</td>\n",
       "      <td>...</td>\n",
       "    </tr>\n",
       "    <tr>\n",
       "      <th>235</th>\n",
       "      <td>2019-08-01</td>\n",
       "      <td>0.002841</td>\n",
       "      <td>0.005454</td>\n",
       "      <td>0.004785</td>\n",
       "      <td>0.006898</td>\n",
       "      <td>0.004824</td>\n",
       "      <td>0.004907</td>\n",
       "      <td>0.003430</td>\n",
       "      <td>0.010295</td>\n",
       "      <td>0.001465</td>\n",
       "      <td>...</td>\n",
       "      <td>-0.001365</td>\n",
       "      <td>-0.000864</td>\n",
       "      <td>0.004229</td>\n",
       "      <td>-0.003983</td>\n",
       "      <td>0.002824</td>\n",
       "      <td>0.005265</td>\n",
       "      <td>-1.806682e-03</td>\n",
       "      <td>-8.6</td>\n",
       "      <td>0.004553</td>\n",
       "      <td>19.4147</td>\n",
       "    </tr>\n",
       "    <tr>\n",
       "      <th>236</th>\n",
       "      <td>2019-09-01</td>\n",
       "      <td>0.001213</td>\n",
       "      <td>-0.001285</td>\n",
       "      <td>-0.006551</td>\n",
       "      <td>-0.003208</td>\n",
       "      <td>-0.006525</td>\n",
       "      <td>-0.008930</td>\n",
       "      <td>-0.007521</td>\n",
       "      <td>-0.019210</td>\n",
       "      <td>-0.004113</td>\n",
       "      <td>...</td>\n",
       "      <td>0.000911</td>\n",
       "      <td>0.000208</td>\n",
       "      <td>0.001978</td>\n",
       "      <td>0.001179</td>\n",
       "      <td>-0.000816</td>\n",
       "      <td>-0.001067</td>\n",
       "      <td>-8.108921e-07</td>\n",
       "      <td>3.4</td>\n",
       "      <td>0.005980</td>\n",
       "      <td>15.7324</td>\n",
       "    </tr>\n",
       "    <tr>\n",
       "      <th>237</th>\n",
       "      <td>2019-10-01</td>\n",
       "      <td>0.000585</td>\n",
       "      <td>-0.006168</td>\n",
       "      <td>0.003401</td>\n",
       "      <td>-0.007844</td>\n",
       "      <td>-0.004047</td>\n",
       "      <td>-0.003160</td>\n",
       "      <td>-0.002462</td>\n",
       "      <td>-0.033859</td>\n",
       "      <td>0.006454</td>\n",
       "      <td>...</td>\n",
       "      <td>0.000703</td>\n",
       "      <td>0.001648</td>\n",
       "      <td>-0.000894</td>\n",
       "      <td>0.005826</td>\n",
       "      <td>-0.000409</td>\n",
       "      <td>-0.003146</td>\n",
       "      <td>2.243860e-03</td>\n",
       "      <td>2.3</td>\n",
       "      <td>-0.017894</td>\n",
       "      <td>15.0714</td>\n",
       "    </tr>\n",
       "    <tr>\n",
       "      <th>238</th>\n",
       "      <td>2019-11-01</td>\n",
       "      <td>0.003286</td>\n",
       "      <td>0.004031</td>\n",
       "      <td>0.004331</td>\n",
       "      <td>0.003143</td>\n",
       "      <td>0.008942</td>\n",
       "      <td>0.012285</td>\n",
       "      <td>0.013186</td>\n",
       "      <td>0.058925</td>\n",
       "      <td>0.000080</td>\n",
       "      <td>...</td>\n",
       "      <td>-0.000464</td>\n",
       "      <td>-0.001587</td>\n",
       "      <td>-0.002434</td>\n",
       "      <td>-0.002519</td>\n",
       "      <td>-0.001206</td>\n",
       "      <td>0.001742</td>\n",
       "      <td>4.370739e-04</td>\n",
       "      <td>1.3</td>\n",
       "      <td>0.006901</td>\n",
       "      <td>12.3952</td>\n",
       "    </tr>\n",
       "    <tr>\n",
       "      <th>239</th>\n",
       "      <td>2019-12-01</td>\n",
       "      <td>-0.000716</td>\n",
       "      <td>-0.002033</td>\n",
       "      <td>0.007882</td>\n",
       "      <td>-0.003284</td>\n",
       "      <td>-0.003350</td>\n",
       "      <td>-0.005723</td>\n",
       "      <td>-0.008286</td>\n",
       "      <td>-0.015619</td>\n",
       "      <td>-0.006082</td>\n",
       "      <td>...</td>\n",
       "      <td>-0.000186</td>\n",
       "      <td>0.001192</td>\n",
       "      <td>-0.002203</td>\n",
       "      <td>-0.000607</td>\n",
       "      <td>0.002794</td>\n",
       "      <td>0.002771</td>\n",
       "      <td>4.323589e-04</td>\n",
       "      <td>2.5</td>\n",
       "      <td>-0.005930</td>\n",
       "      <td>13.6104</td>\n",
       "    </tr>\n",
       "  </tbody>\n",
       "</table>\n",
       "<p>240 rows × 114 columns</p>\n",
       "</div>"
      ],
      "text/plain": [
       "           date  DPCERA3M086SBEA  CMRMTSPLx   RETAILx    INDPRO   IPFPNSS  \\\n",
       "0    2000-01-01        -0.002434   0.007932 -0.006763 -0.000592 -0.002811   \n",
       "1    2000-02-01         0.009364  -0.018159  0.014724  0.003666  0.005090   \n",
       "2    2000-03-01         0.004919   0.011754  0.011593  0.003790  0.002175   \n",
       "3    2000-04-01        -0.000295   0.008276 -0.015180  0.006214  0.008025   \n",
       "4    2000-05-01         0.003732  -0.005321  0.001283  0.002954  0.001604   \n",
       "..          ...              ...        ...       ...       ...       ...   \n",
       "235  2019-08-01         0.002841   0.005454  0.004785  0.006898  0.004824   \n",
       "236  2019-09-01         0.001213  -0.001285 -0.006551 -0.003208 -0.006525   \n",
       "237  2019-10-01         0.000585  -0.006168  0.003401 -0.007844 -0.004047   \n",
       "238  2019-11-01         0.003286   0.004031  0.004331  0.003143  0.008942   \n",
       "239  2019-12-01        -0.000716  -0.002033  0.007882 -0.003284 -0.003350   \n",
       "\n",
       "      IPFINAL   IPCONGD  IPDCONGD  IPNCONGD  ...  CUSR0000SA0L5     PCEPI  \\\n",
       "0   -0.004488 -0.013108  0.017841 -0.025743  ...       0.000602  0.000409   \n",
       "1    0.006240  0.007465 -0.003394  0.012017  ...       0.000596  0.000406   \n",
       "2    0.001130 -0.003713 -0.003371 -0.003805  ...       0.002998  0.001161   \n",
       "3    0.008056  0.008362  0.012836  0.006569  ...      -0.007840 -0.005128   \n",
       "4    0.003450  0.001816 -0.003625  0.004059  ...       0.003008  0.001673   \n",
       "..        ...       ...       ...       ...  ...            ...       ...   \n",
       "235  0.004907  0.003430  0.010295  0.001465  ...      -0.001365 -0.000864   \n",
       "236 -0.008930 -0.007521 -0.019210 -0.004113  ...       0.000911  0.000208   \n",
       "237 -0.003160 -0.002462 -0.033859  0.006454  ...       0.000703  0.001648   \n",
       "238  0.012285  0.013186  0.058925  0.000080  ...      -0.000464 -0.001587   \n",
       "239 -0.005723 -0.008286 -0.015619 -0.006082  ...      -0.000186  0.001192   \n",
       "\n",
       "     DDURRG3M086SBEA  DNDGRG3M086SBEA  CES0600000008  CES2000000008  \\\n",
       "0           0.003036        -0.004309       0.000655      -0.001185   \n",
       "1          -0.002375         0.005047      -0.000680       0.002320   \n",
       "2           0.004718         0.005466      -0.000673      -0.000606   \n",
       "3          -0.003452        -0.016760       0.001973       0.001705   \n",
       "4           0.001615         0.002298      -0.004625      -0.006921   \n",
       "..               ...              ...            ...            ...   \n",
       "235         0.004229        -0.003983       0.002824       0.005265   \n",
       "236         0.001978         0.001179      -0.000816      -0.001067   \n",
       "237        -0.000894         0.005826      -0.000409      -0.003146   \n",
       "238        -0.002434        -0.002519      -0.001206       0.001742   \n",
       "239        -0.002203        -0.000607       0.002794       0.002771   \n",
       "\n",
       "     CES3000000008  UMCSENTx    INVEST  VIXCLSx  \n",
       "0     1.403784e-03       6.6 -0.009868  24.8430  \n",
       "1    -4.258847e-03      -0.7 -0.008760  25.4560  \n",
       "2     1.411929e-03      -4.2  0.016952  24.7678  \n",
       "3     2.105965e-03       2.1 -0.004814  29.8331  \n",
       "4    -4.928346e-03       1.5 -0.002408  29.4290  \n",
       "..             ...       ...       ...      ...  \n",
       "235  -1.806682e-03      -8.6  0.004553  19.4147  \n",
       "236  -8.108921e-07       3.4  0.005980  15.7324  \n",
       "237   2.243860e-03       2.3 -0.017894  15.0714  \n",
       "238   4.370739e-04       1.3  0.006901  12.3952  \n",
       "239   4.323589e-04       2.5 -0.005930  13.6104  \n",
       "\n",
       "[240 rows x 114 columns]"
      ]
     },
     "execution_count": 7,
     "metadata": {},
     "output_type": "execute_result"
    }
   ],
   "source": [
    "fred"
   ]
  },
  {
   "cell_type": "code",
   "execution_count": 8,
   "metadata": {},
   "outputs": [
    {
     "data": {
      "text/plain": [
       "(240, 114)"
      ]
     },
     "execution_count": 8,
     "metadata": {},
     "output_type": "execute_result"
    }
   ],
   "source": [
    "fred.shape"
   ]
  },
  {
   "cell_type": "code",
   "execution_count": 9,
   "metadata": {},
   "outputs": [],
   "source": [
    "nt = len(fred)\n",
    "Y = fred.loc[:, \"INDPRO\"].values\n",
    "X = fred.drop([\"date\", \"INDPRO\"], axis = 1).values\n",
    "\n",
    "Y_train = Y[np.arange(0, nt, 2)]\n",
    "Y_test = Y[np.arange(1, nt, 2)]\n",
    "X_train = X[np.arange(0, nt, 2), :]\n",
    "X_test = X[np.arange(1, nt, 2), :]"
   ]
  },
  {
   "cell_type": "code",
   "execution_count": 29,
   "metadata": {},
   "outputs": [
    {
     "data": {
      "text/plain": [
       "(240, 112)"
      ]
     },
     "execution_count": 29,
     "metadata": {},
     "output_type": "execute_result"
    }
   ],
   "source": [
    "X.shape"
   ]
  },
  {
   "cell_type": "code",
   "execution_count": 42,
   "metadata": {},
   "outputs": [
    {
     "data": {
      "text/plain": [
       "[<matplotlib.lines.Line2D at 0x248f670fd88>]"
      ]
     },
     "execution_count": 42,
     "metadata": {},
     "output_type": "execute_result"
    },
    {
     "data": {
      "image/png": "[encoded data removed]",
      "text/plain": [
       "<Figure size 432x288 with 1 Axes>"
      ]
     },
     "metadata": {
      "needs_background": "light"
     },
     "output_type": "display_data"
    }
   ],
   "source": [
    "eda = cpd_eda_linear()\n",
    "path_t_all, path_loglike_all = eda.draw_glr_path(X, Y, smooth = 16, step = 1)\n",
    "plt.plot(path_t_all, path_loglike_all)\n",
    "# plt.savefig('nba_glr_all_2.pdf', bbox_inches='tight')"
   ]
  },
  {
   "cell_type": "code",
   "execution_count": 43,
   "metadata": {},
   "outputs": [
    {
     "data": {
      "text/plain": [
       "'2009-05-01'"
      ]
     },
     "execution_count": 43,
     "metadata": {},
     "output_type": "execute_result"
    }
   ],
   "source": [
    "ix = np.argmax(path_loglike_all)\n",
    "fred[\"date\"].values[path_t_all[ix]]"
   ]
  },
  {
   "cell_type": "code",
   "execution_count": null,
   "metadata": {},
   "outputs": [],
   "source": []
  },
  {
   "cell_type": "code",
   "execution_count": null,
   "metadata": {},
   "outputs": [],
   "source": []
  },
  {
   "cell_type": "code",
   "execution_count": null,
   "metadata": {},
   "outputs": [],
   "source": []
  },
  {
   "cell_type": "code",
   "execution_count": 44,
   "metadata": {},
   "outputs": [
    {
     "data": {
      "text/plain": [
       "'2009-03-01'"
      ]
     },
     "execution_count": 44,
     "metadata": {},
     "output_type": "execute_result"
    }
   ],
   "source": [
    "fred[\"date\"].values[110]"
   ]
  },
  {
   "cell_type": "code",
   "execution_count": 13,
   "metadata": {},
   "outputs": [
    {
     "data": {
      "text/plain": [
       "'2014-03-01'"
      ]
     },
     "execution_count": 13,
     "metadata": {},
     "output_type": "execute_result"
    }
   ],
   "source": [
    "fred[\"date\"].values[170]"
   ]
  },
  {
   "cell_type": "code",
   "execution_count": 22,
   "metadata": {},
   "outputs": [],
   "source": [
    "from sklearn.preprocessing import StandardScaler"
   ]
  },
  {
   "cell_type": "code",
   "execution_count": 23,
   "metadata": {},
   "outputs": [],
   "source": [
    "scaler = StandardScaler().fit(X_train)\n",
    "\n",
    "X_train = scaler.transform(X_train)\n",
    "X_test = scaler.transform(X_test)\n",
    "\n",
    "std = np.std(Y_train)\n",
    "mu = np.mean(Y_train)\n",
    "Y_train = (Y_train - mu) / std\n",
    "Y_test = (Y_test - mu) / std"
   ]
  },
  {
   "cell_type": "code",
   "execution_count": 24,
   "metadata": {},
   "outputs": [
    {
     "name": "stdout",
     "output_type": "stream",
     "text": [
      "(120,)\n",
      "(120, 112)\n"
     ]
    }
   ],
   "source": [
    "print(Y_train.shape)\n",
    "print(X_train.shape)"
   ]
  },
  {
   "cell_type": "code",
   "execution_count": 25,
   "metadata": {
    "scrolled": true
   },
   "outputs": [
    {
     "data": {
      "text/plain": [
       "(array([ 1.,  0.,  0.,  1.,  2.,  2., 17., 50., 39.,  8.]),\n",
       " array([-6.24698095, -5.43252411, -4.61806727, -3.80361043, -2.9891536 ,\n",
       "        -2.17469676, -1.36023992, -0.54578308,  0.26867376,  1.08313059,\n",
       "         1.89758743]),\n",
       " <a list of 10 Patch objects>)"
      ]
     },
     "execution_count": 25,
     "metadata": {},
     "output_type": "execute_result"
    },
    {
     "data": {
      "image/png": "[encoded data removed]",
      "text/plain": [
       "<Figure size 432x288 with 1 Axes>"
      ]
     },
     "metadata": {
      "needs_background": "light"
     },
     "output_type": "display_data"
    }
   ],
   "source": [
    "plt.hist(Y_train)"
   ]
  },
  {
   "cell_type": "code",
   "execution_count": null,
   "metadata": {},
   "outputs": [],
   "source": [
    "# import matplotlib.gridspec as gridspec\n",
    "\n",
    "# Y = djia.iloc[:, np.arange(29)].values\n",
    "# n = Y.shape[0]\n",
    "# p = Y.shape[1]\n",
    "# ix = np.arange(n)\n",
    "\n",
    "# y_max = Y.max(axis = (0,1))\n",
    "# y_min = Y.min(axis = (0,1))\n",
    "\n",
    "# gs = gridspec.GridSpec(p, 1)\n",
    "# fig = plt.figure(figsize = (10, 20))\n",
    "\n",
    "# for i in range(p - 1):\n",
    "#     ax = fig.add_subplot(gs[i])\n",
    "#     ax.plot(ix, Y[:, i])\n",
    "#     plt.ylim([y_min, y_max])\n",
    "#     ax.set_ylabel(str(i), size =16)\n",
    "# #     ax.get_yaxis().set_label_coords(y_min, y_max)\n",
    "#     plt.tick_params(\n",
    "#         axis='x',          # changes apply to the x-axis\n",
    "#         labelbottom='off') # labels along the bottom edge are off\n",
    "\n",
    "# # the last plot\n",
    "# ax = fig.add_subplot(gs[p - 1], sharex = ax)\n",
    "# ax.plot(ix, Y[:, p - 1])\n",
    "# ax.set_ylabel(str(p - 1), size =16)\n",
    "# # ax.get_yaxis().set_label_coords(y_min, y_max)\n",
    "# plt.ylim([y_min, y_max])\n",
    "# x = ax.get_xticks().tolist()\n",
    "# for i, v in enumerate(x):\n",
    "#     if v < n:\n",
    "#         x[i] = djia['time'].values[int(v)]\n",
    "# ax.set_xticklabels(x)\n",
    "\n",
    "# plt.show()"
   ]
  },
  {
   "cell_type": "code",
   "execution_count": 11,
   "metadata": {},
   "outputs": [
    {
     "data": {
      "text/plain": [
       "0"
      ]
     },
     "execution_count": 11,
     "metadata": {},
     "output_type": "execute_result"
    }
   ],
   "source": [
    "np.sum(fred.isna().values, axis = (0, 1))"
   ]
  },
  {
   "cell_type": "code",
   "execution_count": null,
   "metadata": {},
   "outputs": [],
   "source": []
  },
  {
   "cell_type": "code",
   "execution_count": 30,
   "metadata": {},
   "outputs": [
    {
     "data": {
      "text/plain": [
       "1.0"
      ]
     },
     "execution_count": 30,
     "metadata": {},
     "output_type": "execute_result"
    }
   ],
   "source": [
    "np.std(Y_train)"
   ]
  },
  {
   "cell_type": "code",
   "execution_count": 74,
   "metadata": {
    "scrolled": true
   },
   "outputs": [
    {
     "name": "stdout",
     "output_type": "stream",
     "text": [
      "---------- divide and conquer -----------\n",
      "time: 32.52417612075806\n",
      "best parameter: (5, 400)\n"
     ]
    }
   ],
   "source": [
    "grid_n = 200\n",
    "gamma_list = [400, 600, 800]\n",
    "# gamma_list = [0.075, 0.1, 0.5]\n",
    "lam_list = [0.1, 1, 5, 10]\n",
    "\n",
    "run_time_dc  = 0\n",
    "loc_error_dc = 0\n",
    "\n",
    "print('---------- divide and conquer -----------')\n",
    "start_time = time.time()\n",
    "dcdp = dcdp_cv_random_linear(grid_n, lam_list, gamma_list, smooth = 10,\n",
    "             buffer = 10, step_refine = 1, buffer_refine = 10, lam_refine = 1)\n",
    "cp_best, param_best, cp_best_cand = dcdp.fit((Y_train, X_train), (Y_test, X_test))\n",
    "# loc_error_dc = cp_distance(cp_best, cp_truth)\n",
    "run_time_dc = time.time() - start_time\n",
    "\n",
    "print(\"time: {0}\".format(run_time_dc))\n",
    "print(\"best parameter: {0}\".format(param_best))"
   ]
  },
  {
   "cell_type": "code",
   "execution_count": 75,
   "metadata": {},
   "outputs": [
    {
     "name": "stdout",
     "output_type": "stream",
     "text": [
      "time: 32.52417612075806\n",
      "best parameter: (5, 400)\n"
     ]
    }
   ],
   "source": [
    "print(\"time: {0}\".format(run_time_dc))\n",
    "print(\"best parameter: {0}\".format(param_best))"
   ]
  },
  {
   "cell_type": "code",
   "execution_count": 76,
   "metadata": {},
   "outputs": [
    {
     "name": "stdout",
     "output_type": "stream",
     "text": [
      "[27, 48, 91]\n",
      "[27 52 63 91]\n"
     ]
    }
   ],
   "source": [
    "print(cp_best)\n",
    "print(cp_best_cand)"
   ]
  },
  {
   "cell_type": "code",
   "execution_count": 77,
   "metadata": {},
   "outputs": [
    {
     "name": "stdout",
     "output_type": "stream",
     "text": [
      "2004-07-01\n",
      "2008-01-01\n",
      "2015-03-01\n"
     ]
    }
   ],
   "source": [
    "for cp in cp_best:\n",
    "    print(fred[\"date\"].values[2 * cp])"
   ]
  },
  {
   "cell_type": "code",
   "execution_count": null,
   "metadata": {},
   "outputs": [],
   "source": []
  },
  {
   "cell_type": "code",
   "execution_count": null,
   "metadata": {},
   "outputs": [],
   "source": []
  },
  {
   "cell_type": "code",
   "execution_count": 26,
   "metadata": {
    "scrolled": true
   },
   "outputs": [
    {
     "name": "stdout",
     "output_type": "stream",
     "text": [
      "---------- divide and conquer -----------\n",
      "time: 24.958641529083252\n",
      "best parameter: (5, 800)\n"
     ]
    }
   ],
   "source": [
    "grid_n = 200\n",
    "gamma_list = [800, 1000]\n",
    "# gamma_list = [0.075, 0.1, 0.5]\n",
    "lam_list = [0.1, 1, 5, 10]\n",
    "\n",
    "run_time_dc  = 0\n",
    "loc_error_dc = 0\n",
    "\n",
    "np.random.seed(0)\n",
    "print('---------- divide and conquer -----------')\n",
    "start_time = time.time()\n",
    "dcdp = dcdp_cv_random_linear(grid_n, lam_list, gamma_list, smooth = 10,\n",
    "             buffer = 10, step_refine = 1, buffer_refine = 10, lam_refine = 1)\n",
    "cp_best, param_best, cp_best_cand = dcdp.fit((Y_train, X_train), (Y_test, X_test))\n",
    "# loc_error_dc = cp_distance(cp_best, cp_truth)\n",
    "run_time_dc = time.time() - start_time\n",
    "\n",
    "print(\"time: {0}\".format(run_time_dc))\n",
    "print(\"best parameter: {0}\".format(param_best))"
   ]
  },
  {
   "cell_type": "code",
   "execution_count": 27,
   "metadata": {},
   "outputs": [
    {
     "name": "stdout",
     "output_type": "stream",
     "text": [
      "[44, 87]\n",
      "[52 57 86]\n"
     ]
    }
   ],
   "source": [
    "print(cp_best)\n",
    "print(cp_best_cand)"
   ]
  },
  {
   "cell_type": "code",
   "execution_count": 28,
   "metadata": {
    "scrolled": true
   },
   "outputs": [
    {
     "name": "stdout",
     "output_type": "stream",
     "text": [
      "2007-05-01\n",
      "2014-07-01\n"
     ]
    }
   ],
   "source": [
    "for cp in cp_best:\n",
    "    print(fred[\"date\"].values[2 * cp])"
   ]
  },
  {
   "cell_type": "code",
   "execution_count": null,
   "metadata": {},
   "outputs": [],
   "source": []
  },
  {
   "cell_type": "code",
   "execution_count": 31,
   "metadata": {
    "scrolled": true
   },
   "outputs": [
    {
     "name": "stdout",
     "output_type": "stream",
     "text": [
      "---------- divide and conquer -----------\n",
      "time: 24.80376672744751\n",
      "best parameter: (5, 1500)\n"
     ]
    }
   ],
   "source": [
    "grid_n = 200\n",
    "gamma_list = [1500,2000]\n",
    "# gamma_list = [0.075, 0.1, 0.5]\n",
    "lam_list = [1, 5, 10]\n",
    "\n",
    "run_time_dc  = 0\n",
    "loc_error_dc = 0\n",
    "\n",
    "np.random.seed(0)\n",
    "print('---------- divide and conquer -----------')\n",
    "start_time = time.time()\n",
    "dcdp = dcdp_cv_random_linear(grid_n, lam_list, gamma_list, smooth = 10,\n",
    "             buffer = 10, step_refine = 1, buffer_refine = 10, lam_refine = 1)\n",
    "cp_best, param_best, cp_best_cand = dcdp.fit((Y_train, X_train), (Y_test, X_test))\n",
    "# loc_error_dc = cp_distance(cp_best, cp_truth)\n",
    "run_time_dc = time.time() - start_time\n",
    "\n",
    "print(\"time: {0}\".format(run_time_dc))\n",
    "print(\"best parameter: {0}\".format(param_best))"
   ]
  },
  {
   "cell_type": "code",
   "execution_count": 32,
   "metadata": {},
   "outputs": [
    {
     "name": "stdout",
     "output_type": "stream",
     "text": [
      "[48]\n",
      "[52 63]\n"
     ]
    }
   ],
   "source": [
    "print(cp_best)\n",
    "print(cp_best_cand)"
   ]
  },
  {
   "cell_type": "code",
   "execution_count": 33,
   "metadata": {},
   "outputs": [
    {
     "name": "stdout",
     "output_type": "stream",
     "text": [
      "2008-01-01\n"
     ]
    }
   ],
   "source": [
    "for cp in cp_best:\n",
    "    print(fred[\"date\"].values[2 * cp])"
   ]
  },
  {
   "cell_type": "code",
   "execution_count": null,
   "metadata": {},
   "outputs": [],
   "source": []
  },
  {
   "cell_type": "code",
   "execution_count": null,
   "metadata": {},
   "outputs": [],
   "source": []
  },
  {
   "cell_type": "code",
   "execution_count": 52,
   "metadata": {},
   "outputs": [
    {
     "data": {
      "text/plain": [
       "(0, 0.0003988108661906499)"
      ]
     },
     "execution_count": 52,
     "metadata": {},
     "output_type": "execute_result"
    },
    {
     "data": {
      "image/png": "[encoded data removed]",
      "text/plain": [
       "<Figure size 1008x288 with 3 Axes>"
      ]
     },
     "metadata": {
      "needs_background": "light"
     },
     "output_type": "display_data"
    }
   ],
   "source": [
    "cp_ = 2 * cp_best[0]\n",
    "\n",
    "\n",
    "eda = cpd_eda_linear()\n",
    "fig, ax = plt.subplots(figsize = (14, 4), nrows = 1, ncols = 3)\n",
    "\n",
    "path_t_all, path_loglike_all = eda.draw_glr_path(X, Y, smooth = 16, step = 1)\n",
    "ax[1].plot(path_t_all, path_loglike_all)\n",
    "y_max = np.max(path_loglike_all)\n",
    "\n",
    "path_t_all, path_loglike_all = eda.draw_glr_path(X[0:cp_,:], Y[0:cp_], smooth = 8, step = 1)\n",
    "ax[0].plot(path_t_all, path_loglike_all)\n",
    "ax[0].set_ylim([0, y_max])\n",
    "# plt.savefig('nba_glr_all_2.pdf', bbox_inches='tight')\n",
    "\n",
    "path_t_all, path_loglike_all = eda.draw_glr_path(X[cp_:,:], Y[cp_:], smooth = 8, step = 1)\n",
    "ax[2].plot(path_t_all + cp_, path_loglike_all)\n",
    "ax[2].set_ylim([0, y_max])"
   ]
  },
  {
   "cell_type": "code",
   "execution_count": 37,
   "metadata": {},
   "outputs": [
    {
     "data": {
      "text/plain": [
       "'2005-06-01'"
      ]
     },
     "execution_count": 37,
     "metadata": {},
     "output_type": "execute_result"
    }
   ],
   "source": [
    "fred[\"date\"].values[65]"
   ]
  },
  {
   "cell_type": "code",
   "execution_count": 51,
   "metadata": {},
   "outputs": [
    {
     "data": {
      "text/plain": [
       "(0, 0.0003988108661906499)"
      ]
     },
     "execution_count": 51,
     "metadata": {},
     "output_type": "execute_result"
    },
    {
     "data": {
      "image/png": "[encoded data removed]",
      "text/plain": [
       "<Figure size 1008x288 with 3 Axes>"
      ]
     },
     "metadata": {
      "needs_background": "light"
     },
     "output_type": "display_data"
    }
   ],
   "source": [
    "cp_ = 120\n",
    "\n",
    "\n",
    "eda = cpd_eda_linear()\n",
    "fig, ax = plt.subplots(figsize = (14, 4), nrows = 1, ncols = 3)\n",
    "\n",
    "path_t_all, path_loglike_all = eda.draw_glr_path(X, Y, smooth = 16, step = 1)\n",
    "ax[1].plot(path_t_all, path_loglike_all)\n",
    "y_max = np.max(path_loglike_all)\n",
    "\n",
    "path_t_all, path_loglike_all = eda.draw_glr_path(X[0:cp_,:], Y[0:cp_], smooth = 8, step = 1)\n",
    "ax[0].plot(path_t_all, path_loglike_all)\n",
    "ax[0].set_ylim([0, y_max])\n",
    "# plt.savefig('nba_glr_all_2.pdf', bbox_inches='tight')\n",
    "\n",
    "path_t_all, path_loglike_all = eda.draw_glr_path(X[cp_:,:], Y[cp_:], smooth = 8, step = 1)\n",
    "ax[2].plot(path_t_all + cp_, path_loglike_all)\n",
    "ax[2].set_ylim([0, y_max])"
   ]
  },
  {
   "cell_type": "code",
   "execution_count": 53,
   "metadata": {},
   "outputs": [
    {
     "data": {
      "text/plain": [
       "(0, 0.0003988108661906499)"
      ]
     },
     "execution_count": 53,
     "metadata": {},
     "output_type": "execute_result"
    },
    {
     "data": {
      "image/png": "[encoded data removed]",
      "text/plain": [
       "<Figure size 1008x288 with 3 Axes>"
      ]
     },
     "metadata": {
      "needs_background": "light"
     },
     "output_type": "display_data"
    }
   ],
   "source": [
    "cp_ = 110\n",
    "\n",
    "\n",
    "eda = cpd_eda_linear()\n",
    "fig, ax = plt.subplots(figsize = (14, 4), nrows = 1, ncols = 3)\n",
    "\n",
    "path_t_all, path_loglike_all = eda.draw_glr_path(X, Y, smooth = 16, step = 1)\n",
    "ax[1].plot(path_t_all, path_loglike_all)\n",
    "y_max = np.max(path_loglike_all)\n",
    "\n",
    "path_t_all, path_loglike_all = eda.draw_glr_path(X[0:cp_,:], Y[0:cp_], smooth = 8, step = 1)\n",
    "ax[0].plot(path_t_all, path_loglike_all)\n",
    "ax[0].set_ylim([0, y_max])\n",
    "# plt.savefig('nba_glr_all_2.pdf', bbox_inches='tight')\n",
    "\n",
    "path_t_all, path_loglike_all = eda.draw_glr_path(X[cp_:,:], Y[cp_:], smooth = 8, step = 1)\n",
    "ax[2].plot(path_t_all + cp_, path_loglike_all)\n",
    "ax[2].set_ylim([0, y_max])"
   ]
  },
  {
   "cell_type": "code",
   "execution_count": null,
   "metadata": {},
   "outputs": [],
   "source": []
  },
  {
   "cell_type": "code",
   "execution_count": null,
   "metadata": {},
   "outputs": [],
   "source": []
  },
  {
   "cell_type": "code",
   "execution_count": null,
   "metadata": {},
   "outputs": [],
   "source": []
  },
  {
   "cell_type": "code",
   "execution_count": null,
   "metadata": {},
   "outputs": [],
   "source": []
  },
  {
   "cell_type": "code",
   "execution_count": null,
   "metadata": {},
   "outputs": [],
   "source": []
  },
  {
   "cell_type": "code",
   "execution_count": null,
   "metadata": {},
   "outputs": [],
   "source": [
    "cp = np.concatenate([[0], cp_best_cand[:], [len(Y_train)]])\n",
    "beta_path = dcdp.fit_with_cp(Y_train, cp)"
   ]
  },
  {
   "cell_type": "code",
   "execution_count": null,
   "metadata": {},
   "outputs": [],
   "source": [
    "print(beta_path)\n",
    "print(theta)"
   ]
  },
  {
   "cell_type": "code",
   "execution_count": null,
   "metadata": {},
   "outputs": [],
   "source": []
  },
  {
   "cell_type": "code",
   "execution_count": null,
   "metadata": {},
   "outputs": [],
   "source": []
  }
 ],
 "metadata": {
  "kernelspec": {
   "display_name": "Python 3",
   "language": "python",
   "name": "python3"
  },
  "language_info": {
   "codemirror_mode": {
    "name": "ipython",
    "version": 3
   },
   "file_extension": ".py",
   "mimetype": "text/x-python",
   "name": "python",
   "nbconvert_exporter": "python",
   "pygments_lexer": "ipython3",
   "version": "3.7.4"
  }
 },
 "nbformat": 4,
 "nbformat_minor": 2
}
