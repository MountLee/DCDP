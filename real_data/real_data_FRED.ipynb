{
 "cells": [
  {
   "cell_type": "code",
   "execution_count": 1,
   "metadata": {},
   "outputs": [],
   "source": [
    "import numpy as np\n",
    "import matplotlib.pyplot as plt\n",
    "import scipy.stats as stats\n",
    "import random\n",
    "\n",
    "import itertools\n",
    "\n",
    "from cpd_utils import *\n",
    "\n",
    "import time\n",
    "import bisect\n",
    "\n",
    "import pandas as pd\n",
    "\n",
    "from sklearn import linear_model\n",
    "from warnings import simplefilter\n",
    "from sklearn.exceptions import ConvergenceWarning\n",
    "simplefilter(\"ignore\", category=ConvergenceWarning)"
   ]
  },
  {
   "cell_type": "markdown",
   "metadata": {},
   "source": [
    "# DCDP"
   ]
  },
  {
   "cell_type": "code",
   "execution_count": 2,
   "metadata": {},
   "outputs": [],
   "source": [
    "fred = pd.read_csv('FRED.csv')"
   ]
  },
  {
   "cell_type": "code",
   "execution_count": 3,
   "metadata": {},
   "outputs": [],
   "source": [
    "fred = fred.dropna(axis = \"columns\")"
   ]
  },
  {
   "cell_type": "code",
   "execution_count": 4,
   "metadata": {},
   "outputs": [
    {
     "data": {
      "text/html": [
       "<div>\n",
       "<style scoped>\n",
       "    .dataframe tbody tr th:only-of-type {\n",
       "        vertical-align: middle;\n",
       "    }\n",
       "\n",
       "    .dataframe tbody tr th {\n",
       "        vertical-align: top;\n",
       "    }\n",
       "\n",
       "    .dataframe thead th {\n",
       "        text-align: right;\n",
       "    }\n",
       "</style>\n",
       "<table border=\"1\" class=\"dataframe\">\n",
       "  <thead>\n",
       "    <tr style=\"text-align: right;\">\n",
       "      <th></th>\n",
       "      <th>date</th>\n",
       "      <th>DPCERA3M086SBEA</th>\n",
       "      <th>CMRMTSPLx</th>\n",
       "      <th>RETAILx</th>\n",
       "      <th>INDPRO</th>\n",
       "      <th>IPFPNSS</th>\n",
       "      <th>IPFINAL</th>\n",
       "      <th>IPCONGD</th>\n",
       "      <th>IPDCONGD</th>\n",
       "      <th>IPNCONGD</th>\n",
       "      <th>...</th>\n",
       "      <th>CUSR0000SA0L5</th>\n",
       "      <th>PCEPI</th>\n",
       "      <th>DDURRG3M086SBEA</th>\n",
       "      <th>DNDGRG3M086SBEA</th>\n",
       "      <th>CES0600000008</th>\n",
       "      <th>CES2000000008</th>\n",
       "      <th>CES3000000008</th>\n",
       "      <th>UMCSENTx</th>\n",
       "      <th>INVEST</th>\n",
       "      <th>VIXCLSx</th>\n",
       "    </tr>\n",
       "  </thead>\n",
       "  <tbody>\n",
       "    <tr>\n",
       "      <th>0</th>\n",
       "      <td>2000-01-01</td>\n",
       "      <td>-0.002434</td>\n",
       "      <td>0.007932</td>\n",
       "      <td>-0.006763</td>\n",
       "      <td>-0.000592</td>\n",
       "      <td>-0.002811</td>\n",
       "      <td>-0.004488</td>\n",
       "      <td>-0.013108</td>\n",
       "      <td>0.017841</td>\n",
       "      <td>-0.025743</td>\n",
       "      <td>...</td>\n",
       "      <td>0.000602</td>\n",
       "      <td>0.000409</td>\n",
       "      <td>0.003036</td>\n",
       "      <td>-0.004309</td>\n",
       "      <td>0.000655</td>\n",
       "      <td>-0.001185</td>\n",
       "      <td>1.403784e-03</td>\n",
       "      <td>6.6</td>\n",
       "      <td>-0.009868</td>\n",
       "      <td>24.8430</td>\n",
       "    </tr>\n",
       "    <tr>\n",
       "      <th>1</th>\n",
       "      <td>2000-02-01</td>\n",
       "      <td>0.009364</td>\n",
       "      <td>-0.018159</td>\n",
       "      <td>0.014724</td>\n",
       "      <td>0.003666</td>\n",
       "      <td>0.005090</td>\n",
       "      <td>0.006240</td>\n",
       "      <td>0.007465</td>\n",
       "      <td>-0.003394</td>\n",
       "      <td>0.012017</td>\n",
       "      <td>...</td>\n",
       "      <td>0.000596</td>\n",
       "      <td>0.000406</td>\n",
       "      <td>-0.002375</td>\n",
       "      <td>0.005047</td>\n",
       "      <td>-0.000680</td>\n",
       "      <td>0.002320</td>\n",
       "      <td>-4.258847e-03</td>\n",
       "      <td>-0.7</td>\n",
       "      <td>-0.008760</td>\n",
       "      <td>25.4560</td>\n",
       "    </tr>\n",
       "    <tr>\n",
       "      <th>2</th>\n",
       "      <td>2000-03-01</td>\n",
       "      <td>0.004919</td>\n",
       "      <td>0.011754</td>\n",
       "      <td>0.011593</td>\n",
       "      <td>0.003790</td>\n",
       "      <td>0.002175</td>\n",
       "      <td>0.001130</td>\n",
       "      <td>-0.003713</td>\n",
       "      <td>-0.003371</td>\n",
       "      <td>-0.003805</td>\n",
       "      <td>...</td>\n",
       "      <td>0.002998</td>\n",
       "      <td>0.001161</td>\n",
       "      <td>0.004718</td>\n",
       "      <td>0.005466</td>\n",
       "      <td>-0.000673</td>\n",
       "      <td>-0.000606</td>\n",
       "      <td>1.411929e-03</td>\n",
       "      <td>-4.2</td>\n",
       "      <td>0.016952</td>\n",
       "      <td>24.7678</td>\n",
       "    </tr>\n",
       "    <tr>\n",
       "      <th>3</th>\n",
       "      <td>2000-04-01</td>\n",
       "      <td>-0.000295</td>\n",
       "      <td>0.008276</td>\n",
       "      <td>-0.015180</td>\n",
       "      <td>0.006214</td>\n",
       "      <td>0.008025</td>\n",
       "      <td>0.008056</td>\n",
       "      <td>0.008362</td>\n",
       "      <td>0.012836</td>\n",
       "      <td>0.006569</td>\n",
       "      <td>...</td>\n",
       "      <td>-0.007840</td>\n",
       "      <td>-0.005128</td>\n",
       "      <td>-0.003452</td>\n",
       "      <td>-0.016760</td>\n",
       "      <td>0.001973</td>\n",
       "      <td>0.001705</td>\n",
       "      <td>2.105965e-03</td>\n",
       "      <td>2.1</td>\n",
       "      <td>-0.004814</td>\n",
       "      <td>29.8331</td>\n",
       "    </tr>\n",
       "    <tr>\n",
       "      <th>4</th>\n",
       "      <td>2000-05-01</td>\n",
       "      <td>0.003732</td>\n",
       "      <td>-0.005321</td>\n",
       "      <td>0.001283</td>\n",
       "      <td>0.002954</td>\n",
       "      <td>0.001604</td>\n",
       "      <td>0.003450</td>\n",
       "      <td>0.001816</td>\n",
       "      <td>-0.003625</td>\n",
       "      <td>0.004059</td>\n",
       "      <td>...</td>\n",
       "      <td>0.003008</td>\n",
       "      <td>0.001673</td>\n",
       "      <td>0.001615</td>\n",
       "      <td>0.002298</td>\n",
       "      <td>-0.004625</td>\n",
       "      <td>-0.006921</td>\n",
       "      <td>-4.928346e-03</td>\n",
       "      <td>1.5</td>\n",
       "      <td>-0.002408</td>\n",
       "      <td>29.4290</td>\n",
       "    </tr>\n",
       "    <tr>\n",
       "      <th>...</th>\n",
       "      <td>...</td>\n",
       "      <td>...</td>\n",
       "      <td>...</td>\n",
       "      <td>...</td>\n",
       "      <td>...</td>\n",
       "      <td>...</td>\n",
       "      <td>...</td>\n",
       "      <td>...</td>\n",
       "      <td>...</td>\n",
       "      <td>...</td>\n",
       "      <td>...</td>\n",
       "      <td>...</td>\n",
       "      <td>...</td>\n",
       "      <td>...</td>\n",
       "      <td>...</td>\n",
       "      <td>...</td>\n",
       "      <td>...</td>\n",
       "      <td>...</td>\n",
       "      <td>...</td>\n",
       "      <td>...</td>\n",
       "      <td>...</td>\n",
       "    </tr>\n",
       "    <tr>\n",
       "      <th>235</th>\n",
       "      <td>2019-08-01</td>\n",
       "      <td>0.002841</td>\n",
       "      <td>0.005454</td>\n",
       "      <td>0.004785</td>\n",
       "      <td>0.006898</td>\n",
       "      <td>0.004824</td>\n",
       "      <td>0.004907</td>\n",
       "      <td>0.003430</td>\n",
       "      <td>0.010295</td>\n",
       "      <td>0.001465</td>\n",
       "      <td>...</td>\n",
       "      <td>-0.001365</td>\n",
       "      <td>-0.000864</td>\n",
       "      <td>0.004229</td>\n",
       "      <td>-0.003983</td>\n",
       "      <td>0.002824</td>\n",
       "      <td>0.005265</td>\n",
       "      <td>-1.806682e-03</td>\n",
       "      <td>-8.6</td>\n",
       "      <td>0.004553</td>\n",
       "      <td>19.4147</td>\n",
       "    </tr>\n",
       "    <tr>\n",
       "      <th>236</th>\n",
       "      <td>2019-09-01</td>\n",
       "      <td>0.001213</td>\n",
       "      <td>-0.001285</td>\n",
       "      <td>-0.006551</td>\n",
       "      <td>-0.003208</td>\n",
       "      <td>-0.006525</td>\n",
       "      <td>-0.008930</td>\n",
       "      <td>-0.007521</td>\n",
       "      <td>-0.019210</td>\n",
       "      <td>-0.004113</td>\n",
       "      <td>...</td>\n",
       "      <td>0.000911</td>\n",
       "      <td>0.000208</td>\n",
       "      <td>0.001978</td>\n",
       "      <td>0.001179</td>\n",
       "      <td>-0.000816</td>\n",
       "      <td>-0.001067</td>\n",
       "      <td>-8.108921e-07</td>\n",
       "      <td>3.4</td>\n",
       "      <td>0.005980</td>\n",
       "      <td>15.7324</td>\n",
       "    </tr>\n",
       "    <tr>\n",
       "      <th>237</th>\n",
       "      <td>2019-10-01</td>\n",
       "      <td>0.000585</td>\n",
       "      <td>-0.006168</td>\n",
       "      <td>0.003401</td>\n",
       "      <td>-0.007844</td>\n",
       "      <td>-0.004047</td>\n",
       "      <td>-0.003160</td>\n",
       "      <td>-0.002462</td>\n",
       "      <td>-0.033859</td>\n",
       "      <td>0.006454</td>\n",
       "      <td>...</td>\n",
       "      <td>0.000703</td>\n",
       "      <td>0.001648</td>\n",
       "      <td>-0.000894</td>\n",
       "      <td>0.005826</td>\n",
       "      <td>-0.000409</td>\n",
       "      <td>-0.003146</td>\n",
       "      <td>2.243860e-03</td>\n",
       "      <td>2.3</td>\n",
       "      <td>-0.017894</td>\n",
       "      <td>15.0714</td>\n",
       "    </tr>\n",
       "    <tr>\n",
       "      <th>238</th>\n",
       "      <td>2019-11-01</td>\n",
       "      <td>0.003286</td>\n",
       "      <td>0.004031</td>\n",
       "      <td>0.004331</td>\n",
       "      <td>0.003143</td>\n",
       "      <td>0.008942</td>\n",
       "      <td>0.012285</td>\n",
       "      <td>0.013186</td>\n",
       "      <td>0.058925</td>\n",
       "      <td>0.000080</td>\n",
       "      <td>...</td>\n",
       "      <td>-0.000464</td>\n",
       "      <td>-0.001587</td>\n",
       "      <td>-0.002434</td>\n",
       "      <td>-0.002519</td>\n",
       "      <td>-0.001206</td>\n",
       "      <td>0.001742</td>\n",
       "      <td>4.370739e-04</td>\n",
       "      <td>1.3</td>\n",
       "      <td>0.006901</td>\n",
       "      <td>12.3952</td>\n",
       "    </tr>\n",
       "    <tr>\n",
       "      <th>239</th>\n",
       "      <td>2019-12-01</td>\n",
       "      <td>-0.000716</td>\n",
       "      <td>-0.002033</td>\n",
       "      <td>0.007882</td>\n",
       "      <td>-0.003284</td>\n",
       "      <td>-0.003350</td>\n",
       "      <td>-0.005723</td>\n",
       "      <td>-0.008286</td>\n",
       "      <td>-0.015619</td>\n",
       "      <td>-0.006082</td>\n",
       "      <td>...</td>\n",
       "      <td>-0.000186</td>\n",
       "      <td>0.001192</td>\n",
       "      <td>-0.002203</td>\n",
       "      <td>-0.000607</td>\n",
       "      <td>0.002794</td>\n",
       "      <td>0.002771</td>\n",
       "      <td>4.323589e-04</td>\n",
       "      <td>2.5</td>\n",
       "      <td>-0.005930</td>\n",
       "      <td>13.6104</td>\n",
       "    </tr>\n",
       "  </tbody>\n",
       "</table>\n",
       "<p>240 rows × 114 columns</p>\n",
       "</div>"
      ],
      "text/plain": [
       "           date  DPCERA3M086SBEA  CMRMTSPLx   RETAILx    INDPRO   IPFPNSS  \\\n",
       "0    2000-01-01        -0.002434   0.007932 -0.006763 -0.000592 -0.002811   \n",
       "1    2000-02-01         0.009364  -0.018159  0.014724  0.003666  0.005090   \n",
       "2    2000-03-01         0.004919   0.011754  0.011593  0.003790  0.002175   \n",
       "3    2000-04-01        -0.000295   0.008276 -0.015180  0.006214  0.008025   \n",
       "4    2000-05-01         0.003732  -0.005321  0.001283  0.002954  0.001604   \n",
       "..          ...              ...        ...       ...       ...       ...   \n",
       "235  2019-08-01         0.002841   0.005454  0.004785  0.006898  0.004824   \n",
       "236  2019-09-01         0.001213  -0.001285 -0.006551 -0.003208 -0.006525   \n",
       "237  2019-10-01         0.000585  -0.006168  0.003401 -0.007844 -0.004047   \n",
       "238  2019-11-01         0.003286   0.004031  0.004331  0.003143  0.008942   \n",
       "239  2019-12-01        -0.000716  -0.002033  0.007882 -0.003284 -0.003350   \n",
       "\n",
       "      IPFINAL   IPCONGD  IPDCONGD  IPNCONGD  ...  CUSR0000SA0L5     PCEPI  \\\n",
       "0   -0.004488 -0.013108  0.017841 -0.025743  ...       0.000602  0.000409   \n",
       "1    0.006240  0.007465 -0.003394  0.012017  ...       0.000596  0.000406   \n",
       "2    0.001130 -0.003713 -0.003371 -0.003805  ...       0.002998  0.001161   \n",
       "3    0.008056  0.008362  0.012836  0.006569  ...      -0.007840 -0.005128   \n",
       "4    0.003450  0.001816 -0.003625  0.004059  ...       0.003008  0.001673   \n",
       "..        ...       ...       ...       ...  ...            ...       ...   \n",
       "235  0.004907  0.003430  0.010295  0.001465  ...      -0.001365 -0.000864   \n",
       "236 -0.008930 -0.007521 -0.019210 -0.004113  ...       0.000911  0.000208   \n",
       "237 -0.003160 -0.002462 -0.033859  0.006454  ...       0.000703  0.001648   \n",
       "238  0.012285  0.013186  0.058925  0.000080  ...      -0.000464 -0.001587   \n",
       "239 -0.005723 -0.008286 -0.015619 -0.006082  ...      -0.000186  0.001192   \n",
       "\n",
       "     DDURRG3M086SBEA  DNDGRG3M086SBEA  CES0600000008  CES2000000008  \\\n",
       "0           0.003036        -0.004309       0.000655      -0.001185   \n",
       "1          -0.002375         0.005047      -0.000680       0.002320   \n",
       "2           0.004718         0.005466      -0.000673      -0.000606   \n",
       "3          -0.003452        -0.016760       0.001973       0.001705   \n",
       "4           0.001615         0.002298      -0.004625      -0.006921   \n",
       "..               ...              ...            ...            ...   \n",
       "235         0.004229        -0.003983       0.002824       0.005265   \n",
       "236         0.001978         0.001179      -0.000816      -0.001067   \n",
       "237        -0.000894         0.005826      -0.000409      -0.003146   \n",
       "238        -0.002434        -0.002519      -0.001206       0.001742   \n",
       "239        -0.002203        -0.000607       0.002794       0.002771   \n",
       "\n",
       "     CES3000000008  UMCSENTx    INVEST  VIXCLSx  \n",
       "0     1.403784e-03       6.6 -0.009868  24.8430  \n",
       "1    -4.258847e-03      -0.7 -0.008760  25.4560  \n",
       "2     1.411929e-03      -4.2  0.016952  24.7678  \n",
       "3     2.105965e-03       2.1 -0.004814  29.8331  \n",
       "4    -4.928346e-03       1.5 -0.002408  29.4290  \n",
       "..             ...       ...       ...      ...  \n",
       "235  -1.806682e-03      -8.6  0.004553  19.4147  \n",
       "236  -8.108921e-07       3.4  0.005980  15.7324  \n",
       "237   2.243860e-03       2.3 -0.017894  15.0714  \n",
       "238   4.370739e-04       1.3  0.006901  12.3952  \n",
       "239   4.323589e-04       2.5 -0.005930  13.6104  \n",
       "\n",
       "[240 rows x 114 columns]"
      ]
     },
     "execution_count": 4,
     "metadata": {},
     "output_type": "execute_result"
    }
   ],
   "source": [
    "fred"
   ]
  },
  {
   "cell_type": "code",
   "execution_count": 5,
   "metadata": {},
   "outputs": [
    {
     "data": {
      "text/plain": [
       "(240, 114)"
      ]
     },
     "execution_count": 5,
     "metadata": {},
     "output_type": "execute_result"
    }
   ],
   "source": [
    "fred.shape"
   ]
  },
  {
   "cell_type": "code",
   "execution_count": 6,
   "metadata": {},
   "outputs": [
    {
     "data": {
      "image/png": "[encoded data removed]",
      "text/plain": [
       "<Figure size 700x250 with 2 Axes>"
      ]
     },
     "metadata": {},
     "output_type": "display_data"
    },
    {
     "data": {
      "text/plain": [
       "<Figure size 640x480 with 0 Axes>"
      ]
     },
     "metadata": {},
     "output_type": "display_data"
    }
   ],
   "source": [
    "n = fred.shape[0]\n",
    "fig, ax = plt.subplots(1, 1, figsize = (7, 2.5))\n",
    "ax.plot(fred.loc[:, \"INDPRO\"].values)\n",
    "\n",
    "x = np.arange(0, n, 50)\n",
    "y = [0] * len(x)\n",
    "ax.xaxis.set_ticks(x)\n",
    "for i, v in enumerate(x):\n",
    "    if v < n:\n",
    "        y[i] = fred.loc[:, \"date\"].values[int(v)]\n",
    "    else:\n",
    "        y[i] = ''\n",
    "ax.set_xticklabels(y)\n",
    "ax.set_xlabel('date')\n",
    "\n",
    "ax2 = ax.twiny()\n",
    "new_tick_locations = x.copy()\n",
    "\n",
    "ax2.set_xlim(ax.get_xlim())\n",
    "ax2.set_xticks(new_tick_locations)\n",
    "ax2.set_xticklabels(new_tick_locations)\n",
    "ax2.set_xlabel(\"index\")\n",
    "\n",
    "ax.set_ylabel('INDPRO')\n",
    "\n",
    "plt.show()\n",
    "\n",
    "plt.savefig('FRED_INDPRO.pdf', bbox_inches = 'tight')"
   ]
  },
  {
   "cell_type": "code",
   "execution_count": 7,
   "metadata": {},
   "outputs": [],
   "source": [
    "nt = len(fred)\n",
    "Y = fred.loc[:, \"INDPRO\"].values\n",
    "X = fred.drop([\"date\", \"INDPRO\"], axis = 1).values\n",
    "\n",
    "Y_train = Y[np.arange(0, nt, 2)]\n",
    "Y_test = Y[np.arange(1, nt, 2)]\n",
    "X_train = X[np.arange(0, nt, 2), :]\n",
    "X_test = X[np.arange(1, nt, 2), :]"
   ]
  },
  {
   "cell_type": "code",
   "execution_count": 8,
   "metadata": {},
   "outputs": [
    {
     "data": {
      "text/plain": [
       "(240, 112)"
      ]
     },
     "execution_count": 8,
     "metadata": {},
     "output_type": "execute_result"
    }
   ],
   "source": [
    "X.shape"
   ]
  },
  {
   "cell_type": "code",
   "execution_count": 9,
   "metadata": {},
   "outputs": [
    {
     "data": {
      "text/plain": [
       "[<matplotlib.lines.Line2D at 0x228aab57580>]"
      ]
     },
     "execution_count": 9,
     "metadata": {},
     "output_type": "execute_result"
    },
    {
     "data": {
      "image/png": "[encoded data removed]",
      "text/plain": [
       "<Figure size 640x480 with 1 Axes>"
      ]
     },
     "metadata": {},
     "output_type": "display_data"
    }
   ],
   "source": [
    "eda = cpd_eda_linear()\n",
    "path_t_all, path_loglike_all = eda.draw_glr_path(X, Y, smooth = 16, step = 1)\n",
    "plt.plot(path_t_all, path_loglike_all)\n",
    "# plt.savefig('nba_glr_all_2.pdf', bbox_inches='tight')"
   ]
  },
  {
   "cell_type": "code",
   "execution_count": 10,
   "metadata": {},
   "outputs": [
    {
     "data": {
      "text/plain": [
       "'2009-05-01'"
      ]
     },
     "execution_count": 10,
     "metadata": {},
     "output_type": "execute_result"
    }
   ],
   "source": [
    "ix = np.argmax(path_loglike_all)\n",
    "fred[\"date\"].values[path_t_all[ix]]"
   ]
  },
  {
   "cell_type": "code",
   "execution_count": null,
   "metadata": {},
   "outputs": [],
   "source": []
  },
  {
   "cell_type": "code",
   "execution_count": null,
   "metadata": {},
   "outputs": [],
   "source": []
  },
  {
   "cell_type": "code",
   "execution_count": null,
   "metadata": {},
   "outputs": [],
   "source": []
  },
  {
   "cell_type": "code",
   "execution_count": 11,
   "metadata": {},
   "outputs": [],
   "source": [
    "from sklearn.preprocessing import StandardScaler"
   ]
  },
  {
   "cell_type": "code",
   "execution_count": 12,
   "metadata": {},
   "outputs": [],
   "source": [
    "scaler = StandardScaler().fit(X_train)\n",
    "\n",
    "X_train = scaler.transform(X_train)\n",
    "X_test = scaler.transform(X_test)\n",
    "\n",
    "std = np.std(Y_train)\n",
    "mu = np.mean(Y_train)\n",
    "Y_train = (Y_train - mu) / std\n",
    "Y_test = (Y_test - mu) / std"
   ]
  },
  {
   "cell_type": "code",
   "execution_count": 13,
   "metadata": {},
   "outputs": [
    {
     "name": "stdout",
     "output_type": "stream",
     "text": [
      "(120,)\n",
      "(120, 112)\n"
     ]
    }
   ],
   "source": [
    "print(Y_train.shape)\n",
    "print(X_train.shape)"
   ]
  },
  {
   "cell_type": "code",
   "execution_count": 14,
   "metadata": {
    "scrolled": false
   },
   "outputs": [
    {
     "data": {
      "text/plain": [
       "(array([ 1.,  0.,  0.,  1.,  2.,  2., 17., 50., 39.,  8.]),\n",
       " array([-6.24698095, -5.43252411, -4.61806727, -3.80361043, -2.9891536 ,\n",
       "        -2.17469676, -1.36023992, -0.54578308,  0.26867376,  1.08313059,\n",
       "         1.89758743]),\n",
       " <BarContainer object of 10 artists>)"
      ]
     },
     "execution_count": 14,
     "metadata": {},
     "output_type": "execute_result"
    },
    {
     "data": {
      "image/png": "[encoded data removed]",
      "text/plain": [
       "<Figure size 640x480 with 1 Axes>"
      ]
     },
     "metadata": {},
     "output_type": "display_data"
    }
   ],
   "source": [
    "plt.hist(Y_train)"
   ]
  },
  {
   "cell_type": "code",
   "execution_count": 15,
   "metadata": {
    "scrolled": true
   },
   "outputs": [
    {
     "name": "stdout",
     "output_type": "stream",
     "text": [
      "---------- divide and conquer -----------\n",
      "time: 19.21106505393982\n",
      "best parameter: (5, 800)\n"
     ]
    }
   ],
   "source": [
    "grid_n = 200\n",
    "gamma_list = [800, 1000]\n",
    "# gamma_list = [0.075, 0.1, 0.5]\n",
    "lam_list = [0.1, 1, 5, 10]\n",
    "\n",
    "run_time_dc  = 0\n",
    "loc_error_dc = 0\n",
    "\n",
    "np.random.seed(0)\n",
    "print('---------- divide and conquer -----------')\n",
    "start_time = time.time()\n",
    "dcdp = dcdp_cv_grid_linear(grid_n, lam_list, gamma_list, smooth = 10,\n",
    "             buffer = 10, step_refine = 1, buffer_refine = 10, lam_refine = 1)\n",
    "cp_best, param_best, cp_best_cand = dcdp.fit((Y_train, X_train), (Y_test, X_test))\n",
    "# loc_error_dc = cp_distance(cp_best, cp_truth)\n",
    "run_time_dc = time.time() - start_time\n",
    "\n",
    "print(\"time: {0}\".format(run_time_dc))\n",
    "print(\"best parameter: {0}\".format(param_best))"
   ]
  },
  {
   "cell_type": "code",
   "execution_count": 16,
   "metadata": {},
   "outputs": [
    {
     "name": "stdout",
     "output_type": "stream",
     "text": [
      "[48]\n",
      "[52 63]\n"
     ]
    }
   ],
   "source": [
    "print(cp_best)\n",
    "print(cp_best_cand)"
   ]
  },
  {
   "cell_type": "code",
   "execution_count": 17,
   "metadata": {
    "scrolled": true
   },
   "outputs": [
    {
     "name": "stdout",
     "output_type": "stream",
     "text": [
      "2008-01-01\n"
     ]
    }
   ],
   "source": [
    "for cp in cp_best:\n",
    "    print(fred[\"date\"].values[2 * cp])"
   ]
  },
  {
   "cell_type": "code",
   "execution_count": null,
   "metadata": {},
   "outputs": [],
   "source": []
  },
  {
   "cell_type": "code",
   "execution_count": 18,
   "metadata": {},
   "outputs": [
    {
     "data": {
      "image/png": "[encoded data removed]",
      "text/plain": [
       "<Figure size 700x250 with 2 Axes>"
      ]
     },
     "metadata": {},
     "output_type": "display_data"
    },
    {
     "data": {
      "text/plain": [
       "<Figure size 640x480 with 0 Axes>"
      ]
     },
     "metadata": {},
     "output_type": "display_data"
    }
   ],
   "source": [
    "n = fred.shape[0]\n",
    "fig, ax = plt.subplots(1, 1, figsize = (7, 2.5))\n",
    "ax.plot(fred.loc[:, \"INDPRO\"].values)\n",
    "\n",
    "x = np.arange(0, n, 50)\n",
    "y = [0] * len(x)\n",
    "ax.xaxis.set_ticks(x)\n",
    "for i, v in enumerate(x):\n",
    "    if v < n:\n",
    "        y[i] = fred.loc[:, \"date\"].values[int(v)]\n",
    "    else:\n",
    "        y[i] = ''\n",
    "ax.set_xticklabels(y)\n",
    "ax.set_xlabel('date')\n",
    "\n",
    "ax2 = ax.twiny()\n",
    "new_tick_locations = x.copy()\n",
    "\n",
    "ax2.set_xlim(ax.get_xlim())\n",
    "ax2.set_xticks(new_tick_locations)\n",
    "ax2.set_xticklabels(new_tick_locations)\n",
    "ax2.set_xlabel(\"index\")\n",
    "\n",
    "ax.set_ylabel('INDPRO')\n",
    "\n",
    "ymi, ymx = np.min(fred.loc[:, \"INDPRO\"].values), np.max(fred.loc[:, \"INDPRO\"].values)\n",
    "\n",
    "ax.vlines([c * 2 for c in cp_best], ymi, ymx, colors = 'r')\n",
    "\n",
    "plt.show()\n",
    "\n",
    "plt.savefig('FRED_INDPRO-with-cp.pdf', bbox_inches = 'tight')"
   ]
  }
 ],
 "metadata": {
  "kernelspec": {
   "display_name": "Python 3 (ipykernel)",
   "language": "python",
   "name": "python3"
  },
  "language_info": {
   "codemirror_mode": {
    "name": "ipython",
    "version": 3
   },
   "file_extension": ".py",
   "mimetype": "text/x-python",
   "name": "python",
   "nbconvert_exporter": "python",
   "pygments_lexer": "ipython3",
   "version": "3.9.13"
  }
 },
 "nbformat": 4,
 "nbformat_minor": 2
}
