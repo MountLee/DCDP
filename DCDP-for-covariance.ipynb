{
 "cells": [
  {
   "cell_type": "code",
   "execution_count": 1,
   "metadata": {},
   "outputs": [],
   "source": [
    "import numpy as np\n",
    "import matplotlib.pyplot as plt\n",
    "import scipy.stats as stats\n",
    "import random\n",
    "\n",
    "import itertools\n",
    "\n",
    "from cpd_utils import *\n",
    "\n",
    "import time\n",
    "import bisect\n",
    "\n",
    "import pandas as pd"
   ]
  },
  {
   "cell_type": "code",
   "execution_count": 103,
   "metadata": {},
   "outputs": [],
   "source": [
    "class dp_cv_random_covariance(dp_cv_random):\n",
    "    def __init__(self, grid_n, repeat, lam_list, gamma_list, smooth = 100, buffer = 200):\n",
    "        self.grid_n = grid_n\n",
    "        self.repeat = repeat\n",
    "        self.lam_list = lam_list\n",
    "        self.gamma_list = gamma_list\n",
    "        self.smooth = smooth\n",
    "        self.buffer = buffer\n",
    "    \n",
    "    def estimate_func(self, Y, lam):\n",
    "        return Y.T @ Y / Y.shape[0]\n",
    "\n",
    "    def loss_func(self, Y, sig):\n",
    "        '''\n",
    "        currently the penalty is not included in the value of loss\n",
    "        '''\n",
    "        if np.linalg.det(sig) < 1e-7:\n",
    "            sig_reg = sig + 0.1 * np.eye(Y.shape[1])\n",
    "        else:\n",
    "            sig_reg = sig.copy()\n",
    "        omega = np.linalg.inv(sig_reg)\n",
    "        return np.trace(omega @ (Y.T @ Y)) + Y.shape[0] * np.log(np.linalg.det(sig_reg))\n",
    "\n",
    "class dcdp_cv_random_covariance(dcdp_cv_random):\n",
    "    def __init__(self, grid_n, repeat, lam_list, gamma_list, smooth = 100, \n",
    "                 buffer = 200, step_refine = 1, buffer_refine = 30, lam_refine = 0.1):\n",
    "        self.grid_n = grid_n\n",
    "        self.repeat = repeat\n",
    "        self.lam_list = lam_list\n",
    "        self.gamma_list = gamma_list\n",
    "        \n",
    "        self.smooth = smooth\n",
    "        self.buffer = buffer\n",
    "        \n",
    "        self.step_refine = step_refine\n",
    "        self.buffer_refine = buffer_refine\n",
    "        self.lam_refine = lam_refine\n",
    "\n",
    "    def joint_estimate_func(self, Y1, Y2, lam):\n",
    "        \"\"\"\n",
    "        may also try group lasso\n",
    "        \"\"\"\n",
    "        beta_hat1 = self.estimate_func(Y1, lam)\n",
    "        \n",
    "        beta_hat2 = self.estimate_func(Y2, lam)\n",
    "        return beta_hat1, beta_hat2\n",
    "        \n",
    "    def estimate_func(self, Y, lam):\n",
    "        return Y.T @ Y / Y.shape[0]\n",
    "\n",
    "    def loss_func(self, Y, sig):\n",
    "        '''\n",
    "        currently the penalty is not included in the value of loss\n",
    "        '''\n",
    "        if np.linalg.det(sig) < 1e-7:\n",
    "            sig_reg = sig + 0.1 * np.eye(Y.shape[1])\n",
    "        else:\n",
    "            sig_reg = sig.copy()\n",
    "        omega = np.linalg.inv(sig_reg)\n",
    "        return np.trace(omega @ (Y.T @ Y)) + Y.shape[0] * np.log(np.linalg.det(sig_reg))\n",
    "    \n",
    "    def fit_with_cp(self, Y, cp, lam = 0.1):\n",
    "        if len(Y.shape) == 1:\n",
    "            Y = Y.reshape((-1, 1))\n",
    "        K = len(cp) - 1\n",
    "        p = Y.shape[1]\n",
    "        beta_path = np.zeros((K, p, p))\n",
    "\n",
    "        for i in range(K):\n",
    "            Y_cur = Y[cp[i]:cp[i + 1]]\n",
    "            beta_cur = self.estimate_func(Y_cur, lam)\n",
    "            beta_path[i] = beta_cur.copy()    \n",
    "\n",
    "        return beta_path"
   ]
  },
  {
   "cell_type": "code",
   "execution_count": 126,
   "metadata": {},
   "outputs": [],
   "source": [
    "def generate_data_covariance(n, T, theta):\n",
    "    p = theta.shape[1]\n",
    "    y_train_joint = np.concatenate([\n",
    "        np.random.multivariate_normal(mean = np.zeros(p), cov = theta[i], size = n[i]) \n",
    "        for i in range(T)], axis = 0)\n",
    "    nt = len(y_train_joint)\n",
    "    \n",
    "    return nt, y_train_joint"
   ]
  },
  {
   "cell_type": "markdown",
   "metadata": {},
   "source": [
    "# DCDP"
   ]
  },
  {
   "cell_type": "markdown",
   "metadata": {},
   "source": [
    "Signal too weak"
   ]
  },
  {
   "cell_type": "code",
   "execution_count": 118,
   "metadata": {},
   "outputs": [],
   "source": [
    "T = 4\n",
    "Delta = 500\n",
    "n = np.array([Delta] * T)\n",
    "cp_truth = np.cumsum(n)[:T-1]\n",
    "\n",
    "p = 5\n",
    "theta = np.zeros((T, p, p))\n",
    "theta[0] = np.eye(p)\n",
    "\n",
    "rho = 0.1\n",
    "theta[1] = (1 - rho) * np.eye(p) + rho * np.ones((p, p))\n",
    "\n",
    "rho = -0.1\n",
    "theta[2] = (1 - rho) * np.eye(p) + rho * np.ones((p, p))\n",
    "\n",
    "theta[3] = np.eye(p)\n",
    "\n",
    "diff = np.zeros(T - 1)\n",
    "for t in range(1, T):\n",
    "    diff[t - 1] = np.sum(np.abs(theta[t] - theta[t - 1])**2)**0.5\n",
    "\n",
    "nt, Y_train = generate_data_covariance(n, T, theta)\n",
    "nt, Y_test = generate_data_covariance(n, T, theta)"
   ]
  },
  {
   "cell_type": "code",
   "execution_count": 119,
   "metadata": {},
   "outputs": [
    {
     "data": {
      "text/plain": [
       "(2000, 5)"
      ]
     },
     "execution_count": 119,
     "metadata": {},
     "output_type": "execute_result"
    }
   ],
   "source": [
    "theta.shape\n",
    "Y_train.shape"
   ]
  },
  {
   "cell_type": "code",
   "execution_count": 124,
   "metadata": {
    "scrolled": false
   },
   "outputs": [
    {
     "name": "stdout",
     "output_type": "stream",
     "text": [
      "---------- divide and conquer -----------\n",
      "avg loc error: 466.0, avg time: 2.9182558059692383\n",
      "best parameter: (0, 50)\n"
     ]
    }
   ],
   "source": [
    "grid_n = 100\n",
    "repeat = 1\n",
    "gamma_list = [5, 20, 50]\n",
    "lam_list = [0]\n",
    "\n",
    "B = 1\n",
    "run_time_dc = np.zeros(B)\n",
    "loc_error_dc = np.zeros(B)\n",
    "\n",
    "print('---------- divide and conquer -----------')\n",
    "for b in range(B):\n",
    "    start_time = time.time()\n",
    "    dcdp = dcdp_cv_random_covariance(grid_n, repeat, lam_list, gamma_list, smooth = 10, \n",
    "                 buffer = 20, step_refine = 1, buffer_refine = 10, lam_refine = 0.1)\n",
    "    cp_best, param_best, cp_best_cand = dcdp.fit(Y_train, Y_test)\n",
    "    loc_error_dc[b] = cp_distance(cp_best, cp_truth)\n",
    "    run_time_dc[b] = time.time() - start_time\n",
    "\n",
    "print(\"avg loc error: {0}, avg time: {1}\".format(loc_error_dc.mean(), run_time_dc.mean()))\n",
    "print(\"best parameter: {0}\".format(param_best))"
   ]
  },
  {
   "cell_type": "code",
   "execution_count": 125,
   "metadata": {},
   "outputs": [
    {
     "name": "stdout",
     "output_type": "stream",
     "text": [
      "[966, 1624]\n",
      "[ 952 1621]\n"
     ]
    }
   ],
   "source": [
    "print(cp_best)\n",
    "print(cp_best_cand)"
   ]
  },
  {
   "cell_type": "code",
   "execution_count": null,
   "metadata": {},
   "outputs": [],
   "source": []
  },
  {
   "cell_type": "markdown",
   "metadata": {},
   "source": [
    "Reasonable SNR"
   ]
  },
  {
   "cell_type": "code",
   "execution_count": 105,
   "metadata": {},
   "outputs": [],
   "source": [
    "T = 4\n",
    "Delta = 500\n",
    "n = np.array([Delta] * T)\n",
    "cp_truth = np.cumsum(n)[:T-1]\n",
    "\n",
    "p = 5\n",
    "theta = np.zeros((T, p, p))\n",
    "theta[0] = np.eye(p)\n",
    "\n",
    "rho = 0.3\n",
    "theta[1] = np.eye(p)\n",
    "for i in range(1, p):\n",
    "    theta[1][i, i - 1] = rho\n",
    "    theta[1][i - 1, i] = rho\n",
    "\n",
    "rho = -0.3\n",
    "theta[2] = np.eye(p)\n",
    "for i in range(1, p):\n",
    "    theta[2][i, i - 1] = rho\n",
    "    theta[2][i - 1, i] = rho\n",
    "\n",
    "theta[3] = np.eye(p)\n",
    "\n",
    "diff = np.zeros(T - 1)\n",
    "for t in range(1, T):\n",
    "    diff[t - 1] = np.sum(np.abs(theta[t] - theta[t - 1])**2)**0.5\n",
    "\n",
    "nt, Y_train = generate_data_covariance(n, T, theta)\n",
    "nt, Y_test = generate_data_covariance(n, T, theta)"
   ]
  },
  {
   "cell_type": "code",
   "execution_count": 115,
   "metadata": {},
   "outputs": [
    {
     "name": "stdout",
     "output_type": "stream",
     "text": [
      "---------- divide and conquer -----------\n",
      "avg loc error: 23.0, avg time: 2.955235242843628\n",
      "best parameter: (0, 50)\n"
     ]
    }
   ],
   "source": [
    "grid_n = 100\n",
    "repeat = 1\n",
    "gamma_list = [20, 50, 100]\n",
    "lam_list = [0]\n",
    "\n",
    "B = 1\n",
    "run_time_dc = np.zeros(B)\n",
    "loc_error_dc = np.zeros(B)\n",
    "\n",
    "print('---------- divide and conquer -----------')\n",
    "for b in range(B):\n",
    "    start_time = time.time()\n",
    "    dcdp = dcdp_cv_random_covariance(grid_n, repeat, lam_list, gamma_list, smooth = 10, \n",
    "                 buffer = 20, step_refine = 1, buffer_refine = 10, lam_refine = 0.1)\n",
    "    cp_best, param_best, cp_best_cand = dcdp.fit(Y_train, Y_test)\n",
    "    loc_error_dc[b] = cp_distance(cp_best, cp_truth)\n",
    "    run_time_dc[b] = time.time() - start_time\n",
    "\n",
    "print(\"avg loc error: {0}, avg time: {1}\".format(loc_error_dc.mean(), run_time_dc.mean()))\n",
    "print(\"best parameter: {0}\".format(param_best))"
   ]
  },
  {
   "cell_type": "code",
   "execution_count": 116,
   "metadata": {},
   "outputs": [
    {
     "name": "stdout",
     "output_type": "stream",
     "text": [
      "[499, 1000, 1523]\n",
      "[ 484  985 1519]\n"
     ]
    }
   ],
   "source": [
    "print(cp_best)\n",
    "print(cp_best_cand)"
   ]
  },
  {
   "cell_type": "code",
   "execution_count": 117,
   "metadata": {},
   "outputs": [],
   "source": [
    "cp = np.concatenate([[0], cp_truth, [len(Y_train)]])\n",
    "sigma_path = dcdp.fit_with_cp(Y_train, cp)"
   ]
  }
 ],
 "metadata": {
  "kernelspec": {
   "display_name": "Python 3",
   "language": "python",
   "name": "python3"
  },
  "language_info": {
   "codemirror_mode": {
    "name": "ipython",
    "version": 3
   },
   "file_extension": ".py",
   "mimetype": "text/x-python",
   "name": "python",
   "nbconvert_exporter": "python",
   "pygments_lexer": "ipython3",
   "version": "3.7.4"
  }
 },
 "nbformat": 4,
 "nbformat_minor": 2
}
