{
 "cells": [
  {
   "cell_type": "code",
   "execution_count": 2,
   "metadata": {},
   "outputs": [],
   "source": [
    "import numpy as np\n",
    "import matplotlib.pyplot as plt\n",
    "import scipy.stats as stats\n",
    "import random\n",
    "\n",
    "import itertools\n",
    "\n",
    "from cpd_utils import *\n",
    "import changeforest\n",
    "\n",
    "import time\n",
    "import bisect\n",
    "\n",
    "import pandas as pd"
   ]
  },
  {
   "cell_type": "code",
   "execution_count": 3,
   "metadata": {},
   "outputs": [],
   "source": []
  },
  {
   "cell_type": "markdown",
   "metadata": {},
   "source": [
    "----------------------------"
   ]
  },
  {
   "cell_type": "markdown",
   "metadata": {},
   "source": [
    "----------------"
   ]
  },
  {
   "cell_type": "markdown",
   "metadata": {},
   "source": [
    "# ChangeForest"
   ]
  },
  {
   "cell_type": "code",
   "execution_count": 4,
   "metadata": {},
   "outputs": [],
   "source": [
    "def generate_data_mean(n, T, theta):\n",
    "    p = len(theta[0])\n",
    "    y_train = np.stack([np.random.multivariate_normal(theta[i], np.eye(p), n[i]) for i in range(T)])\n",
    "    y_train_joint = y_train.reshape((-1, p))\n",
    "    nt = len(y_train_joint)\n",
    "    \n",
    "    return nt, y_train_joint"
   ]
  },
  {
   "cell_type": "markdown",
   "metadata": {},
   "source": [
    "### Univariate"
   ]
  },
  {
   "cell_type": "code",
   "execution_count": 13,
   "metadata": {},
   "outputs": [],
   "source": [
    "T = 4\n",
    "Delta = 500\n",
    "n = np.array([Delta] * T)\n",
    "cp_truth = np.cumsum(n)[:T-1]\n",
    "\n",
    "p = 1\n",
    "theta = np.zeros((T, p))\n",
    "theta[1,0] = 5\n",
    "theta[2,0] = 0\n",
    "theta[3,0] = -5\n",
    "\n",
    "diff = np.zeros(T - 1)\n",
    "for t in range(1, T):\n",
    "    diff[t - 1] = np.sum(np.abs(theta[t] - theta[t - 1])**2)**0.5\n",
    "\n",
    "nt, Y_train = generate_data_mean(n, T, theta)\n",
    "nt, Y_test = generate_data_mean(n, T, theta)"
   ]
  },
  {
   "cell_type": "code",
   "execution_count": 14,
   "metadata": {},
   "outputs": [
    {
     "data": {
      "text/plain": [
       "(2000, 1)"
      ]
     },
     "execution_count": 14,
     "metadata": {},
     "output_type": "execute_result"
    }
   ],
   "source": [
    "theta.shape\n",
    "Y_train.shape"
   ]
  },
  {
   "cell_type": "code",
   "execution_count": 26,
   "metadata": {},
   "outputs": [],
   "source": [
    "result = changeforest.changeforest(Y_train, \"random_forest\", \"bs\")"
   ]
  },
  {
   "cell_type": "code",
   "execution_count": 27,
   "metadata": {
    "scrolled": true
   },
   "outputs": [
    {
     "data": {
      "text/plain": [
       "[500, 555, 1000, 1500]"
      ]
     },
     "execution_count": 27,
     "metadata": {},
     "output_type": "execute_result"
    }
   ],
   "source": [
    "result.split_points()"
   ]
  },
  {
   "cell_type": "code",
   "execution_count": 28,
   "metadata": {},
   "outputs": [
    {
     "data": {
      "text/plain": [
       "[OptimizerResult(start=0, stop=2000, best_split=1500, max_gain=1088.5904512357702),\n",
       " OptimizerResult(start=0, stop=1500, best_split=1000, max_gain=236.37073171754037),\n",
       " OptimizerResult(start=0, stop=1000, best_split=500, max_gain=650.4777723482498),\n",
       " OptimizerResult(start=0, stop=500, best_split=20, max_gain=-49.065223420768554),\n",
       " OptimizerResult(start=500, stop=1000, best_split=555, max_gain=-5.152723862018207),\n",
       " OptimizerResult(start=500, stop=555, best_split=532, max_gain=-13.42352359595792),\n",
       " OptimizerResult(start=555, stop=1000, best_split=979, max_gain=-19.06568628392418),\n",
       " OptimizerResult(start=1000, stop=1500, best_split=1479, max_gain=-57.40602767062637),\n",
       " OptimizerResult(start=1500, stop=2000, best_split=1520, max_gain=-10.22714956784737)]"
      ]
     },
     "execution_count": 28,
     "metadata": {},
     "output_type": "execute_result"
    }
   ],
   "source": [
    "result.segments"
   ]
  },
  {
   "cell_type": "code",
   "execution_count": 29,
   "metadata": {},
   "outputs": [],
   "source": [
    "result = changeforest.changeforest(Y_train, \"change_in_mean\", \"bs\")"
   ]
  },
  {
   "cell_type": "code",
   "execution_count": 30,
   "metadata": {},
   "outputs": [
    {
     "data": {
      "text/plain": [
       "[500, 1000, 1500]"
      ]
     },
     "execution_count": 30,
     "metadata": {},
     "output_type": "execute_result"
    }
   ],
   "source": [
    "result.split_points()"
   ]
  },
  {
   "cell_type": "markdown",
   "metadata": {},
   "source": [
    "### multivariate"
   ]
  },
  {
   "cell_type": "code",
   "execution_count": 31,
   "metadata": {},
   "outputs": [],
   "source": [
    "T = 4\n",
    "Delta = 500\n",
    "n = np.array([Delta] * T)\n",
    "cp_truth = np.cumsum(n)[:T-1]\n",
    "\n",
    "p = 20\n",
    "theta = np.zeros((T, p))\n",
    "for t in range(T):\n",
    "    theta[t, 5 * t: 5 * (t + 1)] = 5\n",
    "\n",
    "diff = np.zeros(T - 1)\n",
    "for t in range(1, T):\n",
    "    diff[t - 1] = np.sum(np.abs(theta[t] - theta[t - 1])**2)**0.5\n",
    "\n",
    "nt, Y_train = generate_data_mean(n, T, theta)\n",
    "nt, Y_test = generate_data_mean(n, T, theta)"
   ]
  },
  {
   "cell_type": "code",
   "execution_count": 32,
   "metadata": {},
   "outputs": [
    {
     "data": {
      "text/plain": [
       "(2000, 20)"
      ]
     },
     "execution_count": 32,
     "metadata": {},
     "output_type": "execute_result"
    }
   ],
   "source": [
    "theta.shape\n",
    "Y_train.shape"
   ]
  },
  {
   "cell_type": "code",
   "execution_count": 33,
   "metadata": {},
   "outputs": [],
   "source": [
    "result = changeforest.changeforest(Y_train, \"random_forest\", \"bs\")"
   ]
  },
  {
   "cell_type": "code",
   "execution_count": 34,
   "metadata": {
    "scrolled": true
   },
   "outputs": [
    {
     "data": {
      "text/plain": [
       "[500, 1000, 1500]"
      ]
     },
     "execution_count": 34,
     "metadata": {},
     "output_type": "execute_result"
    }
   ],
   "source": [
    "result.split_points()"
   ]
  },
  {
   "cell_type": "code",
   "execution_count": 11,
   "metadata": {},
   "outputs": [],
   "source": [
    "result = changeforest.changeforest(Y_train, \"change_in_mean\", \"bs\")"
   ]
  },
  {
   "cell_type": "code",
   "execution_count": 35,
   "metadata": {
    "scrolled": true
   },
   "outputs": [
    {
     "data": {
      "text/plain": [
       "[500, 1000, 1500]"
      ]
     },
     "execution_count": 35,
     "metadata": {},
     "output_type": "execute_result"
    }
   ],
   "source": [
    "result.split_points()"
   ]
  },
  {
   "cell_type": "code",
   "execution_count": null,
   "metadata": {},
   "outputs": [],
   "source": []
  },
  {
   "cell_type": "code",
   "execution_count": null,
   "metadata": {},
   "outputs": [],
   "source": []
  },
  {
   "cell_type": "code",
   "execution_count": 37,
   "metadata": {},
   "outputs": [],
   "source": [
    "T = 4\n",
    "Delta = 500\n",
    "n = np.array([Delta] * T)\n",
    "cp_truth = np.cumsum(n)[:T-1]\n",
    "\n",
    "p = 100\n",
    "theta = np.zeros((T, p))\n",
    "for t in range(T):\n",
    "    theta[t, 5 * t: 5 * (t + 1)] = 5\n",
    "\n",
    "diff = np.zeros(T - 1)\n",
    "for t in range(1, T):\n",
    "    diff[t - 1] = np.sum(np.abs(theta[t] - theta[t - 1])**2)**0.5\n",
    "\n",
    "nt, Y_train = generate_data_mean(n, T, theta)\n",
    "nt, Y_test = generate_data_mean(n, T, theta)"
   ]
  },
  {
   "cell_type": "code",
   "execution_count": 38,
   "metadata": {},
   "outputs": [],
   "source": [
    "result = changeforest.changeforest(Y_train, \"random_forest\", \"bs\")"
   ]
  },
  {
   "cell_type": "code",
   "execution_count": 39,
   "metadata": {
    "scrolled": true
   },
   "outputs": [
    {
     "data": {
      "text/plain": [
       "[500, 1000, 1500]"
      ]
     },
     "execution_count": 39,
     "metadata": {},
     "output_type": "execute_result"
    }
   ],
   "source": [
    "result.split_points()"
   ]
  },
  {
   "cell_type": "code",
   "execution_count": 40,
   "metadata": {},
   "outputs": [],
   "source": [
    "result = changeforest.changeforest(Y_train, \"change_in_mean\", \"bs\")"
   ]
  },
  {
   "cell_type": "code",
   "execution_count": 41,
   "metadata": {
    "scrolled": true
   },
   "outputs": [
    {
     "data": {
      "text/plain": [
       "[500, 1000, 1500]"
      ]
     },
     "execution_count": 41,
     "metadata": {},
     "output_type": "execute_result"
    }
   ],
   "source": [
    "result.split_points()"
   ]
  },
  {
   "cell_type": "code",
   "execution_count": null,
   "metadata": {},
   "outputs": [],
   "source": []
  },
  {
   "cell_type": "markdown",
   "metadata": {},
   "source": [
    "Weaker signal"
   ]
  },
  {
   "cell_type": "code",
   "execution_count": 42,
   "metadata": {},
   "outputs": [],
   "source": [
    "T = 4\n",
    "Delta = 500\n",
    "n = np.array([Delta] * T)\n",
    "cp_truth = np.cumsum(n)[:T-1]\n",
    "\n",
    "p = 100\n",
    "theta = np.zeros((T, p))\n",
    "for t in range(T):\n",
    "    theta[t, 5 * t: 5 * (t + 1)] = 2\n",
    "\n",
    "diff = np.zeros(T - 1)\n",
    "for t in range(1, T):\n",
    "    diff[t - 1] = np.sum(np.abs(theta[t] - theta[t - 1])**2)**0.5\n",
    "\n",
    "nt, Y_train = generate_data_mean(n, T, theta)\n",
    "nt, Y_test = generate_data_mean(n, T, theta)"
   ]
  },
  {
   "cell_type": "code",
   "execution_count": 43,
   "metadata": {},
   "outputs": [],
   "source": [
    "result = changeforest.changeforest(Y_train, \"random_forest\", \"bs\")"
   ]
  },
  {
   "cell_type": "code",
   "execution_count": 44,
   "metadata": {
    "scrolled": true
   },
   "outputs": [
    {
     "data": {
      "text/plain": [
       "[500, 1000, 1500]"
      ]
     },
     "execution_count": 44,
     "metadata": {},
     "output_type": "execute_result"
    }
   ],
   "source": [
    "result.split_points()"
   ]
  },
  {
   "cell_type": "code",
   "execution_count": 45,
   "metadata": {},
   "outputs": [],
   "source": [
    "result = changeforest.changeforest(Y_train, \"change_in_mean\", \"bs\")"
   ]
  },
  {
   "cell_type": "code",
   "execution_count": 46,
   "metadata": {
    "scrolled": true
   },
   "outputs": [
    {
     "data": {
      "text/plain": [
       "[500, 1000, 1500]"
      ]
     },
     "execution_count": 46,
     "metadata": {},
     "output_type": "execute_result"
    }
   ],
   "source": [
    "result.split_points()"
   ]
  },
  {
   "cell_type": "code",
   "execution_count": null,
   "metadata": {},
   "outputs": [],
   "source": []
  },
  {
   "cell_type": "code",
   "execution_count": 47,
   "metadata": {},
   "outputs": [],
   "source": [
    "T = 4\n",
    "Delta = 500\n",
    "n = np.array([Delta] * T)\n",
    "cp_truth = np.cumsum(n)[:T-1]\n",
    "\n",
    "p = 100\n",
    "theta = np.zeros((T, p))\n",
    "for t in range(T):\n",
    "    theta[t, 5 * t: 5 * (t + 1)] = 1\n",
    "\n",
    "diff = np.zeros(T - 1)\n",
    "for t in range(1, T):\n",
    "    diff[t - 1] = np.sum(np.abs(theta[t] - theta[t - 1])**2)**0.5\n",
    "\n",
    "nt, Y_train = generate_data_mean(n, T, theta)\n",
    "nt, Y_test = generate_data_mean(n, T, theta)"
   ]
  },
  {
   "cell_type": "code",
   "execution_count": 48,
   "metadata": {},
   "outputs": [],
   "source": [
    "result = changeforest.changeforest(Y_train, \"random_forest\", \"bs\")"
   ]
  },
  {
   "cell_type": "code",
   "execution_count": 49,
   "metadata": {
    "scrolled": true
   },
   "outputs": [
    {
     "data": {
      "text/plain": [
       "[500, 998, 1500]"
      ]
     },
     "execution_count": 49,
     "metadata": {},
     "output_type": "execute_result"
    }
   ],
   "source": [
    "result.split_points()"
   ]
  },
  {
   "cell_type": "code",
   "execution_count": 50,
   "metadata": {},
   "outputs": [],
   "source": [
    "result = changeforest.changeforest(Y_train, \"change_in_mean\", \"bs\")"
   ]
  },
  {
   "cell_type": "code",
   "execution_count": 51,
   "metadata": {
    "scrolled": true
   },
   "outputs": [
    {
     "data": {
      "text/plain": [
       "[500, 998, 1500]"
      ]
     },
     "execution_count": 51,
     "metadata": {},
     "output_type": "execute_result"
    }
   ],
   "source": [
    "result.split_points()"
   ]
  }
 ],
 "metadata": {
  "kernelspec": {
   "display_name": "Python 3",
   "language": "python",
   "name": "python3"
  },
  "language_info": {
   "codemirror_mode": {
    "name": "ipython",
    "version": 3
   },
   "file_extension": ".py",
   "mimetype": "text/x-python",
   "name": "python",
   "nbconvert_exporter": "python",
   "pygments_lexer": "ipython3",
   "version": "3.7.4"
  }
 },
 "nbformat": 4,
 "nbformat_minor": 2
}
