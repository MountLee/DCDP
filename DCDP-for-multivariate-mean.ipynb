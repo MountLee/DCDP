{
 "cells": [
  {
   "cell_type": "code",
   "execution_count": 1,
   "metadata": {},
   "outputs": [],
   "source": [
    "import numpy as np\n",
    "import matplotlib.pyplot as plt\n",
    "import scipy.stats as stats\n",
    "import random\n",
    "\n",
    "import itertools\n",
    "\n",
    "from cpd_utils import *\n",
    "\n",
    "import time\n",
    "import bisect\n",
    "\n",
    "import pandas as pd"
   ]
  },
  {
   "cell_type": "markdown",
   "metadata": {},
   "source": [
    "# DCDP"
   ]
  },
  {
   "cell_type": "code",
   "execution_count": 2,
   "metadata": {},
   "outputs": [],
   "source": [
    "def generate_data_mean(n, T, theta):\n",
    "    p = len(theta[0])\n",
    "    y_train = np.stack([np.random.multivariate_normal(theta[i], np.eye(p), n[i]) for i in range(T)])\n",
    "    y_train_joint = y_train.reshape((-1, p))\n",
    "    nt = len(y_train_joint)\n",
    "    \n",
    "    return nt, y_train_joint"
   ]
  },
  {
   "cell_type": "code",
   "execution_count": 29,
   "metadata": {},
   "outputs": [],
   "source": [
    "T = 2\n",
    "Delta = 50\n",
    "n = np.array([Delta] * T)\n",
    "cp_truth = np.cumsum(n)[:T-1]\n",
    "\n",
    "p = 1\n",
    "theta = np.zeros((T, p))\n",
    "for t in range(T):\n",
    "    theta[t, 5 * t: 5 * (t + 1)] = 5\n",
    "\n",
    "diff = np.zeros(T - 1)\n",
    "for t in range(1, T):\n",
    "    diff[t - 1] = np.sum(np.abs(theta[t] - theta[t - 1])**2)**0.5\n",
    "\n",
    "nt, Y_train = generate_data_mean(n, T, theta)\n",
    "nt, Y_test = generate_data_mean(n, T, theta)"
   ]
  },
  {
   "cell_type": "code",
   "execution_count": 30,
   "metadata": {},
   "outputs": [
    {
     "data": {
      "text/plain": [
       "(100, 1)"
      ]
     },
     "execution_count": 30,
     "metadata": {},
     "output_type": "execute_result"
    }
   ],
   "source": [
    "theta.shape\n",
    "Y_train.shape"
   ]
  },
  {
   "cell_type": "code",
   "execution_count": 31,
   "metadata": {
    "scrolled": true
   },
   "outputs": [
    {
     "name": "stdout",
     "output_type": "stream",
     "text": [
      "---------- divide and conquer -----------\n",
      "avg loc error: 0.0, avg time: 0.8014414310455322\n",
      "best parameter: (0, 50)\n"
     ]
    }
   ],
   "source": [
    "grid_n = 200\n",
    "gamma_list = [50, 100, 500]\n",
    "lam_list = [0, 0.5]\n",
    "\n",
    "B = 1\n",
    "run_time_dc = np.zeros(B)\n",
    "\n",
    "loc_error_dc = np.zeros(B)\n",
    "\n",
    "print('---------- divide and conquer -----------')\n",
    "for b in range(B):\n",
    "    start_time = time.time()\n",
    "    dcdp = dcdp_cv_random_mean(grid_n, lam_list, gamma_list, smooth = 10, \n",
    "                 buffer = 20, step_refine = 1, buffer_refine = 10, lam_refine = 0.1)\n",
    "    cp_best, param_best, cp_best_cand = dcdp.fit(Y_train, Y_test)\n",
    "    loc_error_dc[b] = cp_distance(cp_best, cp_truth)\n",
    "    run_time_dc[b] = time.time() - start_time\n",
    "\n",
    "print(\"avg loc error: {0}, avg time: {1}\".format(loc_error_dc.mean(), run_time_dc.mean()))\n",
    "print(\"best parameter: {0}\".format(param_best))"
   ]
  },
  {
   "cell_type": "code",
   "execution_count": 32,
   "metadata": {},
   "outputs": [
    {
     "name": "stdout",
     "output_type": "stream",
     "text": [
      "[50]\n",
      "[50]\n"
     ]
    }
   ],
   "source": [
    "print(cp_best)\n",
    "print(cp_best_cand)"
   ]
  },
  {
   "cell_type": "code",
   "execution_count": 33,
   "metadata": {},
   "outputs": [],
   "source": [
    "cp = np.concatenate([[0], cp_best_cand[:], [len(Y_train)]])\n",
    "beta_path = dcdp.fit_with_cp(Y_train, cp)"
   ]
  },
  {
   "cell_type": "code",
   "execution_count": 34,
   "metadata": {},
   "outputs": [
    {
     "name": "stdout",
     "output_type": "stream",
     "text": [
      "[[5.0274945 ]\n",
      " [0.06648559]]\n",
      "[[5.]\n",
      " [0.]]\n"
     ]
    }
   ],
   "source": [
    "print(beta_path)\n",
    "print(theta)"
   ]
  },
  {
   "cell_type": "code",
   "execution_count": null,
   "metadata": {},
   "outputs": [],
   "source": []
  },
  {
   "cell_type": "code",
   "execution_count": null,
   "metadata": {},
   "outputs": [],
   "source": []
  },
  {
   "cell_type": "code",
   "execution_count": null,
   "metadata": {},
   "outputs": [],
   "source": []
  },
  {
   "cell_type": "code",
   "execution_count": null,
   "metadata": {},
   "outputs": [],
   "source": []
  },
  {
   "cell_type": "code",
   "execution_count": 35,
   "metadata": {},
   "outputs": [],
   "source": [
    "T = 4\n",
    "Delta = 500\n",
    "n = np.array([Delta] * T)\n",
    "cp_truth = np.cumsum(n)[:T-1]\n",
    "\n",
    "p = 20\n",
    "theta = np.zeros((T, p))\n",
    "for t in range(T):\n",
    "    theta[t, 5 * t: 5 * (t + 1)] = 5\n",
    "\n",
    "diff = np.zeros(T - 1)\n",
    "for t in range(1, T):\n",
    "    diff[t - 1] = np.sum(np.abs(theta[t] - theta[t - 1])**2)**0.5\n",
    "\n",
    "nt, Y_train = generate_data_mean(n, T, theta)\n",
    "nt, Y_test = generate_data_mean(n, T, theta)"
   ]
  },
  {
   "cell_type": "code",
   "execution_count": 36,
   "metadata": {},
   "outputs": [
    {
     "data": {
      "text/plain": [
       "array([[5., 5., 5., 5., 5., 0., 0., 0., 0., 0., 0., 0., 0., 0., 0., 0.,\n",
       "        0., 0., 0., 0.],\n",
       "       [0., 0., 0., 0., 0., 5., 5., 5., 5., 5., 0., 0., 0., 0., 0., 0.,\n",
       "        0., 0., 0., 0.],\n",
       "       [0., 0., 0., 0., 0., 0., 0., 0., 0., 0., 5., 5., 5., 5., 5., 0.,\n",
       "        0., 0., 0., 0.],\n",
       "       [0., 0., 0., 0., 0., 0., 0., 0., 0., 0., 0., 0., 0., 0., 0., 5.,\n",
       "        5., 5., 5., 5.]])"
      ]
     },
     "execution_count": 36,
     "metadata": {},
     "output_type": "execute_result"
    }
   ],
   "source": [
    "theta"
   ]
  },
  {
   "cell_type": "code",
   "execution_count": 37,
   "metadata": {},
   "outputs": [
    {
     "data": {
      "text/plain": [
       "(2000, 20)"
      ]
     },
     "execution_count": 37,
     "metadata": {},
     "output_type": "execute_result"
    }
   ],
   "source": [
    "theta.shape\n",
    "Y_train.shape"
   ]
  },
  {
   "cell_type": "code",
   "execution_count": 44,
   "metadata": {
    "scrolled": true
   },
   "outputs": [
    {
     "name": "stdout",
     "output_type": "stream",
     "text": [
      "---------- divide and conquer -----------\n",
      "avg loc error: 0.0, avg time: 1.1623988151550293\n",
      "best parameter: (0.5, 500)\n"
     ]
    }
   ],
   "source": [
    "grid_n = 100\n",
    "gamma_list = [500, 1000]\n",
    "lam_list = [0.5]\n",
    "\n",
    "B = 1\n",
    "run_time_dc = np.zeros(B)\n",
    "\n",
    "loc_error_dc = np.zeros(B)\n",
    "\n",
    "print('---------- divide and conquer -----------')\n",
    "for b in range(B):\n",
    "    start_time = time.time()\n",
    "    dcdp = dcdp_cv_random_mean(grid_n, lam_list, gamma_list, smooth = 10, \n",
    "                 buffer = 20, step_refine = 1, buffer_refine = 10, lam_refine = 0.1)\n",
    "    cp_best, param_best, cp_best_cand = dcdp.fit(Y_train, Y_test)\n",
    "    loc_error_dc[b] = cp_distance(cp_best, cp_truth)\n",
    "    run_time_dc[b] = time.time() - start_time\n",
    "\n",
    "print(\"avg loc error: {0}, avg time: {1}\".format(loc_error_dc.mean(), run_time_dc.mean()))\n",
    "print(\"best parameter: {0}\".format(param_best))"
   ]
  },
  {
   "cell_type": "code",
   "execution_count": 45,
   "metadata": {},
   "outputs": [
    {
     "name": "stdout",
     "output_type": "stream",
     "text": [
      "[500, 1000, 1500]\n",
      "[ 500 1000 1493]\n"
     ]
    }
   ],
   "source": [
    "print(cp_best)\n",
    "print(cp_best_cand)"
   ]
  },
  {
   "cell_type": "code",
   "execution_count": 40,
   "metadata": {},
   "outputs": [],
   "source": [
    "cp = np.concatenate([[0], cp_best_cand[:], [len(Y_train)]])\n",
    "beta_path = dcdp.fit_with_cp(Y_train, cp)"
   ]
  },
  {
   "cell_type": "code",
   "execution_count": 41,
   "metadata": {},
   "outputs": [
    {
     "data": {
      "text/plain": [
       "array([[ 4.90638627e+00,  4.94207691e+00,  4.94896493e+00,\n",
       "         4.91494963e+00,  4.96024907e+00, -0.00000000e+00,\n",
       "        -0.00000000e+00, -0.00000000e+00, -0.00000000e+00,\n",
       "         0.00000000e+00, -0.00000000e+00,  0.00000000e+00,\n",
       "        -0.00000000e+00,  0.00000000e+00, -0.00000000e+00,\n",
       "         0.00000000e+00,  0.00000000e+00, -0.00000000e+00,\n",
       "        -0.00000000e+00,  0.00000000e+00],\n",
       "       [ 3.01904316e+00,  2.74034664e+00,  2.70405488e+00,\n",
       "         2.91666343e+00,  2.97767244e+00,  1.98951804e+00,\n",
       "         1.87475948e+00,  1.85296906e+00,  2.14509635e+00,\n",
       "         1.70960058e+00, -0.00000000e+00, -0.00000000e+00,\n",
       "         3.85473677e-02,  0.00000000e+00,  0.00000000e+00,\n",
       "        -6.12443920e-03, -9.85621418e-02, -0.00000000e+00,\n",
       "         0.00000000e+00,  3.59952783e-03],\n",
       "       [-0.00000000e+00,  0.00000000e+00, -0.00000000e+00,\n",
       "        -0.00000000e+00,  0.00000000e+00,  4.85760508e+00,\n",
       "         4.93640410e+00,  4.96116553e+00,  4.81042650e+00,\n",
       "         4.83858685e+00, -0.00000000e+00,  0.00000000e+00,\n",
       "         0.00000000e+00,  0.00000000e+00,  0.00000000e+00,\n",
       "        -0.00000000e+00, -0.00000000e+00, -0.00000000e+00,\n",
       "         0.00000000e+00, -0.00000000e+00],\n",
       "       [ 0.00000000e+00, -5.15805726e-02, -1.11728533e-03,\n",
       "        -1.65499894e-02,  0.00000000e+00,  2.93611069e+00,\n",
       "         2.96402504e+00,  3.08865189e+00,  2.92094446e+00,\n",
       "         3.01021396e+00,  2.14139387e+00,  1.51172609e+00,\n",
       "         1.80182710e+00,  2.12022263e+00,  1.98426329e+00,\n",
       "        -7.67468513e-03,  3.82848872e-02,  1.04460432e-01,\n",
       "        -2.37434596e-02,  0.00000000e+00],\n",
       "       [-0.00000000e+00,  0.00000000e+00, -0.00000000e+00,\n",
       "         0.00000000e+00,  0.00000000e+00, -0.00000000e+00,\n",
       "         0.00000000e+00,  0.00000000e+00,  0.00000000e+00,\n",
       "        -0.00000000e+00,  4.88229155e+00,  4.90846783e+00,\n",
       "         4.90117754e+00,  4.88243260e+00,  4.87846769e+00,\n",
       "         0.00000000e+00,  0.00000000e+00, -0.00000000e+00,\n",
       "        -0.00000000e+00,  0.00000000e+00],\n",
       "       [-0.00000000e+00, -0.00000000e+00, -0.00000000e+00,\n",
       "         0.00000000e+00,  0.00000000e+00, -0.00000000e+00,\n",
       "         0.00000000e+00,  0.00000000e+00, -0.00000000e+00,\n",
       "         0.00000000e+00,  0.00000000e+00,  0.00000000e+00,\n",
       "         0.00000000e+00,  0.00000000e+00,  0.00000000e+00,\n",
       "         4.83462924e+00,  4.84967882e+00,  4.80995983e+00,\n",
       "         4.81885116e+00,  4.86565100e+00]])"
      ]
     },
     "execution_count": 41,
     "metadata": {},
     "output_type": "execute_result"
    }
   ],
   "source": [
    "beta_path"
   ]
  },
  {
   "cell_type": "code",
   "execution_count": null,
   "metadata": {},
   "outputs": [],
   "source": []
  },
  {
   "cell_type": "code",
   "execution_count": null,
   "metadata": {},
   "outputs": [],
   "source": []
  },
  {
   "cell_type": "code",
   "execution_count": 46,
   "metadata": {},
   "outputs": [],
   "source": [
    "T = 4\n",
    "Delta = 500\n",
    "n = np.array([Delta] * T)\n",
    "cp_truth = np.cumsum(n)[:T-1]\n",
    "\n",
    "p = 100\n",
    "theta = np.zeros((T, p))\n",
    "for t in range(T):\n",
    "    theta[t, 5 * t: 5 * (t + 1)] = 5\n",
    "\n",
    "diff = np.zeros(T - 1)\n",
    "for t in range(1, T):\n",
    "    diff[t - 1] = np.sum(np.abs(theta[t] - theta[t - 1])**2)**0.5\n",
    "\n",
    "nt, Y_train = generate_data_mean(n, T, theta)\n",
    "nt, Y_test = generate_data_mean(n, T, theta)"
   ]
  },
  {
   "cell_type": "code",
   "execution_count": 49,
   "metadata": {},
   "outputs": [
    {
     "name": "stdout",
     "output_type": "stream",
     "text": [
      "---------- divide and conquer -----------\n",
      "avg loc error: 0.0, avg time: 3.5858418941497803\n",
      "best parameter: (0.1, 2000)\n"
     ]
    }
   ],
   "source": [
    "grid_n = 100\n",
    "gamma_list = [2000]\n",
    "lam_list = [0.1, 0.5]\n",
    "\n",
    "B = 1\n",
    "run_time_dc = np.zeros(B)\n",
    "\n",
    "loc_error_dc = np.zeros(B)\n",
    "\n",
    "print('---------- divide and conquer -----------')\n",
    "for b in range(B):\n",
    "    start_time = time.time()\n",
    "    dcdp = dcdp_cv_random_mean(grid_n, lam_list, gamma_list, smooth = 10, \n",
    "                 buffer = 20, step_refine = 1, buffer_refine = 10, lam_refine = 0.1)\n",
    "    cp_best, param_best, cp_best_cand = dcdp.fit(Y_train, Y_test)\n",
    "    loc_error_dc[b] = cp_distance(cp_best, cp_truth)\n",
    "    run_time_dc[b] = time.time() - start_time\n",
    "\n",
    "print(\"avg loc error: {0}, avg time: {1}\".format(loc_error_dc.mean(), run_time_dc.mean()))\n",
    "print(\"best parameter: {0}\".format(param_best))"
   ]
  },
  {
   "cell_type": "code",
   "execution_count": 50,
   "metadata": {
    "scrolled": true
   },
   "outputs": [
    {
     "name": "stdout",
     "output_type": "stream",
     "text": [
      "[500, 1000, 1500]\n",
      "[ 499  983 1483]\n"
     ]
    }
   ],
   "source": [
    "print(cp_best)\n",
    "print(cp_best_cand)"
   ]
  },
  {
   "cell_type": "code",
   "execution_count": 15,
   "metadata": {},
   "outputs": [],
   "source": [
    "cp = np.concatenate([[0], cp_best_cand[:], [len(Y_train)]])\n",
    "beta_path = dcdp.fit_with_cp(Y_train, cp, 0.1)"
   ]
  },
  {
   "cell_type": "code",
   "execution_count": 14,
   "metadata": {},
   "outputs": [],
   "source": [
    "# beta_path"
   ]
  },
  {
   "cell_type": "markdown",
   "metadata": {},
   "source": [
    "Weaker signal"
   ]
  },
  {
   "cell_type": "code",
   "execution_count": 51,
   "metadata": {},
   "outputs": [],
   "source": [
    "T = 4\n",
    "Delta = 500\n",
    "n = np.array([Delta] * T)\n",
    "cp_truth = np.cumsum(n)[:T-1]\n",
    "\n",
    "p = 100\n",
    "theta = np.zeros((T, p))\n",
    "for t in range(T):\n",
    "    theta[t, 5 * t: 5 * (t + 1)] = 1\n",
    "\n",
    "diff = np.zeros(T - 1)\n",
    "for t in range(1, T):\n",
    "    diff[t - 1] = np.sum(np.abs(theta[t] - theta[t - 1])**2)**0.5\n",
    "\n",
    "nt, Y_train = generate_data_mean(n, T, theta)\n",
    "nt, Y_test = generate_data_mean(n, T, theta)"
   ]
  },
  {
   "cell_type": "code",
   "execution_count": 52,
   "metadata": {},
   "outputs": [
    {
     "name": "stdout",
     "output_type": "stream",
     "text": [
      "---------- divide and conquer -----------\n",
      "avg loc error: 0.0, avg time: 5.608494520187378\n",
      "best parameter: (0.1, 200)\n"
     ]
    }
   ],
   "source": [
    "grid_n = 100\n",
    "gamma_list = [200, 800, 2000]\n",
    "lam_list = [0.1]\n",
    "\n",
    "B = 1\n",
    "run_time_dc = np.zeros(B)\n",
    "\n",
    "loc_error_dc = np.zeros(B)\n",
    "\n",
    "print('---------- divide and conquer -----------')\n",
    "for b in range(B):\n",
    "    start_time = time.time()\n",
    "    dcdp = dcdp_cv_random_mean(grid_n, lam_list, gamma_list, smooth = 10, \n",
    "                 buffer = 20, step_refine = 1, buffer_refine = 10, lam_refine = 0.1)\n",
    "    cp_best, param_best, cp_best_cand = dcdp.fit(Y_train, Y_test)\n",
    "    loc_error_dc[b] = cp_distance(cp_best, cp_truth)\n",
    "    run_time_dc[b] = time.time() - start_time\n",
    "\n",
    "print(\"avg loc error: {0}, avg time: {1}\".format(loc_error_dc.mean(), run_time_dc.mean()))\n",
    "print(\"best parameter: {0}\".format(param_best))"
   ]
  },
  {
   "cell_type": "code",
   "execution_count": 53,
   "metadata": {},
   "outputs": [
    {
     "name": "stdout",
     "output_type": "stream",
     "text": [
      "[500, 1000, 1500]\n",
      "[ 485 1010 1531]\n"
     ]
    }
   ],
   "source": [
    "print(cp_best)\n",
    "print(cp_best_cand)"
   ]
  },
  {
   "cell_type": "code",
   "execution_count": null,
   "metadata": {},
   "outputs": [],
   "source": []
  },
  {
   "cell_type": "code",
   "execution_count": null,
   "metadata": {},
   "outputs": [],
   "source": []
  },
  {
   "cell_type": "code",
   "execution_count": 68,
   "metadata": {},
   "outputs": [],
   "source": [
    "T = 4\n",
    "Delta = 50\n",
    "n = np.array([Delta] * T)\n",
    "cp_truth = np.cumsum(n)[:T-1]\n",
    "\n",
    "p = 100\n",
    "theta = np.zeros((T, p))\n",
    "for t in range(T):\n",
    "    theta[t, 5 * t: 5 * (t + 1)] = 1\n",
    "\n",
    "diff = np.zeros(T - 1)\n",
    "for t in range(1, T):\n",
    "    diff[t - 1] = np.sum(np.abs(theta[t] - theta[t - 1])**2)**0.5\n",
    "\n",
    "nt, Y_train = generate_data_mean(n, T, theta)\n",
    "nt, Y_test = generate_data_mean(n, T, theta)"
   ]
  },
  {
   "cell_type": "code",
   "execution_count": 69,
   "metadata": {},
   "outputs": [
    {
     "name": "stdout",
     "output_type": "stream",
     "text": [
      "---------- divide and conquer -----------\n",
      "avg loc error: 0.0, avg time: 0.6674776077270508\n",
      "best parameter: (0.1, 200)\n"
     ]
    }
   ],
   "source": [
    "grid_n = 100\n",
    "gamma_list = [200, 800, 2000]\n",
    "lam_list = [0.1]\n",
    "\n",
    "B = 1\n",
    "run_time_dc = np.zeros(B)\n",
    "\n",
    "loc_error_dc = np.zeros(B)\n",
    "\n",
    "print('---------- divide and conquer -----------')\n",
    "for b in range(B):\n",
    "    start_time = time.time()\n",
    "    dcdp = dcdp_cv_random_mean(grid_n, lam_list, gamma_list, smooth = 10, \n",
    "                 buffer = 20, step_refine = 1, buffer_refine = 10, lam_refine = 0.1)\n",
    "    cp_best, param_best, cp_best_cand = dcdp.fit(Y_train, Y_test)\n",
    "    loc_error_dc[b] = cp_distance(cp_best, cp_truth)\n",
    "    run_time_dc[b] = time.time() - start_time\n",
    "\n",
    "print(\"avg loc error: {0}, avg time: {1}\".format(loc_error_dc.mean(), run_time_dc.mean()))\n",
    "print(\"best parameter: {0}\".format(param_best))"
   ]
  },
  {
   "cell_type": "code",
   "execution_count": 70,
   "metadata": {},
   "outputs": [
    {
     "name": "stdout",
     "output_type": "stream",
     "text": [
      "[50, 100, 150]\n",
      "[ 51 100 150]\n"
     ]
    }
   ],
   "source": [
    "print(cp_best)\n",
    "print(cp_best_cand)"
   ]
  },
  {
   "cell_type": "code",
   "execution_count": null,
   "metadata": {},
   "outputs": [],
   "source": []
  },
  {
   "cell_type": "code",
   "execution_count": 82,
   "metadata": {},
   "outputs": [],
   "source": [
    "T = 4\n",
    "Delta = 200\n",
    "n = np.array([Delta] * T)\n",
    "cp_truth = np.cumsum(n)[:T-1]\n",
    "\n",
    "p = 100\n",
    "theta = np.zeros((T, p))\n",
    "for t in range(T):\n",
    "    theta[t, 5 * t: 5 * (t + 1)] = 0.5\n",
    "\n",
    "diff = np.zeros(T - 1)\n",
    "for t in range(1, T):\n",
    "    diff[t - 1] = np.sum(np.abs(theta[t] - theta[t - 1])**2)**0.5\n",
    "\n",
    "nt, Y_train = generate_data_mean(n, T, theta)\n",
    "nt, Y_test = generate_data_mean(n, T, theta)"
   ]
  },
  {
   "cell_type": "code",
   "execution_count": 87,
   "metadata": {},
   "outputs": [
    {
     "name": "stdout",
     "output_type": "stream",
     "text": [
      "---------- divide and conquer -----------\n",
      "avg loc error: 4.0, avg time: 1.474365472793579\n",
      "best parameter: (0.1, 200)\n"
     ]
    }
   ],
   "source": [
    "grid_n = 100\n",
    "gamma_list = [200, 800, 2000]\n",
    "lam_list = [0.1]\n",
    "\n",
    "B = 1\n",
    "run_time_dc = np.zeros(B)\n",
    "\n",
    "loc_error_dc = np.zeros(B)\n",
    "\n",
    "print('---------- divide and conquer -----------')\n",
    "for b in range(B):\n",
    "    start_time = time.time()\n",
    "    dcdp = dcdp_cv_random_mean(grid_n, lam_list, gamma_list, smooth = 10, \n",
    "                 buffer = 20, step_refine = 1, buffer_refine = 10, lam_refine = 0.1)\n",
    "    cp_best, param_best, cp_best_cand = dcdp.fit(Y_train, Y_test)\n",
    "    loc_error_dc[b] = cp_distance(cp_best, cp_truth)\n",
    "    run_time_dc[b] = time.time() - start_time\n",
    "\n",
    "print(\"avg loc error: {0}, avg time: {1}\".format(loc_error_dc.mean(), run_time_dc.mean()))\n",
    "print(\"best parameter: {0}\".format(param_best))"
   ]
  },
  {
   "cell_type": "code",
   "execution_count": 88,
   "metadata": {},
   "outputs": [
    {
     "name": "stdout",
     "output_type": "stream",
     "text": [
      "[202, 396, 599]\n",
      "[203 376 582]\n"
     ]
    }
   ],
   "source": [
    "print(cp_best)\n",
    "print(cp_best_cand)"
   ]
  },
  {
   "cell_type": "code",
   "execution_count": null,
   "metadata": {},
   "outputs": [],
   "source": []
  },
  {
   "cell_type": "code",
   "execution_count": null,
   "metadata": {},
   "outputs": [],
   "source": []
  },
  {
   "cell_type": "markdown",
   "metadata": {},
   "source": [
    "## Check run_time and loc_error w.r.t. Q_grid"
   ]
  },
  {
   "cell_type": "code",
   "execution_count": null,
   "metadata": {},
   "outputs": [],
   "source": [
    "T = 4\n",
    "Delta = 500\n",
    "n = np.array([Delta] * T)\n",
    "cp_truth = np.cumsum(n)[:T-1]\n",
    "\n",
    "theta = np.array([0, 5, 0, 5])\n",
    "\n",
    "diff = np.zeros(T - 1)\n",
    "for t in range(1, T):\n",
    "    diff[t - 1] = np.sum(np.abs(theta[t] - theta[t - 1])**2)**0.5\n",
    "\n",
    "nt, Y_train = generate_data_univ_mean(n, T, theta)\n",
    "nt, Y_test = generate_data_univ_mean(n, T, theta)\n",
    "\n",
    "Q_grid_list = [25,50,75,100,125,150,175,200]\n",
    "Q = len(Q_grid_list)\n",
    "\n",
    "gamma_list = [40, 80, 120]\n",
    "lam_list = [None]\n",
    "\n",
    "B = 100\n",
    "\n",
    "run_time_d = np.zeros((Q,B))\n",
    "run_time_dc = np.zeros((Q,B))\n",
    "\n",
    "loc_error_d = np.zeros((Q,B))\n",
    "loc_error_dc = np.zeros((Q,B))\n",
    "\n",
    "print('---------- only divide -----------')\n",
    "for q, grid_n in enumerate(Q_grid_list):\n",
    "    for b in range(B):\n",
    "        start_time = time.time()\n",
    "        cp_best, param_best = dp_cv_random_mean((Y_train), (Y_test), grid_n, lam_list, gamma_list, \n",
    "                                              loss_univ_mean, estim_univ_mean, goodness_of_fit_univ_mean)\n",
    "        loc_error_d[q, b] = cp_distance(cp_best, cp_truth)\n",
    "        run_time_d[q, b] = time.time() - start_time\n",
    "        \n",
    "print('---------- divide and conquer -----------')\n",
    "for q, grid_n in enumerate(Q_grid_list):\n",
    "    for b in range(B):\n",
    "        start_time = time.time()\n",
    "        cp_best, param_best, cp_best_cand = dcdp_random((Y_train), (Y_test), grid_n, lam_list, gamma_list, \n",
    "                                              loss_univ_mean, estim_univ_mean, goodness_of_fit_univ_mean)\n",
    "        loc_error_dc[q, b] = cp_distance(cp_best, cp_truth)\n",
    "        run_time_dc[q, b] = time.time() - start_time"
   ]
  },
  {
   "cell_type": "code",
   "execution_count": null,
   "metadata": {},
   "outputs": [],
   "source": [
    "import pickle\n",
    "with open('Q_time_error_4.pickle', 'wb') as f:\n",
    "    pickle.dump([theta, Y_train, Y_test, Delta, Q_grid_list, gamma_list, run_time_d, run_time_dc, loc_error_d, loc_error_dc], f)"
   ]
  },
  {
   "cell_type": "code",
   "execution_count": null,
   "metadata": {},
   "outputs": [],
   "source": [
    "# objects = []\n",
    "# with (open(\"Q_time_error_1.pickle\", \"rb\")) as openfile:\n",
    "#     while True:\n",
    "#         try:\n",
    "#             objects.append(pickle.load(openfile))\n",
    "#         except EOFError:\n",
    "#             break"
   ]
  },
  {
   "cell_type": "code",
   "execution_count": null,
   "metadata": {},
   "outputs": [],
   "source": [
    "def curve_with_bar(x, y_list, percent, legend, xlabel, ylabel, save = False, name = None):\n",
    "    plt.figure(figsize = (10,7))\n",
    "    for y in y_list:\n",
    "        plt.fill_between(x, np.quantile(y, percent, axis = 1), np.quantile(y, 1 - percent, axis = 1), alpha = 0.2)\n",
    "        plt.plot(x, y.mean(axis = 1))\n",
    "\n",
    "    plt.legend(legend)\n",
    "    plt.xlabel(xlabel)\n",
    "    plt.ylabel(ylabel)\n",
    "    if save:\n",
    "        plt.savefig(name)"
   ]
  },
  {
   "cell_type": "code",
   "execution_count": null,
   "metadata": {},
   "outputs": [],
   "source": [
    "curve_with_bar(Q_grid_list, [loc_error_d, loc_error_dc], 0.1, ['divide','divide and conquer'], 'grid num', 'loc error')"
   ]
  },
  {
   "cell_type": "code",
   "execution_count": null,
   "metadata": {},
   "outputs": [],
   "source": [
    "plt.hist(loc_error_d[1,:], alpha = 0.5)\n",
    "plt.hist(loc_error_dc[1,:], alpha = 0.5)\n",
    "plt.legend(['divide','divide and conquer'])"
   ]
  },
  {
   "cell_type": "code",
   "execution_count": null,
   "metadata": {
    "scrolled": true
   },
   "outputs": [],
   "source": [
    "plt.hist(loc_error_d[-1,:], alpha = 0.5)\n",
    "plt.hist(loc_error_dc[-1,:], alpha = 0.5)\n",
    "plt.legend(['divide','divide and conquer'])"
   ]
  },
  {
   "cell_type": "code",
   "execution_count": null,
   "metadata": {},
   "outputs": [],
   "source": [
    "curve_with_bar(Q_grid_list, [run_time_d, run_time_dc], 0.1, ['divide','divide and conquer'], 'grid num', 'run time')"
   ]
  },
  {
   "cell_type": "code",
   "execution_count": null,
   "metadata": {},
   "outputs": [],
   "source": [
    "import winsound\n",
    "duration = 10000  # milliseconds\n",
    "freq_base = 440  # Hz\n",
    "index_base = 49\n",
    "winsound.Beep(freq_base, duration)"
   ]
  },
  {
   "cell_type": "code",
   "execution_count": null,
   "metadata": {},
   "outputs": [],
   "source": []
  },
  {
   "cell_type": "code",
   "execution_count": null,
   "metadata": {},
   "outputs": [],
   "source": [
    "T = 4\n",
    "Delta = 500\n",
    "n = np.array([Delta] * T)\n",
    "cp_truth = np.cumsum(n)[:T-1]\n",
    "\n",
    "theta = np.array([0, 5, 0, 5])\n",
    "\n",
    "diff = np.zeros(T - 1)\n",
    "for t in range(1, T):\n",
    "    diff[t - 1] = np.sum(np.abs(theta[t] - theta[t - 1])**2)**0.5\n",
    "\n",
    "Q_grid_list = [25,50,75,100,125,150,175,200]\n",
    "Q = len(Q_grid_list)\n",
    "\n",
    "gamma_list = [10, 20, 40, 80]\n",
    "gamma_list2 = [80]\n",
    "lam_list = [None]\n",
    "\n",
    "B = 100\n",
    "\n",
    "run_time_d = np.zeros((Q,B))\n",
    "loc_error_d = np.zeros((Q,B))\n",
    "\n",
    "run_time_d2 = np.zeros((Q,B))\n",
    "loc_error_d2 = np.zeros((Q,B))\n",
    "\n",
    "run_time_dc = np.zeros((Q,B))\n",
    "loc_error_dc = np.zeros((Q,B))\n",
    "\n",
    "run_time_dc2 = np.zeros((Q,B))\n",
    "loc_error_dc2 = np.zeros((Q,B))\n",
    "\n",
    "for q, grid_n in enumerate(Q_grid_list):\n",
    "    for b in range(B):\n",
    "        nt, Y_train = generate_data_univ_mean(n, T, theta)\n",
    "        nt, Y_test = generate_data_univ_mean(n, T, theta)\n",
    "        \n",
    "        start_time = time.time()\n",
    "        cp_best, param_best = dp_cv_random_mean((Y_train), (Y_test), grid_n, lam_list, gamma_list, \n",
    "                                              loss_univ_mean, estim_univ_mean, goodness_of_fit_univ_mean)\n",
    "        loc_error_d[q, b] = cp_distance(cp_best, cp_truth)\n",
    "        run_time_d[q, b] = time.time() - start_time\n",
    "        \n",
    "        # check local refinement\n",
    "        start_time = time.time()\n",
    "        cp_best, param_best, cp_best_cand = dcdp_random((Y_train), (Y_test), grid_n, lam_list, gamma_list, \n",
    "                                              loss_univ_mean, estim_univ_mean, goodness_of_fit_univ_mean)\n",
    "        loc_error_dc[q, b] = cp_distance(cp_best, cp_truth)\n",
    "        run_time_dc[q, b] = time.time() - start_time\n",
    "        \n",
    "        #### only use large value of gamma\n",
    "        start_time = time.time()\n",
    "        cp_best, param_best = dp_cv_random_mean((Y_train), (Y_test), grid_n, lam_list, gamma_list2, \n",
    "                                              loss_univ_mean, estim_univ_mean, goodness_of_fit_univ_mean)\n",
    "        loc_error_d2[q, b] = cp_distance(cp_best, cp_truth)\n",
    "        run_time_d2[q, b] = time.time() - start_time\n",
    "        \n",
    "        # local refinement, large value of gamma\n",
    "        start_time = time.time()\n",
    "        cp_best, param_best, cp_best_cand = dcdp_random((Y_train), (Y_test), grid_n, lam_list, gamma_list2, \n",
    "                                              loss_univ_mean, estim_univ_mean, goodness_of_fit_univ_mean)\n",
    "        loc_error_dc2[q, b] = cp_distance(cp_best, cp_truth)\n",
    "        run_time_dc2[q, b] = time.time() - start_time"
   ]
  },
  {
   "cell_type": "code",
   "execution_count": null,
   "metadata": {},
   "outputs": [],
   "source": [
    "import pickle\n",
    "with open('Q_time_error_5.pickle', 'wb') as f:\n",
    "    pickle.dump([theta, Y_train, Y_test, Delta, Q_grid_list, gamma_list, run_time_d, run_time_dc, loc_error_d, loc_error_dc], f)"
   ]
  },
  {
   "cell_type": "code",
   "execution_count": null,
   "metadata": {},
   "outputs": [],
   "source": [
    "# objects = []\n",
    "# with (open(\"Q_time_error_1.pickle\", \"rb\")) as openfile:\n",
    "#     while True:\n",
    "#         try:\n",
    "#             objects.append(pickle.load(openfile))\n",
    "#         except EOFError:\n",
    "#             break"
   ]
  },
  {
   "cell_type": "code",
   "execution_count": null,
   "metadata": {},
   "outputs": [],
   "source": [
    "def curve_with_bar(x, y_list, percent, legend, xlabel, ylabel, save = False, name = None):\n",
    "    plt.figure(figsize = (10,7))\n",
    "    for y in y_list:\n",
    "        plt.fill_between(x, np.quantile(y, percent, axis = 1), np.quantile(y, 1 - percent, axis = 1), alpha = 0.2)\n",
    "        plt.plot(x, y.mean(axis = 1))\n",
    "    \n",
    "    fsize = 20\n",
    "    plt.legend(legend)\n",
    "    plt.xlabel(xlabel, fontsize = fsize)\n",
    "    plt.ylabel(ylabel, fontsize = fsize)\n",
    "    if save:\n",
    "        plt.savefig(name)"
   ]
  },
  {
   "cell_type": "code",
   "execution_count": null,
   "metadata": {},
   "outputs": [],
   "source": [
    "curve_with_bar(Q_grid_list, [loc_error_d, loc_error_dc], 0.1, ['divide','divide and conquer'], 'grid num', 'loc error')"
   ]
  },
  {
   "cell_type": "code",
   "execution_count": null,
   "metadata": {},
   "outputs": [],
   "source": [
    "plt.hist(loc_error_d[1,:], alpha = 0.5)\n",
    "plt.hist(loc_error_dc[1,:], alpha = 0.5)\n",
    "plt.legend(['divide','divide and conquer'])"
   ]
  },
  {
   "cell_type": "code",
   "execution_count": null,
   "metadata": {
    "scrolled": true
   },
   "outputs": [],
   "source": [
    "plt.hist(loc_error_d[-1,:], alpha = 0.5)\n",
    "plt.hist(loc_error_dc[-1,:], alpha = 0.5)\n",
    "plt.legend(['divide','divide and conquer'])"
   ]
  },
  {
   "cell_type": "code",
   "execution_count": null,
   "metadata": {},
   "outputs": [],
   "source": [
    "curve_with_bar(Q_grid_list, [run_time_d, run_time_dc], 0.1, ['divide','divide and conquer'], 'grid num', 'run time')"
   ]
  },
  {
   "cell_type": "code",
   "execution_count": null,
   "metadata": {
    "scrolled": false
   },
   "outputs": [],
   "source": [
    "curve_with_bar(Q_grid_list, [run_time_d], 0.1, [], 'grid size', 'run time')\n",
    "plt.savefig('run_time_Delta500_B100.pdf',bbox_inches='tight')"
   ]
  },
  {
   "cell_type": "code",
   "execution_count": null,
   "metadata": {},
   "outputs": [],
   "source": [
    "import winsound\n",
    "duration = 10000  # milliseconds\n",
    "freq_base = 440  # Hz\n",
    "index_base = 49\n",
    "winsound.Beep(freq_base, duration)"
   ]
  },
  {
   "cell_type": "code",
   "execution_count": null,
   "metadata": {},
   "outputs": [],
   "source": []
  },
  {
   "cell_type": "code",
   "execution_count": null,
   "metadata": {},
   "outputs": [],
   "source": []
  },
  {
   "cell_type": "code",
   "execution_count": null,
   "metadata": {},
   "outputs": [],
   "source": [
    "T = 4\n",
    "Delta = 500\n",
    "n = np.array([Delta] * T)\n",
    "cp_truth = np.cumsum(n)[:T-1]\n",
    "\n",
    "theta = np.array([0, 5, 0, 5])\n",
    "\n",
    "diff = np.zeros(T - 1)\n",
    "for t in range(1, T):\n",
    "    diff[t - 1] = np.sum(np.abs(theta[t] - theta[t - 1])**2)**0.5\n",
    "\n",
    "grid_n = 100\n",
    "\n",
    "\n",
    "gamma_list_ = [5, 10, 20, 40, 80, 100, 150, 200, 300]\n",
    "lam_list = [None]\n",
    "\n",
    "Q = len(gamma_list_)\n",
    "B = 40\n",
    "\n",
    "run_time_d = np.zeros((Q,B))\n",
    "run_time_dc = np.zeros((Q,B))\n",
    "\n",
    "loc_error_d = np.zeros((Q,B))\n",
    "loc_error_dc = np.zeros((Q,B))\n",
    "\n",
    "for q, gamma in enumerate(gamma_list_):\n",
    "    gamma_list = [gamma]\n",
    "    for b in range(B):\n",
    "        nt, Y_train = generate_data_univ_mean(n, T, theta)\n",
    "        nt, Y_test = generate_data_univ_mean(n, T, theta)\n",
    "        \n",
    "        start_time = time.time()\n",
    "        cp_best, param_best = dp_cv_random_mean((Y_train), (Y_test), grid_n, lam_list, gamma_list, \n",
    "                                              loss_univ_mean, estim_univ_mean, goodness_of_fit_univ_mean)\n",
    "        loc_error_d[q, b] = cp_distance(cp_best, cp_truth)\n",
    "        run_time_d[q, b] = time.time() - start_time\n",
    "\n",
    "        start_time = time.time()\n",
    "        cp_best, param_best, cp_best_cand = dcdp_random((Y_train), (Y_test), grid_n, lam_list, gamma_list, \n",
    "                                              loss_univ_mean, estim_univ_mean, goodness_of_fit_univ_mean)\n",
    "        loc_error_dc[q, b] = cp_distance(cp_best, cp_truth)\n",
    "        run_time_dc[q, b] = time.time() - start_time"
   ]
  },
  {
   "cell_type": "code",
   "execution_count": null,
   "metadata": {},
   "outputs": [],
   "source": [
    "import pickle\n",
    "with open('gamma_time_error_3.pickle', 'wb') as f:\n",
    "    pickle.dump([theta, Y_train, Y_test, Delta, Q_grid_list, gamma_list, run_time_d, run_time_dc, loc_error_d, loc_error_dc], f)"
   ]
  },
  {
   "cell_type": "code",
   "execution_count": null,
   "metadata": {},
   "outputs": [],
   "source": [
    "# objects = []\n",
    "# with (open(\"Q_time_error_1.pickle\", \"rb\")) as openfile:\n",
    "#     while True:\n",
    "#         try:\n",
    "#             objects.append(pickle.load(openfile))\n",
    "#         except EOFError:\n",
    "#             break"
   ]
  },
  {
   "cell_type": "code",
   "execution_count": null,
   "metadata": {},
   "outputs": [],
   "source": [
    "curve_with_bar(gamma_list_, [loc_error_d, loc_error_dc], 0.1, ['divide','divide and conquer'], 'gamma', 'loc error')"
   ]
  },
  {
   "cell_type": "code",
   "execution_count": null,
   "metadata": {},
   "outputs": [],
   "source": [
    "plt.hist(loc_error_d[1,:], alpha = 0.5)\n",
    "plt.hist(loc_error_dc[1,:], alpha = 0.5)\n",
    "plt.legend(['divide','divide and conquer'])"
   ]
  },
  {
   "cell_type": "code",
   "execution_count": null,
   "metadata": {
    "scrolled": true
   },
   "outputs": [],
   "source": [
    "plt.hist(loc_error_d[-1,:], alpha = 0.5)\n",
    "plt.hist(loc_error_dc[-1,:], alpha = 0.5)\n",
    "plt.legend(['divide','divide and conquer'])"
   ]
  },
  {
   "cell_type": "code",
   "execution_count": null,
   "metadata": {},
   "outputs": [],
   "source": [
    "curve_with_bar(gamma_list_, [run_time_d, run_time_dc], 0.1, ['divide','divide and conquer'], 'gamma', 'run time')"
   ]
  },
  {
   "cell_type": "code",
   "execution_count": null,
   "metadata": {},
   "outputs": [],
   "source": [
    "import winsound\n",
    "duration = 10000  # milliseconds\n",
    "freq_base = 440  # Hz\n",
    "index_base = 49\n",
    "winsound.Beep(freq_base, duration)"
   ]
  },
  {
   "cell_type": "code",
   "execution_count": null,
   "metadata": {},
   "outputs": [],
   "source": []
  },
  {
   "cell_type": "code",
   "execution_count": null,
   "metadata": {},
   "outputs": [],
   "source": []
  },
  {
   "cell_type": "code",
   "execution_count": null,
   "metadata": {},
   "outputs": [],
   "source": [
    "T = 4\n",
    "Delta = 500\n",
    "n = np.array([Delta] * T)\n",
    "cp_truth = np.cumsum(n)[:T-1]\n",
    "\n",
    "Y_train = pd.read_csv('y_train.csv', header = None).values.squeeze()\n",
    "Y_test = pd.read_csv('y_test.csv', header = None).values.squeeze()\n",
    "\n",
    "nt = len(Y_train)\n",
    "\n",
    "gamma_list = [10, 20, 40, 100]\n",
    "# gamma_list = 20 * nt * np.arange(0.0001,0.01,0.0005)\n",
    "lam_list = [None]\n",
    "\n",
    "\n",
    "grid_n = 50\n",
    "print('---------- only divide -----------')\n",
    "\n",
    "start_time = time.time()\n",
    "\n",
    "cp_best, param_best = dp_cv_random_mean((Y_train), (Y_test), grid_n, lam_list, gamma_list, \n",
    "                                      loss_univ_mean, estim_univ_mean, goodness_of_fit_univ_mean)\n",
    "run_time = time.time() - start_time\n",
    "loc_error = cp_distance(cp_best, cp_truth)\n",
    "\n",
    "print(cp_best)\n",
    "print(param_best)\n",
    "print(\"loc error: {0}, time: {1}\".format(loc_error, run_time))\n",
    "\n",
    "\n",
    "print('---------- divide and conquer -----------')\n",
    "start_time = time.time()\n",
    "\n",
    "cp_best, param_best, cp_best_cand = dcdp_random((Y_train), (Y_test), grid_n, lam_list, gamma_list, \n",
    "                                      loss_univ_mean, estim_univ_mean, goodness_of_fit_univ_mean)\n",
    "run_time = time.time() - start_time\n",
    "loc_error = cp_distance(cp_best, cp_truth)\n",
    "\n",
    "print(cp_best)\n",
    "print(param_best)\n",
    "print(\"loc error: {0}, time: {1}\".format(loc_error, run_time))"
   ]
  },
  {
   "cell_type": "code",
   "execution_count": null,
   "metadata": {},
   "outputs": [],
   "source": []
  },
  {
   "cell_type": "code",
   "execution_count": null,
   "metadata": {},
   "outputs": [],
   "source": []
  },
  {
   "cell_type": "code",
   "execution_count": null,
   "metadata": {},
   "outputs": [],
   "source": []
  },
  {
   "cell_type": "code",
   "execution_count": null,
   "metadata": {},
   "outputs": [],
   "source": []
  },
  {
   "cell_type": "code",
   "execution_count": null,
   "metadata": {},
   "outputs": [],
   "source": []
  },
  {
   "cell_type": "code",
   "execution_count": null,
   "metadata": {},
   "outputs": [],
   "source": []
  },
  {
   "cell_type": "code",
   "execution_count": null,
   "metadata": {},
   "outputs": [],
   "source": []
  },
  {
   "cell_type": "code",
   "execution_count": null,
   "metadata": {},
   "outputs": [],
   "source": []
  },
  {
   "cell_type": "code",
   "execution_count": null,
   "metadata": {},
   "outputs": [],
   "source": [
    "# Y_train = np.array([0,0,0,1,1,1,2,2,2])\n",
    "# Y_test = np.array([0,0,0,1,1,1,2,2,2])\n",
    "Y_train = np.repeat(np.array([0,5,10,5]),500)\n",
    "Y_test = np.repeat(np.array([0,5,10,5]),500)\n",
    "cp_loc = np.array([3,6])\n",
    "g = goodness_of_fit_univ_mean(Y_train, Y_test, cp_loc, None, 10, estim_univ_mean, loss_univ_mean)\n",
    "print(g)\n",
    "\n",
    "lam_list = [None]\n",
    "# gamma_list = [0.3,0.5,1,2,4]\n",
    "# gamma_list = [1,2,3,4,5]\n",
    "gamma_list = [4,50,100]\n",
    "# gamma_list = [1,2,3,4,5]\n",
    "\n",
    "nt = len(Y_train)\n",
    "# grid = np.sort(np.random.choice(nt, 5 * 50, replace = False))\n",
    "# print(grid)\n",
    "# grid = np.sort(np.arange(0,nt,30))\n",
    "grid_n = 50\n",
    "cp_best, param_best = dp_cv_random_mean((Y_train), (Y_test), grid_n, lam_list, gamma_list, \n",
    "                                      loss_univ_mean, estim_univ_mean, goodness_of_fit_univ_mean)\n",
    "\n",
    "print(cp_best)\n",
    "print(param_best)"
   ]
  },
  {
   "cell_type": "code",
   "execution_count": null,
   "metadata": {
    "scrolled": true
   },
   "outputs": [],
   "source": [
    "4.39 * 2 + 7.69 + 8.39"
   ]
  },
  {
   "cell_type": "code",
   "execution_count": null,
   "metadata": {},
   "outputs": [],
   "source": [
    "np.mean(np.ones(10))"
   ]
  },
  {
   "cell_type": "code",
   "execution_count": null,
   "metadata": {},
   "outputs": [],
   "source": []
  },
  {
   "cell_type": "code",
   "execution_count": null,
   "metadata": {},
   "outputs": [],
   "source": []
  },
  {
   "cell_type": "code",
   "execution_count": null,
   "metadata": {},
   "outputs": [],
   "source": []
  },
  {
   "cell_type": "code",
   "execution_count": null,
   "metadata": {},
   "outputs": [],
   "source": []
  },
  {
   "cell_type": "code",
   "execution_count": null,
   "metadata": {},
   "outputs": [],
   "source": []
  },
  {
   "cell_type": "code",
   "execution_count": null,
   "metadata": {},
   "outputs": [],
   "source": []
  },
  {
   "cell_type": "code",
   "execution_count": null,
   "metadata": {},
   "outputs": [],
   "source": [
    "T = 3\n",
    "n = 50\n",
    "m = np.array([5000, 5000, 5000])\n",
    "cp_truth = np.cumsum(m)[:T-1]\n",
    "\n",
    "beta = np.zeros((T, n))\n",
    "\n",
    "t = 0.9\n",
    "kappa = np.log(t / (1 - t))\n",
    "delta = 1\n",
    "beta_t = get_beta_with_gap(n, delta)\n",
    "beta_t *= kappa / (np.max(beta_t) - np.min(beta_t))\n",
    "beta[0] = beta_t[:]\n",
    "beta[1] = beta_t[np.random.permutation(n)]\n",
    "beta[2] = beta[1][np.random.permutation(n)]\n",
    "\n",
    "diff = np.zeros(T - 1)\n",
    "for t in range(1, T):\n",
    "    diff[t - 1] = np.sum(np.abs(beta[t] - beta[t - 1])**2)**0.5\n",
    "print(diff)\n",
    "\n",
    "np.random.seed(0)\n",
    "\n",
    "nt, X_train, Y_train = generate_data_bt(n, m, T, beta)\n",
    "nt, X_test, Y_test = generate_data_bt(n, m, T, beta)"
   ]
  },
  {
   "cell_type": "code",
   "execution_count": null,
   "metadata": {},
   "outputs": [],
   "source": [
    "grid = np.arange(0, nt, step = 200)[1:]\n",
    "gamma_list = [10 * np.log(nt * n), 20 * np.log(nt * n), 40 * np.log(nt * n)]\n",
    "lam_list = [0.1, 0.5, 1]\n",
    "\n",
    "cp_best, param_best = dp_cv_grid_covariate((X_train, Y_train), (X_test, Y_test), grid, lam_list, gamma_list, bt_loss, bt_newton_solver)"
   ]
  },
  {
   "cell_type": "code",
   "execution_count": null,
   "metadata": {
    "scrolled": true
   },
   "outputs": [],
   "source": [
    "cp_best"
   ]
  },
  {
   "cell_type": "code",
   "execution_count": null,
   "metadata": {
    "scrolled": true
   },
   "outputs": [],
   "source": [
    "gamma_list"
   ]
  },
  {
   "cell_type": "code",
   "execution_count": null,
   "metadata": {},
   "outputs": [],
   "source": [
    "param_best"
   ]
  },
  {
   "cell_type": "code",
   "execution_count": null,
   "metadata": {},
   "outputs": [],
   "source": []
  },
  {
   "cell_type": "code",
   "execution_count": null,
   "metadata": {},
   "outputs": [],
   "source": []
  },
  {
   "cell_type": "code",
   "execution_count": null,
   "metadata": {},
   "outputs": [],
   "source": []
  },
  {
   "cell_type": "code",
   "execution_count": null,
   "metadata": {},
   "outputs": [],
   "source": []
  },
  {
   "cell_type": "markdown",
   "metadata": {},
   "source": [
    "# DCDP with fixed grid"
   ]
  },
  {
   "cell_type": "code",
   "execution_count": null,
   "metadata": {},
   "outputs": [],
   "source": [
    "T = 4\n",
    "Delta = 500\n",
    "n = np.array([Delta] * T)\n",
    "cp_truth = np.cumsum(n)[:T-1]\n",
    "\n",
    "np.random.seed(0)\n",
    "\n",
    "sig = 5\n",
    "theta = sig * np.random.normal(0, 1, T)\n",
    "\n",
    "diff = np.zeros(T - 1)\n",
    "for t in range(1, T):\n",
    "    diff[t - 1] = np.sum(np.abs(theta[t] - theta[t - 1])**2)**0.5\n",
    "print(diff)\n",
    "\n",
    "nt, Y_train = generate_data_univ_mean(n, T, theta)\n",
    "nt, Y_test = generate_data_univ_mean(n, T, theta)\n",
    "\n",
    "# grid = np.arange(0, nt, step = Delta // 10)[1:]\n",
    "grid = np.sort(np.random.choice(nt, 50 * nt // Delta, replace = False))\n",
    "gamma_list = [10, 20]\n",
    "lam_list = [None]\n",
    "\n",
    "start_time = time.time()\n",
    "\n",
    "cp_best, param_best = dp_cv_grid_mean((Y_train), (Y_test), grid, lam_list, gamma_list, \n",
    "                                      loss_univ_mean, estim_univ_mean, goodness_of_fit_univ_mean)\n",
    "run_time = time.time() - start_time\n",
    "loc_error = cp_distance(cp_best, cp_truth)\n",
    "\n",
    "\n",
    "print(\"loc error: {0}, time: {1}\".format(loc_error, run_time))"
   ]
  },
  {
   "cell_type": "code",
   "execution_count": null,
   "metadata": {},
   "outputs": [],
   "source": []
  },
  {
   "cell_type": "code",
   "execution_count": null,
   "metadata": {},
   "outputs": [],
   "source": [
    "T = 4\n",
    "Delta = 500\n",
    "n = np.array([Delta] * T)\n",
    "cp_truth = np.cumsum(n)[:T-1]\n",
    "\n",
    "np.random.seed(0)\n",
    "\n",
    "sig = 5\n",
    "theta = sig * np.random.normal(0, 1, T)\n",
    "\n",
    "diff = np.zeros(T - 1)\n",
    "for t in range(1, T):\n",
    "    diff[t - 1] = np.sum(np.abs(theta[t] - theta[t - 1])**2)**0.5\n",
    "print(diff)\n",
    "\n",
    "nt, Y_train = generate_data_univ_mean(n, T, theta)\n",
    "nt, Y_test = generate_data_univ_mean(n, T, theta)\n",
    "\n",
    "# grid = np.arange(0, nt, step = Delta // 10)[1:]\n",
    "Q_grid = np.array([5, 10, 20, 30, 40, 50])\n",
    "\n",
    "run_time_list = np.zeros_like(Q_grid)\n",
    "loc_error_list = np.zeros_like(Q_grid)\n",
    "\n",
    "for i, q in enumerate(Q_grid):\n",
    "    grid = np.sort(np.random.choice(nt, q * nt // Delta, replace = False))\n",
    "    gamma_list = [10, 20]\n",
    "    lam_list = [None]\n",
    "\n",
    "    start_time = time.time()\n",
    "\n",
    "    cp_best, param_best = dp_cv_grid_mean((Y_train), (Y_test), grid, lam_list, gamma_list, \n",
    "                                          loss_univ_mean, estim_univ_mean, goodness_of_fit_univ_mean)\n",
    "    run_time = time.time() - start_time\n",
    "    loc_error = cp_distance(cp_best, cp_truth)\n",
    "    \n",
    "    run_time_list[i] = run_time\n",
    "    loc_error_list[i] = loc_error"
   ]
  },
  {
   "cell_type": "code",
   "execution_count": null,
   "metadata": {},
   "outputs": [],
   "source": [
    "fig, ax = plt.subplots(1,2,figsize = (10, 4))\n",
    "ax[0].plot(Q_grid, run_time_list)\n",
    "ax[1].plot(Q_grid, loc_error_list)"
   ]
  },
  {
   "cell_type": "code",
   "execution_count": null,
   "metadata": {},
   "outputs": [],
   "source": [
    "ax"
   ]
  },
  {
   "cell_type": "code",
   "execution_count": null,
   "metadata": {},
   "outputs": [],
   "source": [
    "np.concatenate([[0],np.arange(3)])"
   ]
  },
  {
   "cell_type": "code",
   "execution_count": null,
   "metadata": {},
   "outputs": [],
   "source": [
    "theta"
   ]
  },
  {
   "cell_type": "code",
   "execution_count": null,
   "metadata": {},
   "outputs": [],
   "source": [
    "T = 4\n",
    "Delta = 500\n",
    "n = np.array([Delta] * T)\n",
    "cp_truth = np.cumsum(n)[:T-1]\n",
    "\n",
    "np.random.seed(1000)\n",
    "\n",
    "# sig = 5\n",
    "# theta = sig * np.random.normal(0, 1, T)\n",
    "theta = np.array([0, -2, 10, 1])\n",
    "\n",
    "diff = np.zeros(T - 1)\n",
    "for t in range(1, T):\n",
    "    diff[t - 1] = np.sum(np.abs(theta[t] - theta[t - 1])**2)**0.5\n",
    "print(diff)\n",
    "\n",
    "nt, Y_train = generate_data_univ_mean(n, T, theta)\n",
    "nt, Y_test = generate_data_univ_mean(n, T, theta)\n",
    "\n",
    "# grid = np.arange(0, nt, step = Delta // 10)[1:]\n",
    "# grid = np.sort(np.concatenate([np.random.choice(nt, 15 * nt // Delta, replace = False), [512, 1001, 1494]]))\n",
    "grid = np.sort(np.random.choice(nt, 15 * nt // Delta, replace = False))\n",
    "gamma_list = [1, 50, 200, 400]\n",
    "lam_list = [None]\n",
    "\n",
    "print('---------- only divide -----------')\n",
    "\n",
    "start_time = time.time()\n",
    "\n",
    "cp_best, param_best = dp_cv_grid_mean((Y_train), (Y_test), grid, lam_list, gamma_list, \n",
    "                                      loss_univ_mean, estim_univ_mean, goodness_of_fit_univ_mean)\n",
    "run_time = time.time() - start_time\n",
    "loc_error = cp_distance(cp_best, cp_truth)\n",
    "\n",
    "print(cp_best)\n",
    "print(param_best)\n",
    "print(\"loc error: {0}, time: {1}\".format(loc_error, run_time))\n",
    "\n",
    "print('---------- divide and conquer -----------')\n",
    "start_time = time.time()\n",
    "\n",
    "cp_best, param_best, cp_best_cand = dcdp((Y_train), (Y_test), grid, lam_list, gamma_list, \n",
    "                                      loss_univ_mean, estim_univ_mean, goodness_of_fit_univ_mean)\n",
    "run_time = time.time() - start_time\n",
    "loc_error = cp_distance(cp_best, cp_truth)\n",
    "\n",
    "print(cp_best)\n",
    "print(param_best)\n",
    "print(\"loc error: {0}, time: {1}\".format(loc_error, run_time))"
   ]
  },
  {
   "cell_type": "code",
   "execution_count": null,
   "metadata": {},
   "outputs": [],
   "source": [
    "grid"
   ]
  },
  {
   "cell_type": "code",
   "execution_count": null,
   "metadata": {
    "scrolled": true
   },
   "outputs": [],
   "source": [
    "cp_best_cand"
   ]
  },
  {
   "cell_type": "markdown",
   "metadata": {},
   "source": [
    "## larger T"
   ]
  },
  {
   "cell_type": "code",
   "execution_count": null,
   "metadata": {},
   "outputs": [],
   "source": [
    "T = 3\n",
    "n = 50\n",
    "m = np.array([10000, 10000, 10000])\n",
    "cp_truth = np.cumsum(m)[:T-1]\n",
    "\n",
    "beta = np.zeros((T, n))\n",
    "\n",
    "t = 0.9\n",
    "kappa = np.log(t / (1 - t))\n",
    "delta = 1\n",
    "beta_t = get_beta_with_gap(n, delta)\n",
    "beta_t *= kappa / (np.max(beta_t) - np.min(beta_t))\n",
    "beta[0] = beta_t[:]\n",
    "beta[1] = beta_t[np.random.permutation(n)]\n",
    "beta[2] = beta[1][np.random.permutation(n)]\n",
    "\n",
    "diff = np.zeros(T - 1)\n",
    "for t in range(1, T):\n",
    "    diff[t - 1] = np.sum(np.abs(beta[t] - beta[t - 1])**2)**0.5\n",
    "print(diff)\n",
    "\n",
    "np.random.seed(0)\n",
    "\n",
    "nt, X_train, Y_train = generate_data_bt(n, m, T, beta)\n",
    "nt, X_test, Y_test = generate_data_bt(n, m, T, beta)"
   ]
  },
  {
   "cell_type": "code",
   "execution_count": null,
   "metadata": {},
   "outputs": [],
   "source": [
    "grid = np.arange(0, nt, step = 2000)[1:]\n",
    "gamma_list = [20 * np.log(nt * n), 40 * np.log(nt * n), 60 * np.log(nt * n)]\n",
    "lam_list = [0.1, 0.5, 1]\n",
    "\n",
    "cp_best, param_best = dp_cv_grid_covariate((X_train, Y_train), (X_test, Y_test), grid, lam_list, gamma_list, bt_loss, bt_newton_solver)"
   ]
  },
  {
   "cell_type": "code",
   "execution_count": null,
   "metadata": {
    "scrolled": true
   },
   "outputs": [],
   "source": [
    "cp_best"
   ]
  },
  {
   "cell_type": "code",
   "execution_count": null,
   "metadata": {},
   "outputs": [],
   "source": [
    "gamma_list"
   ]
  },
  {
   "cell_type": "code",
   "execution_count": null,
   "metadata": {},
   "outputs": [],
   "source": [
    "param_best"
   ]
  },
  {
   "cell_type": "code",
   "execution_count": null,
   "metadata": {},
   "outputs": [],
   "source": []
  },
  {
   "cell_type": "code",
   "execution_count": null,
   "metadata": {},
   "outputs": [],
   "source": []
  },
  {
   "cell_type": "code",
   "execution_count": null,
   "metadata": {},
   "outputs": [],
   "source": [
    "grid = np.arange(0, nt, step = 2000)[1:]\n",
    "gamma = 40 * np.log(nt * n)\n",
    "lamb = 0.1\n",
    "\n",
    "cp_loc, B, dp = dp_grid_covariate(X_train, Y_train, grid, lamb, gamma, bt_loss, bt_newton_solver)"
   ]
  },
  {
   "cell_type": "code",
   "execution_count": null,
   "metadata": {},
   "outputs": [],
   "source": [
    "grid"
   ]
  },
  {
   "cell_type": "code",
   "execution_count": null,
   "metadata": {
    "scrolled": true
   },
   "outputs": [],
   "source": [
    "cp_loc"
   ]
  },
  {
   "cell_type": "code",
   "execution_count": null,
   "metadata": {},
   "outputs": [],
   "source": [
    "len(grid)"
   ]
  },
  {
   "cell_type": "code",
   "execution_count": null,
   "metadata": {},
   "outputs": [],
   "source": [
    "len(dp), len(dp[0])"
   ]
  },
  {
   "cell_type": "code",
   "execution_count": null,
   "metadata": {},
   "outputs": [],
   "source": []
  },
  {
   "cell_type": "code",
   "execution_count": null,
   "metadata": {},
   "outputs": [],
   "source": []
  },
  {
   "cell_type": "code",
   "execution_count": null,
   "metadata": {},
   "outputs": [],
   "source": []
  },
  {
   "cell_type": "code",
   "execution_count": null,
   "metadata": {},
   "outputs": [],
   "source": []
  },
  {
   "cell_type": "code",
   "execution_count": null,
   "metadata": {},
   "outputs": [],
   "source": []
  },
  {
   "cell_type": "code",
   "execution_count": null,
   "metadata": {},
   "outputs": [],
   "source": []
  },
  {
   "cell_type": "code",
   "execution_count": null,
   "metadata": {},
   "outputs": [],
   "source": []
  },
  {
   "cell_type": "code",
   "execution_count": null,
   "metadata": {},
   "outputs": [],
   "source": []
  },
  {
   "cell_type": "code",
   "execution_count": null,
   "metadata": {},
   "outputs": [],
   "source": []
  },
  {
   "cell_type": "code",
   "execution_count": null,
   "metadata": {},
   "outputs": [],
   "source": []
  },
  {
   "cell_type": "code",
   "execution_count": null,
   "metadata": {},
   "outputs": [],
   "source": []
  },
  {
   "cell_type": "code",
   "execution_count": null,
   "metadata": {},
   "outputs": [],
   "source": []
  },
  {
   "cell_type": "code",
   "execution_count": null,
   "metadata": {},
   "outputs": [],
   "source": [
    "m = len(grid)\n",
    "loss_value = np.ones((m,m)) * np.infty\n",
    "for i in range(m):\n",
    "    for j in range(i + 1, m):\n",
    "#         v = dp[j + 1][m + 1] + dp[i + 1][j + 1] + dp[0][i + 1]\n",
    "        intervals = [[0, grid[i]], [grid[i], grid[j]],[grid[j], nt]]\n",
    "        v = 2 * gamma\n",
    "        for interval in intervals:\n",
    "            l, r = interval[0], interval[1]\n",
    "            Y_sub, X_sub = y_train_joint[l:r], X_train_joint[l:r]\n",
    "            estimate, _ = bt_newton_solver(X_sub, Y_sub, lam)\n",
    "            v += bt_loss(estimate, X_sub, Y_sub, lam)\n",
    "        loss_value[i][j] = v"
   ]
  },
  {
   "cell_type": "code",
   "execution_count": null,
   "metadata": {},
   "outputs": [],
   "source": [
    "plt.figure(figsize=(8,8))\n",
    "plt.imshow(loss_value)\n",
    "\n",
    "x_positions = np.arange(0,len(grid)) # pixel count at label position\n",
    "x_labels = grid # labels you want to see\n",
    "plt.xticks(x_positions, x_labels, rotation = 80)\n",
    "plt.xlabel('second split')\n",
    "y_positions = np.arange(0,len(grid)) # pixel count at label position\n",
    "y_labels = grid # labels you want to see\n",
    "plt.yticks(y_positions, y_labels)\n",
    "plt.ylim(len(grid) - 0.5, -0.5)\n",
    "plt.ylabel('first split')\n",
    "\n",
    "plt.colorbar()\n",
    "plt.savefig('dp_bt_2cp.pdf')"
   ]
  },
  {
   "cell_type": "code",
   "execution_count": null,
   "metadata": {},
   "outputs": [],
   "source": [
    "B[B < np.infty]"
   ]
  },
  {
   "cell_type": "code",
   "execution_count": null,
   "metadata": {},
   "outputs": [],
   "source": [
    "grid"
   ]
  },
  {
   "cell_type": "code",
   "execution_count": null,
   "metadata": {
    "scrolled": false
   },
   "outputs": [],
   "source": [
    "plt.plot(np.arange(nt)[B < np.infty], B[B < np.infty], '-')"
   ]
  },
  {
   "cell_type": "code",
   "execution_count": null,
   "metadata": {},
   "outputs": [],
   "source": []
  },
  {
   "cell_type": "code",
   "execution_count": null,
   "metadata": {},
   "outputs": [],
   "source": []
  },
  {
   "cell_type": "code",
   "execution_count": null,
   "metadata": {},
   "outputs": [],
   "source": []
  },
  {
   "cell_type": "code",
   "execution_count": null,
   "metadata": {},
   "outputs": [],
   "source": []
  },
  {
   "cell_type": "code",
   "execution_count": null,
   "metadata": {},
   "outputs": [],
   "source": []
  },
  {
   "cell_type": "code",
   "execution_count": null,
   "metadata": {},
   "outputs": [],
   "source": []
  },
  {
   "cell_type": "code",
   "execution_count": null,
   "metadata": {},
   "outputs": [],
   "source": []
  },
  {
   "cell_type": "code",
   "execution_count": null,
   "metadata": {},
   "outputs": [],
   "source": []
  },
  {
   "cell_type": "code",
   "execution_count": null,
   "metadata": {
    "scrolled": false
   },
   "outputs": [],
   "source": [
    "plt.figure(figsize = (10, 6))\n",
    "plt.plot(cusum_val, '-')\n",
    "plt.vlines(cp_truth, color = 'red', label = \"true cp\", ymin = min(cusum_val), ymax = max(cusum_val))\n",
    "plt.vlines(cp_loc, color = 'black', linestyles = \"dashed\", label = \"estimates\", ymin = min(cusum_val), ymax = max(cusum_val))\n",
    "plt.legend([\"cusum\", \"true cp\", \"estimates\"])"
   ]
  },
  {
   "cell_type": "code",
   "execution_count": null,
   "metadata": {},
   "outputs": [],
   "source": []
  },
  {
   "cell_type": "code",
   "execution_count": null,
   "metadata": {},
   "outputs": [],
   "source": []
  },
  {
   "cell_type": "code",
   "execution_count": null,
   "metadata": {},
   "outputs": [],
   "source": []
  },
  {
   "cell_type": "code",
   "execution_count": null,
   "metadata": {},
   "outputs": [],
   "source": []
  },
  {
   "cell_type": "code",
   "execution_count": null,
   "metadata": {},
   "outputs": [],
   "source": []
  },
  {
   "cell_type": "code",
   "execution_count": null,
   "metadata": {},
   "outputs": [],
   "source": []
  },
  {
   "cell_type": "code",
   "execution_count": null,
   "metadata": {},
   "outputs": [],
   "source": []
  },
  {
   "cell_type": "code",
   "execution_count": null,
   "metadata": {},
   "outputs": [],
   "source": [
    "beta_hat.shape"
   ]
  },
  {
   "cell_type": "code",
   "execution_count": null,
   "metadata": {},
   "outputs": [],
   "source": [
    "n = 50\n",
    "\n",
    "t = 0.9\n",
    "kappa = np.log(t / (1 - t))\n",
    "delta = 1\n",
    "beta = get_beta_with_gap(n, delta)\n",
    "beta *= kappa / (np.max(beta) - np.min(beta))\n",
    "\n",
    "m = 10000\n",
    "\n",
    "X_train = get_X(n, m)\n",
    "y_train = np.random.binomial(1, logistic(X_train, beta))\n",
    "\n",
    "beta_hat, l_path = bt_newton_solver(X_train, y_train)\n",
    "\n",
    "print(logistic_beta_error(beta, beta_hat))\n",
    "print(logistic_y_error(beta, beta_hat))\n",
    "print(logistic_prob_error(beta, beta_hat))"
   ]
  },
  {
   "cell_type": "code",
   "execution_count": null,
   "metadata": {
    "scrolled": true
   },
   "outputs": [],
   "source": [
    "plt.plot(beta, 'b-')\n",
    "plt.plot(beta_hat, 'r-.')\n",
    "plt.legend(['beta','beta_hat'])"
   ]
  },
  {
   "cell_type": "code",
   "execution_count": null,
   "metadata": {
    "scrolled": true
   },
   "outputs": [],
   "source": [
    "l_path"
   ]
  },
  {
   "cell_type": "code",
   "execution_count": null,
   "metadata": {},
   "outputs": [],
   "source": [
    "plt.plot(l_path)"
   ]
  },
  {
   "cell_type": "code",
   "execution_count": null,
   "metadata": {
    "scrolled": false
   },
   "outputs": [],
   "source": [
    "plt.hist(logistic(X_train, beta))"
   ]
  },
  {
   "cell_type": "markdown",
   "metadata": {},
   "source": [
    "## Check magnitude of gamma"
   ]
  },
  {
   "cell_type": "code",
   "execution_count": null,
   "metadata": {},
   "outputs": [],
   "source": [
    "def bt_loss(beta, X_train, y_train, lam):\n",
    "    return -loglike_logistic(X_train, beta, y_train) + lam / 2 * np.sum(beta**2)\n",
    "\n",
    "def bt_newton_solver(X_train, y_train, lam = 0.1, max_step = 50, tol = 1e-12, verbose = False):\n",
    "    n, p = X_train.shape\n",
    "    beta_hat = np.zeros((p,1))\n",
    "    step_size = 1\n",
    "    l_path = []\n",
    "    i = 0\n",
    "    \n",
    "    err = 10\n",
    "    a, b = 0.01, 0.3\n",
    "    max_back = 100\n",
    "\n",
    "    obj_old = np.inf\n",
    "    while i < max_step and err > tol:\n",
    "        g = -grad_logistic(X_train, beta_hat, y_train) + lam * beta_hat\n",
    "        H = -hessian_logistic(X_train, beta_hat, y_train) + lam * np.eye(p)\n",
    "        beta_new = beta_hat + 0\n",
    "        s = step_size\n",
    "\n",
    "        v = -np.linalg.solve(H, g)\n",
    "        for j in range(max_back):\n",
    "            beta_new = beta_new + s * v\n",
    "            obj_new = -loglike_logistic(X_train, beta_new, y_train) + lam / 2 * np.sum(beta_new**2)\n",
    "            if obj_new <= obj_old + b * s * g.T @ v:\n",
    "                break\n",
    "            s *= a\n",
    "#         err = np.sum((beta_new - beta_hat)**2)**0.5\n",
    "        beta_hat = beta_new\n",
    "        err = np.sum((-grad_logistic(X_train, beta_hat, y_train) + lam * beta_hat)**2)**0.5\n",
    "        obj_old = obj_new\n",
    "        l_path.append(obj_new)\n",
    "        i += 1\n",
    "        if verbose:\n",
    "            print(\"step: \",i,\" is done\")\n",
    "    if verbose:\n",
    "        print('i: ', i)\n",
    "        print(\"err: \", err)\n",
    "        print(\"beta_hat: \", beta_hat)\n",
    "    \n",
    "    return beta_hat, l_path"
   ]
  },
  {
   "cell_type": "code",
   "execution_count": null,
   "metadata": {
    "scrolled": true
   },
   "outputs": [],
   "source": [
    "T = 2\n",
    "n = 50\n",
    "m = 10000\n",
    "\n",
    "beta = np.zeros((T, n))\n",
    "\n",
    "t = 0.9\n",
    "kappa = np.log(t / (1 - t))\n",
    "delta = 1\n",
    "beta_t = get_beta_with_gap(n, delta)\n",
    "beta_t *= kappa / (np.max(beta_t) - np.min(beta_t))\n",
    "beta[0] = beta_t[:]\n",
    "beta[1] = beta_t[np.random.permutation(n)]\n",
    "\n",
    "diff = np.zeros(T - 1)\n",
    "for t in range(1, T):\n",
    "    diff[t - 1] = np.sum(np.abs(beta[t] - beta[t - 1])**2)**0.5\n",
    "print(diff)\n",
    "\n",
    "# X_train = np.random.normal(0,1,(n,p))\n",
    "X_train = np.stack([get_X(n, m) for _ in range(T)])\n",
    "y_train = np.stack([np.random.binomial(1, logistic(X_train[i], beta[i])) for i in range(T)])\n",
    "\n",
    "X_train_joint = X_train.reshape((-1, n))\n",
    "y_train_joint = y_train.reshape((-1, 1))"
   ]
  },
  {
   "cell_type": "code",
   "execution_count": null,
   "metadata": {},
   "outputs": [],
   "source": []
  },
  {
   "cell_type": "code",
   "execution_count": null,
   "metadata": {},
   "outputs": [],
   "source": [
    "nt = len(y_train_joint)\n",
    "cp_truth = m\n",
    "lam = 0.1\n",
    "\n",
    "def loss_loc(loc):\n",
    "    X_sub, y_sub = X_train_joint[:loc], y_train_joint[:loc]\n",
    "    beta_cp1, _ = bt_newton_solver(X_sub, y_sub, lam)\n",
    "    loss1 = bt_loss(beta_cp1, X_sub, y_sub, lam)\n",
    "\n",
    "    X_sub, y_sub = X_train_joint[loc:], y_train_joint[loc:]\n",
    "    beta_cp2, _ = bt_newton_solver(X_sub, y_sub, lam)\n",
    "    loss2 = bt_loss(beta_cp2, X_sub, y_sub, lam)\n",
    "    \n",
    "    return loss1 + loss2\n",
    "\n",
    "# loss_all[cp_truth] = loss_loc(cp_truth)\n",
    "step = 500\n",
    "loc_list = np.arange(step, nt, step)\n",
    "loss_all = np.zeros(len(loc_list))\n",
    "\n",
    "for i, loc in enumerate(loc_list):\n",
    "    loss_all[i] = loss_loc(loc)"
   ]
  },
  {
   "cell_type": "code",
   "execution_count": null,
   "metadata": {
    "scrolled": false
   },
   "outputs": [],
   "source": [
    "plt.plot(loc_list, loss_all, '.')"
   ]
  },
  {
   "cell_type": "code",
   "execution_count": null,
   "metadata": {},
   "outputs": [],
   "source": []
  },
  {
   "cell_type": "code",
   "execution_count": null,
   "metadata": {},
   "outputs": [],
   "source": []
  },
  {
   "cell_type": "code",
   "execution_count": null,
   "metadata": {},
   "outputs": [],
   "source": []
  },
  {
   "cell_type": "code",
   "execution_count": null,
   "metadata": {},
   "outputs": [],
   "source": []
  },
  {
   "cell_type": "markdown",
   "metadata": {},
   "source": [
    "Two change points"
   ]
  },
  {
   "cell_type": "code",
   "execution_count": null,
   "metadata": {
    "scrolled": true
   },
   "outputs": [],
   "source": [
    "T = 3\n",
    "n = 50\n",
    "m = 10000\n",
    "\n",
    "beta = np.zeros((T, n))\n",
    "\n",
    "t = 0.9\n",
    "kappa = np.log(t / (1 - t))\n",
    "delta = 1\n",
    "beta_t = get_beta_with_gap(n, delta)\n",
    "beta_t *= kappa / (np.max(beta_t) - np.min(beta_t))\n",
    "beta[0] = beta_t[:]\n",
    "beta[1] = beta_t[np.random.permutation(n)]\n",
    "beta[2] = beta[1][np.random.permutation(n)]\n",
    "\n",
    "diff = np.zeros(T - 1)\n",
    "for t in range(1, T):\n",
    "    diff[t - 1] = np.sum(np.abs(beta[t] - beta[t - 1])**2)**0.5\n",
    "print(diff)\n",
    "\n",
    "# X_train = np.random.normal(0,1,(n,p))\n",
    "X_train = np.stack([get_X(n, m) for _ in range(T)])\n",
    "y_train = np.stack([np.random.binomial(1, logistic(X_train[i], beta[i])) for i in range(T)])\n",
    "\n",
    "X_train_joint = X_train.reshape((-1, n))\n",
    "y_train_joint = y_train.reshape((-1, 1))"
   ]
  },
  {
   "cell_type": "code",
   "execution_count": null,
   "metadata": {},
   "outputs": [],
   "source": [
    "nt = len(y_train_joint)\n",
    "borda_left, borda_right = np.zeros((nt, n)), np.zeros((nt, n))\n",
    "\n",
    "borda_left[0] = X_train_joint[0][:]\n",
    "borda_right[-1] = X_train_joint[-1][:]\n",
    "\n",
    "rank_left, rank_right = np.zeros((nt, n)), np.zeros((nt, n))\n",
    "\n",
    "rank_left[0] = stats.rankdata(borda_left[0], method = 'min')\n",
    "rank_right[-1] = stats.rankdata(borda_right[-1], method = 'min')\n",
    "\n",
    "\n",
    "buffer = 1000\n",
    "\n",
    "diff = np.zeros(nt - 1)\n",
    "\n",
    "for i in range(1, nt):\n",
    "    borda_left[i] = borda_left[i - 1] + X_train_joint[i] * (2 * y_train_joint[i] - 1)\n",
    "    borda_right[nt - 1 - i] = borda_right[nt - 1 - (i - 1)] + X_train_joint[nt - 1 - i] * (2 * y_train_joint[nt - 1 - i] - 1)\n",
    "    \n",
    "    rank_left[i] = stats.rankdata(borda_left[i], method = 'min')\n",
    "    rank_right[nt - 1 - i] = stats.rankdata(borda_right[nt - 1 - i], method = 'min')\n",
    "\n",
    "for i in range(nt - 1):\n",
    "    diff[i] = np.sum(np.abs(rank_left[i] - rank_right[i + 1])) / n"
   ]
  },
  {
   "cell_type": "code",
   "execution_count": null,
   "metadata": {},
   "outputs": [],
   "source": [
    "diff[:30]"
   ]
  },
  {
   "cell_type": "code",
   "execution_count": null,
   "metadata": {
    "scrolled": true
   },
   "outputs": [],
   "source": [
    "len(diff[buffer:nt - buffer])"
   ]
  },
  {
   "cell_type": "code",
   "execution_count": null,
   "metadata": {},
   "outputs": [],
   "source": [
    "np.arange(1,5)"
   ]
  },
  {
   "cell_type": "code",
   "execution_count": null,
   "metadata": {
    "scrolled": false
   },
   "outputs": [],
   "source": [
    "buffer = 0\n",
    "plt.plot(np.arange(buffer, nt - 1 - buffer), diff[buffer:nt - 1 - buffer], '.')"
   ]
  },
  {
   "cell_type": "markdown",
   "metadata": {},
   "source": [
    "More change points"
   ]
  },
  {
   "cell_type": "code",
   "execution_count": null,
   "metadata": {
    "scrolled": true
   },
   "outputs": [],
   "source": [
    "T = 4\n",
    "n = 50\n",
    "m = 10000\n",
    "\n",
    "beta = np.zeros((T, n))\n",
    "\n",
    "t = 0.9\n",
    "kappa = np.log(t / (1 - t))\n",
    "delta = 1\n",
    "beta_t = get_beta_with_gap(n, delta)\n",
    "beta_t *= kappa / (np.max(beta_t) - np.min(beta_t))\n",
    "beta[0] = beta_t[:]\n",
    "beta[1] = beta_t[np.random.permutation(n)]\n",
    "beta[2] = beta[1][np.random.permutation(n)]\n",
    "\n",
    "diff = np.zeros(T - 1)\n",
    "for t in range(1, T):\n",
    "    diff[t - 1] = np.sum(np.abs(beta[t] - beta[t - 1])**2)**0.5\n",
    "print(diff)\n",
    "\n",
    "# X_train = np.random.normal(0,1,(n,p))\n",
    "X_train = np.stack([get_X(n, m) for _ in range(T)])\n",
    "y_train = np.stack([np.random.binomial(1, logistic(X_train[i], beta[i])) for i in range(T)])\n",
    "\n",
    "X_train_joint = X_train.reshape((-1, n))\n",
    "y_train_joint = y_train.reshape((-1, 1))"
   ]
  },
  {
   "cell_type": "code",
   "execution_count": null,
   "metadata": {},
   "outputs": [],
   "source": [
    "nt = len(y_train_joint)\n",
    "borda_left, borda_right = np.zeros((nt, n)), np.zeros((nt, n))\n",
    "\n",
    "borda_left[0] = X_train_joint[0][:]\n",
    "borda_right[-1] = X_train_joint[-1][:]\n",
    "\n",
    "rank_left, rank_right = np.zeros((nt, n)), np.zeros((nt, n))\n",
    "\n",
    "rank_left[0] = stats.rankdata(borda_left[0], method = 'min')\n",
    "rank_right[-1] = stats.rankdata(borda_right[-1], method = 'min')\n",
    "\n",
    "\n",
    "buffer = 1000\n",
    "\n",
    "diff = np.zeros(nt - 1)\n",
    "\n",
    "for i in range(1, nt):\n",
    "    borda_left[i] = borda_left[i - 1] + X_train_joint[i] * (2 * y_train_joint[i] - 1)\n",
    "    borda_right[nt - 1 - i] = borda_right[nt - 1 - (i - 1)] + X_train_joint[nt - 1 - i] * (2 * y_train_joint[nt - 1 - i] - 1)\n",
    "    \n",
    "    rank_left[i] = stats.rankdata(borda_left[i], method = 'min')\n",
    "    rank_right[nt - 1 - i] = stats.rankdata(borda_right[nt - 1 - i], method = 'min')\n",
    "\n",
    "for i in range(nt - 1):\n",
    "    diff[i] = np.sum(np.abs(rank_left[i] - rank_right[i + 1]))"
   ]
  },
  {
   "cell_type": "code",
   "execution_count": null,
   "metadata": {
    "scrolled": true
   },
   "outputs": [],
   "source": [
    "plt.plot(np.arange(buffer, nt - buffer), diff[buffer:nt - buffer], '.')"
   ]
  },
  {
   "cell_type": "code",
   "execution_count": null,
   "metadata": {},
   "outputs": [],
   "source": []
  }
 ],
 "metadata": {
  "kernelspec": {
   "display_name": "Python 3",
   "language": "python",
   "name": "python3"
  },
  "language_info": {
   "codemirror_mode": {
    "name": "ipython",
    "version": 3
   },
   "file_extension": ".py",
   "mimetype": "text/x-python",
   "name": "python",
   "nbconvert_exporter": "python",
   "pygments_lexer": "ipython3",
   "version": "3.7.4"
  }
 },
 "nbformat": 4,
 "nbformat_minor": 2
}
